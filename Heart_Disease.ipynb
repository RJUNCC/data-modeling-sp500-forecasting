{
  "nbformat": 4,
  "nbformat_minor": 0,
  "metadata": {
    "colab": {
      "provenance": [],
      "toc_visible": true
    },
    "kernelspec": {
      "name": "python3",
      "display_name": "Python 3"
    },
    "language_info": {
      "name": "python"
    }
  },
  "cells": [
    {
      "cell_type": "code",
      "execution_count": 65,
      "metadata": {
        "colab": {
          "base_uri": "https://localhost:8080/"
        },
        "id": "-HLHX6n_h59H",
        "outputId": "0f2020ee-2499-4281-86b0-dcaf32b25069"
      },
      "outputs": [
        {
          "output_type": "stream",
          "name": "stdout",
          "text": [
            "Drive already mounted at /content/drive; to attempt to forcibly remount, call drive.mount(\"/content/drive\", force_remount=True).\n"
          ]
        }
      ],
      "source": [
        "from google.colab import drive\n",
        "drive.mount('/content/drive')"
      ]
    },
    {
      "cell_type": "markdown",
      "source": [
        "# Introduction\n",
        "---\n",
        "This project is about looking into the most significant variables for detecting a heart failure.\n",
        "\n",
        "# Data Introduction\n",
        "---\n",
        "This data is from Kaggle: https://www.kaggle.com/datasets/fedesoriano/heart-failure-prediction/data\n",
        "It contains 12 features:\n",
        "- 7 qualitative\n",
        "- 5 quantitative\n",
        "\n",
        "The target variable is `HeartDisease`:\n",
        "- 1 means that observation has detected a heart disease\n",
        "- 0 means that there is no heart disease\n",
        "\n",
        "We are interested in these variables, with descriptions according to Kaggle Data Card:\n",
        "- Age: I'm assuming the older someone is, the more likely they'll have a heart disease.\n",
        "- Sex: Male or female\n",
        "- ChestPainType: There are 4 different type's of chest pain in this dataset:\n",
        "  - TA: Typical Angina -\n",
        "  - ATA: Atypical Angina -\n",
        "  - NAP: Non-Anginal Pain -\n",
        "  - ASY: Asymptomatic -\n",
        "- RestBP: High resting BP might be a sign of a possible heart attack.\n",
        "- Cholesterol: A cholesterol above a certain threshold might cause a heart attack.\n",
        "- FastingBS: Fasting blood sugar:\n",
        "  - 1: if FastingBS > 120\n",
        "  - 0: Otherwise\n",
        "- RestingECG: 3 different levels\n",
        "  - Normal\n",
        "  - ST: having ST-T wave abnormality (depression)\n",
        "  - LVH: showing probable or definite left ventricular hypertrophy\n",
        "- MaxHR: Maximum heart rate achieved\n",
        "- ExerciseAngina: Exercise-induced angina with 2 outcomes\n",
        "  - Yes\n",
        "  - No\n",
        "- Oldpeak: ST - numeric value measured in depression\n",
        "- ST_Slope: slope of peak exercise ST segment\n",
        "  - Up: upsloping\n",
        "  - Flat: flat\n",
        "  - Down: downsloping"
      ],
      "metadata": {
        "id": "YPvy-vQuh-ti"
      }
    },
    {
      "cell_type": "code",
      "source": [
        "# import libraries\n",
        "import polars as pl\n",
        "import matplotlib.pyplot as plt\n",
        "import seaborn as sns\n",
        "import numpy as np"
      ],
      "metadata": {
        "id": "0y2XLylsjTxd"
      },
      "execution_count": 66,
      "outputs": []
    },
    {
      "cell_type": "code",
      "source": [
        "# import data with polars\n",
        "path = \"/content/drive/MyDrive/Data/heart.xls\"\n",
        "df = pl.read_csv(path)\n",
        "df.head()"
      ],
      "metadata": {
        "colab": {
          "base_uri": "https://localhost:8080/",
          "height": 275
        },
        "id": "Tuw-h-Ikh8i3",
        "outputId": "db37b5ca-f8c0-4e7b-d6dd-865a2ae61632"
      },
      "execution_count": 67,
      "outputs": [
        {
          "output_type": "execute_result",
          "data": {
            "text/plain": [
              "shape: (5, 12)\n",
              "┌─────┬─────┬───────────────┬───────────┬───┬────────────────┬─────────┬──────────┬──────────────┐\n",
              "│ Age ┆ Sex ┆ ChestPainType ┆ RestingBP ┆ … ┆ ExerciseAngina ┆ Oldpeak ┆ ST_Slope ┆ HeartDisease │\n",
              "│ --- ┆ --- ┆ ---           ┆ ---       ┆   ┆ ---            ┆ ---     ┆ ---      ┆ ---          │\n",
              "│ i64 ┆ str ┆ str           ┆ i64       ┆   ┆ str            ┆ f64     ┆ str      ┆ i64          │\n",
              "╞═════╪═════╪═══════════════╪═══════════╪═══╪════════════════╪═════════╪══════════╪══════════════╡\n",
              "│ 40  ┆ M   ┆ ATA           ┆ 140       ┆ … ┆ N              ┆ 0.0     ┆ Up       ┆ 0            │\n",
              "│ 49  ┆ F   ┆ NAP           ┆ 160       ┆ … ┆ N              ┆ 1.0     ┆ Flat     ┆ 1            │\n",
              "│ 37  ┆ M   ┆ ATA           ┆ 130       ┆ … ┆ N              ┆ 0.0     ┆ Up       ┆ 0            │\n",
              "│ 48  ┆ F   ┆ ASY           ┆ 138       ┆ … ┆ Y              ┆ 1.5     ┆ Flat     ┆ 1            │\n",
              "│ 54  ┆ M   ┆ NAP           ┆ 150       ┆ … ┆ N              ┆ 0.0     ┆ Up       ┆ 0            │\n",
              "└─────┴─────┴───────────────┴───────────┴───┴────────────────┴─────────┴──────────┴──────────────┘"
            ],
            "text/html": [
              "<div><style>\n",
              ".dataframe > thead > tr,\n",
              ".dataframe > tbody > tr {\n",
              "  text-align: right;\n",
              "  white-space: pre-wrap;\n",
              "}\n",
              "</style>\n",
              "<small>shape: (5, 12)</small><table border=\"1\" class=\"dataframe\"><thead><tr><th>Age</th><th>Sex</th><th>ChestPainType</th><th>RestingBP</th><th>Cholesterol</th><th>FastingBS</th><th>RestingECG</th><th>MaxHR</th><th>ExerciseAngina</th><th>Oldpeak</th><th>ST_Slope</th><th>HeartDisease</th></tr><tr><td>i64</td><td>str</td><td>str</td><td>i64</td><td>i64</td><td>i64</td><td>str</td><td>i64</td><td>str</td><td>f64</td><td>str</td><td>i64</td></tr></thead><tbody><tr><td>40</td><td>&quot;M&quot;</td><td>&quot;ATA&quot;</td><td>140</td><td>289</td><td>0</td><td>&quot;Normal&quot;</td><td>172</td><td>&quot;N&quot;</td><td>0.0</td><td>&quot;Up&quot;</td><td>0</td></tr><tr><td>49</td><td>&quot;F&quot;</td><td>&quot;NAP&quot;</td><td>160</td><td>180</td><td>0</td><td>&quot;Normal&quot;</td><td>156</td><td>&quot;N&quot;</td><td>1.0</td><td>&quot;Flat&quot;</td><td>1</td></tr><tr><td>37</td><td>&quot;M&quot;</td><td>&quot;ATA&quot;</td><td>130</td><td>283</td><td>0</td><td>&quot;ST&quot;</td><td>98</td><td>&quot;N&quot;</td><td>0.0</td><td>&quot;Up&quot;</td><td>0</td></tr><tr><td>48</td><td>&quot;F&quot;</td><td>&quot;ASY&quot;</td><td>138</td><td>214</td><td>0</td><td>&quot;Normal&quot;</td><td>108</td><td>&quot;Y&quot;</td><td>1.5</td><td>&quot;Flat&quot;</td><td>1</td></tr><tr><td>54</td><td>&quot;M&quot;</td><td>&quot;NAP&quot;</td><td>150</td><td>195</td><td>0</td><td>&quot;Normal&quot;</td><td>122</td><td>&quot;N&quot;</td><td>0.0</td><td>&quot;Up&quot;</td><td>0</td></tr></tbody></table></div>"
            ]
          },
          "metadata": {},
          "execution_count": 67
        }
      ]
    },
    {
      "cell_type": "code",
      "source": [
        "df[\"RestingECG\"].value_counts()"
      ],
      "metadata": {
        "colab": {
          "base_uri": "https://localhost:8080/",
          "height": 192
        },
        "id": "Bjrmr_B0slwL",
        "outputId": "cf5394b3-aa2d-4e9b-fa0e-0591d49e183f"
      },
      "execution_count": 68,
      "outputs": [
        {
          "output_type": "execute_result",
          "data": {
            "text/plain": [
              "shape: (3, 2)\n",
              "┌────────────┬───────┐\n",
              "│ RestingECG ┆ count │\n",
              "│ ---        ┆ ---   │\n",
              "│ str        ┆ u32   │\n",
              "╞════════════╪═══════╡\n",
              "│ Normal     ┆ 552   │\n",
              "│ LVH        ┆ 188   │\n",
              "│ ST         ┆ 178   │\n",
              "└────────────┴───────┘"
            ],
            "text/html": [
              "<div><style>\n",
              ".dataframe > thead > tr,\n",
              ".dataframe > tbody > tr {\n",
              "  text-align: right;\n",
              "  white-space: pre-wrap;\n",
              "}\n",
              "</style>\n",
              "<small>shape: (3, 2)</small><table border=\"1\" class=\"dataframe\"><thead><tr><th>RestingECG</th><th>count</th></tr><tr><td>str</td><td>u32</td></tr></thead><tbody><tr><td>&quot;Normal&quot;</td><td>552</td></tr><tr><td>&quot;LVH&quot;</td><td>188</td></tr><tr><td>&quot;ST&quot;</td><td>178</td></tr></tbody></table></div>"
            ]
          },
          "metadata": {},
          "execution_count": 68
        }
      ]
    },
    {
      "cell_type": "markdown",
      "source": [
        "# Data Information\n",
        "---"
      ],
      "metadata": {
        "id": "El7HwktClq9q"
      }
    },
    {
      "cell_type": "code",
      "source": [
        "df.glimpse()"
      ],
      "metadata": {
        "colab": {
          "base_uri": "https://localhost:8080/"
        },
        "id": "LfzhBP9DkX0h",
        "outputId": "dbb597d0-ed1e-4e2a-a8d2-ffe14df7079a"
      },
      "execution_count": 69,
      "outputs": [
        {
          "output_type": "stream",
          "name": "stdout",
          "text": [
            "Rows: 918\n",
            "Columns: 12\n",
            "$ Age            <i64> 40, 49, 37, 48, 54, 39, 45, 54, 37, 48\n",
            "$ Sex            <str> 'M', 'F', 'M', 'F', 'M', 'M', 'F', 'M', 'M', 'F'\n",
            "$ ChestPainType  <str> 'ATA', 'NAP', 'ATA', 'ASY', 'NAP', 'NAP', 'ATA', 'ATA', 'ASY', 'ATA'\n",
            "$ RestingBP      <i64> 140, 160, 130, 138, 150, 120, 130, 110, 140, 120\n",
            "$ Cholesterol    <i64> 289, 180, 283, 214, 195, 339, 237, 208, 207, 284\n",
            "$ FastingBS      <i64> 0, 0, 0, 0, 0, 0, 0, 0, 0, 0\n",
            "$ RestingECG     <str> 'Normal', 'Normal', 'ST', 'Normal', 'Normal', 'Normal', 'Normal', 'Normal', 'Normal', 'Normal'\n",
            "$ MaxHR          <i64> 172, 156, 98, 108, 122, 170, 170, 142, 130, 120\n",
            "$ ExerciseAngina <str> 'N', 'N', 'N', 'Y', 'N', 'N', 'N', 'N', 'Y', 'N'\n",
            "$ Oldpeak        <f64> 0.0, 1.0, 0.0, 1.5, 0.0, 0.0, 0.0, 0.0, 1.5, 0.0\n",
            "$ ST_Slope       <str> 'Up', 'Flat', 'Up', 'Flat', 'Up', 'Up', 'Up', 'Up', 'Flat', 'Up'\n",
            "$ HeartDisease   <i64> 0, 1, 0, 1, 0, 0, 0, 0, 1, 0\n",
            "\n"
          ]
        }
      ]
    },
    {
      "cell_type": "code",
      "source": [
        "df.describe()"
      ],
      "metadata": {
        "colab": {
          "base_uri": "https://localhost:8080/",
          "height": 400
        },
        "id": "CmkLRJAClFkz",
        "outputId": "a154a836-e9c8-4671-dc62-67584adcf0a3"
      },
      "execution_count": 70,
      "outputs": [
        {
          "output_type": "execute_result",
          "data": {
            "text/plain": [
              "shape: (9, 13)\n",
              "┌────────────┬───────────┬──────┬─────────────┬───┬─────────────┬──────────┬──────────┬────────────┐\n",
              "│ statistic  ┆ Age       ┆ Sex  ┆ ChestPainTy ┆ … ┆ ExerciseAng ┆ Oldpeak  ┆ ST_Slope ┆ HeartDisea │\n",
              "│ ---        ┆ ---       ┆ ---  ┆ pe          ┆   ┆ ina         ┆ ---      ┆ ---      ┆ se         │\n",
              "│ str        ┆ f64       ┆ str  ┆ ---         ┆   ┆ ---         ┆ f64      ┆ str      ┆ ---        │\n",
              "│            ┆           ┆      ┆ str         ┆   ┆ str         ┆          ┆          ┆ f64        │\n",
              "╞════════════╪═══════════╪══════╪═════════════╪═══╪═════════════╪══════════╪══════════╪════════════╡\n",
              "│ count      ┆ 918.0     ┆ 918  ┆ 918         ┆ … ┆ 918         ┆ 918.0    ┆ 918      ┆ 918.0      │\n",
              "│ null_count ┆ 0.0       ┆ 0    ┆ 0           ┆ … ┆ 0           ┆ 0.0      ┆ 0        ┆ 0.0        │\n",
              "│ mean       ┆ 53.510893 ┆ null ┆ null        ┆ … ┆ null        ┆ 0.887364 ┆ null     ┆ 0.553377   │\n",
              "│ std        ┆ 9.432617  ┆ null ┆ null        ┆ … ┆ null        ┆ 1.06657  ┆ null     ┆ 0.497414   │\n",
              "│ min        ┆ 28.0      ┆ F    ┆ ASY         ┆ … ┆ N           ┆ -2.6     ┆ Down     ┆ 0.0        │\n",
              "│ 25%        ┆ 47.0      ┆ null ┆ null        ┆ … ┆ null        ┆ 0.0      ┆ null     ┆ 0.0        │\n",
              "│ 50%        ┆ 54.0      ┆ null ┆ null        ┆ … ┆ null        ┆ 0.6      ┆ null     ┆ 1.0        │\n",
              "│ 75%        ┆ 60.0      ┆ null ┆ null        ┆ … ┆ null        ┆ 1.5      ┆ null     ┆ 1.0        │\n",
              "│ max        ┆ 77.0      ┆ M    ┆ TA          ┆ … ┆ Y           ┆ 6.2      ┆ Up       ┆ 1.0        │\n",
              "└────────────┴───────────┴──────┴─────────────┴───┴─────────────┴──────────┴──────────┴────────────┘"
            ],
            "text/html": [
              "<div><style>\n",
              ".dataframe > thead > tr,\n",
              ".dataframe > tbody > tr {\n",
              "  text-align: right;\n",
              "  white-space: pre-wrap;\n",
              "}\n",
              "</style>\n",
              "<small>shape: (9, 13)</small><table border=\"1\" class=\"dataframe\"><thead><tr><th>statistic</th><th>Age</th><th>Sex</th><th>ChestPainType</th><th>RestingBP</th><th>Cholesterol</th><th>FastingBS</th><th>RestingECG</th><th>MaxHR</th><th>ExerciseAngina</th><th>Oldpeak</th><th>ST_Slope</th><th>HeartDisease</th></tr><tr><td>str</td><td>f64</td><td>str</td><td>str</td><td>f64</td><td>f64</td><td>f64</td><td>str</td><td>f64</td><td>str</td><td>f64</td><td>str</td><td>f64</td></tr></thead><tbody><tr><td>&quot;count&quot;</td><td>918.0</td><td>&quot;918&quot;</td><td>&quot;918&quot;</td><td>918.0</td><td>918.0</td><td>918.0</td><td>&quot;918&quot;</td><td>918.0</td><td>&quot;918&quot;</td><td>918.0</td><td>&quot;918&quot;</td><td>918.0</td></tr><tr><td>&quot;null_count&quot;</td><td>0.0</td><td>&quot;0&quot;</td><td>&quot;0&quot;</td><td>0.0</td><td>0.0</td><td>0.0</td><td>&quot;0&quot;</td><td>0.0</td><td>&quot;0&quot;</td><td>0.0</td><td>&quot;0&quot;</td><td>0.0</td></tr><tr><td>&quot;mean&quot;</td><td>53.510893</td><td>null</td><td>null</td><td>132.396514</td><td>198.799564</td><td>0.233115</td><td>null</td><td>136.809368</td><td>null</td><td>0.887364</td><td>null</td><td>0.553377</td></tr><tr><td>&quot;std&quot;</td><td>9.432617</td><td>null</td><td>null</td><td>18.514154</td><td>109.384145</td><td>0.423046</td><td>null</td><td>25.460334</td><td>null</td><td>1.06657</td><td>null</td><td>0.497414</td></tr><tr><td>&quot;min&quot;</td><td>28.0</td><td>&quot;F&quot;</td><td>&quot;ASY&quot;</td><td>0.0</td><td>0.0</td><td>0.0</td><td>&quot;LVH&quot;</td><td>60.0</td><td>&quot;N&quot;</td><td>-2.6</td><td>&quot;Down&quot;</td><td>0.0</td></tr><tr><td>&quot;25%&quot;</td><td>47.0</td><td>null</td><td>null</td><td>120.0</td><td>173.0</td><td>0.0</td><td>null</td><td>120.0</td><td>null</td><td>0.0</td><td>null</td><td>0.0</td></tr><tr><td>&quot;50%&quot;</td><td>54.0</td><td>null</td><td>null</td><td>130.0</td><td>223.0</td><td>0.0</td><td>null</td><td>138.0</td><td>null</td><td>0.6</td><td>null</td><td>1.0</td></tr><tr><td>&quot;75%&quot;</td><td>60.0</td><td>null</td><td>null</td><td>140.0</td><td>267.0</td><td>0.0</td><td>null</td><td>156.0</td><td>null</td><td>1.5</td><td>null</td><td>1.0</td></tr><tr><td>&quot;max&quot;</td><td>77.0</td><td>&quot;M&quot;</td><td>&quot;TA&quot;</td><td>200.0</td><td>603.0</td><td>1.0</td><td>&quot;ST&quot;</td><td>202.0</td><td>&quot;Y&quot;</td><td>6.2</td><td>&quot;Up&quot;</td><td>1.0</td></tr></tbody></table></div>"
            ]
          },
          "metadata": {},
          "execution_count": 70
        }
      ]
    },
    {
      "cell_type": "code",
      "source": [
        "df.null_count()"
      ],
      "metadata": {
        "colab": {
          "base_uri": "https://localhost:8080/",
          "height": 149
        },
        "id": "eQw2dcD9ljGg",
        "outputId": "794e9a9a-09ac-4269-b656-642e4d9ff400"
      },
      "execution_count": 71,
      "outputs": [
        {
          "output_type": "execute_result",
          "data": {
            "text/plain": [
              "shape: (1, 12)\n",
              "┌─────┬─────┬───────────────┬───────────┬───┬────────────────┬─────────┬──────────┬──────────────┐\n",
              "│ Age ┆ Sex ┆ ChestPainType ┆ RestingBP ┆ … ┆ ExerciseAngina ┆ Oldpeak ┆ ST_Slope ┆ HeartDisease │\n",
              "│ --- ┆ --- ┆ ---           ┆ ---       ┆   ┆ ---            ┆ ---     ┆ ---      ┆ ---          │\n",
              "│ u32 ┆ u32 ┆ u32           ┆ u32       ┆   ┆ u32            ┆ u32     ┆ u32      ┆ u32          │\n",
              "╞═════╪═════╪═══════════════╪═══════════╪═══╪════════════════╪═════════╪══════════╪══════════════╡\n",
              "│ 0   ┆ 0   ┆ 0             ┆ 0         ┆ … ┆ 0              ┆ 0       ┆ 0        ┆ 0            │\n",
              "└─────┴─────┴───────────────┴───────────┴───┴────────────────┴─────────┴──────────┴──────────────┘"
            ],
            "text/html": [
              "<div><style>\n",
              ".dataframe > thead > tr,\n",
              ".dataframe > tbody > tr {\n",
              "  text-align: right;\n",
              "  white-space: pre-wrap;\n",
              "}\n",
              "</style>\n",
              "<small>shape: (1, 12)</small><table border=\"1\" class=\"dataframe\"><thead><tr><th>Age</th><th>Sex</th><th>ChestPainType</th><th>RestingBP</th><th>Cholesterol</th><th>FastingBS</th><th>RestingECG</th><th>MaxHR</th><th>ExerciseAngina</th><th>Oldpeak</th><th>ST_Slope</th><th>HeartDisease</th></tr><tr><td>u32</td><td>u32</td><td>u32</td><td>u32</td><td>u32</td><td>u32</td><td>u32</td><td>u32</td><td>u32</td><td>u32</td><td>u32</td><td>u32</td></tr></thead><tbody><tr><td>0</td><td>0</td><td>0</td><td>0</td><td>0</td><td>0</td><td>0</td><td>0</td><td>0</td><td>0</td><td>0</td><td>0</td></tr></tbody></table></div>"
            ]
          },
          "metadata": {},
          "execution_count": 71
        }
      ]
    },
    {
      "cell_type": "markdown",
      "source": [
        "# Data Visualization\n",
        "---\n",
        "We want to check if there is a class imbalance with countplots. We also want to check the numerical features and see if there's any outliers. I also want to just split the categorical features and the numerical features, so that it's easier to work. I'm also going to turn `Age`, `RestingBP`, `Cholesterol`, and, `MaxHR` to Float's and keep the integer types as integers because they are encoded categorical variables."
      ],
      "metadata": {
        "id": "0mjo0ydTl8TS"
      }
    },
    {
      "cell_type": "code",
      "source": [
        "# class imbalance\n",
        "df[\"HeartDisease\"].value_counts().to_pandas().plot(kind=\"bar\")\n",
        "plt.show()"
      ],
      "metadata": {
        "colab": {
          "base_uri": "https://localhost:8080/",
          "height": 425
        },
        "id": "d8Ajck0ouF9A",
        "outputId": "e997da9f-8bc0-49e7-c117-36b45f533701"
      },
      "execution_count": 72,
      "outputs": [
        {
          "output_type": "display_data",
          "data": {
            "text/plain": [
              "<Figure size 640x480 with 1 Axes>"
            ],
            "image/png": "[encoded data removed]"
          },
          "metadata": {}
        }
      ]
    },
    {
      "cell_type": "markdown",
      "source": [
        "- So there is a bit of a class imbalance, and we wil use SMOTE later for \"over-sampling\" so the classes can be equal."
      ],
      "metadata": {
        "id": "2c3dZvntuRip"
      }
    },
    {
      "cell_type": "code",
      "source": [
        "# convert Age, RestingBP, Cholesterol, and MaxHR to floats and qualitative strings and ints to categorical\n",
        "df = df.with_columns(\n",
        "    pl.col(\"Age\").cast(pl.Float64),\n",
        "    pl.col(\"RestingBP\").cast(pl.Float64),\n",
        "    pl.col(\"Cholesterol\").cast(pl.Float64),\n",
        "    pl.col(\"MaxHR\").cast(pl.Float64),\n",
        "    pl.col(\"FastingBS\").cast(pl.Utf8).cast(pl.Categorical),\n",
        "    pl.col(\"Sex\").cast(pl.Utf8).cast(pl.Categorical),\n",
        "    pl.col(\"ChestPainType\").cast(pl.Utf8).cast(pl.Categorical),\n",
        "    pl.col(\"RestingECG\").cast(pl.Utf8).cast(pl.Categorical),\n",
        "    pl.col(\"ExerciseAngina\").cast(pl.Utf8).cast(pl.Categorical),\n",
        "    pl.col(\"ST_Slope\").cast(pl.Utf8).cast(pl.Categorical),\n",
        "    pl.col(\"HeartDisease\").cast(pl.Utf8).cast(pl.Categorical)\n",
        ")\n",
        "df.glimpse()"
      ],
      "metadata": {
        "colab": {
          "base_uri": "https://localhost:8080/"
        },
        "id": "y36I2iyTv4Yk",
        "outputId": "965c7c70-4fd0-4b3a-f8c3-052fb7ca0a85"
      },
      "execution_count": 73,
      "outputs": [
        {
          "output_type": "stream",
          "name": "stdout",
          "text": [
            "Rows: 918\n",
            "Columns: 12\n",
            "$ Age            <f64> 40.0, 49.0, 37.0, 48.0, 54.0, 39.0, 45.0, 54.0, 37.0, 48.0\n",
            "$ Sex            <cat> M, F, M, F, M, M, F, M, M, F\n",
            "$ ChestPainType  <cat> ATA, NAP, ATA, ASY, NAP, NAP, ATA, ATA, ASY, ATA\n",
            "$ RestingBP      <f64> 140.0, 160.0, 130.0, 138.0, 150.0, 120.0, 130.0, 110.0, 140.0, 120.0\n",
            "$ Cholesterol    <f64> 289.0, 180.0, 283.0, 214.0, 195.0, 339.0, 237.0, 208.0, 207.0, 284.0\n",
            "$ FastingBS      <cat> 0, 0, 0, 0, 0, 0, 0, 0, 0, 0\n",
            "$ RestingECG     <cat> Normal, Normal, ST, Normal, Normal, Normal, Normal, Normal, Normal, Normal\n",
            "$ MaxHR          <f64> 172.0, 156.0, 98.0, 108.0, 122.0, 170.0, 170.0, 142.0, 130.0, 120.0\n",
            "$ ExerciseAngina <cat> N, N, N, Y, N, N, N, N, Y, N\n",
            "$ Oldpeak        <f64> 0.0, 1.0, 0.0, 1.5, 0.0, 0.0, 0.0, 0.0, 1.5, 0.0\n",
            "$ ST_Slope       <cat> Up, Flat, Up, Flat, Up, Up, Up, Up, Flat, Up\n",
            "$ HeartDisease   <cat> 0, 1, 0, 1, 0, 0, 0, 0, 1, 0\n",
            "\n"
          ]
        }
      ]
    },
    {
      "cell_type": "code",
      "source": [
        "num_vars = df.select([col for col in df.columns if df[col].dtype == pl.Float64])\n",
        "cat_vars = df.select([col for col in df.columns if df[col].dtype == pl.Categorical ])\n",
        "num_vars, cat_vars"
      ],
      "metadata": {
        "colab": {
          "base_uri": "https://localhost:8080/"
        },
        "id": "uG2W40XJufoI",
        "outputId": "b076f6fe-ee83-42fe-a661-6a52d8ad49cb"
      },
      "execution_count": 74,
      "outputs": [
        {
          "output_type": "execute_result",
          "data": {
            "text/plain": [
              "(shape: (918, 5)\n",
              " ┌──────┬───────────┬─────────────┬───────┬─────────┐\n",
              " │ Age  ┆ RestingBP ┆ Cholesterol ┆ MaxHR ┆ Oldpeak │\n",
              " │ ---  ┆ ---       ┆ ---         ┆ ---   ┆ ---     │\n",
              " │ f64  ┆ f64       ┆ f64         ┆ f64   ┆ f64     │\n",
              " ╞══════╪═══════════╪═════════════╪═══════╪═════════╡\n",
              " │ 40.0 ┆ 140.0     ┆ 289.0       ┆ 172.0 ┆ 0.0     │\n",
              " │ 49.0 ┆ 160.0     ┆ 180.0       ┆ 156.0 ┆ 1.0     │\n",
              " │ 37.0 ┆ 130.0     ┆ 283.0       ┆ 98.0  ┆ 0.0     │\n",
              " │ 48.0 ┆ 138.0     ┆ 214.0       ┆ 108.0 ┆ 1.5     │\n",
              " │ 54.0 ┆ 150.0     ┆ 195.0       ┆ 122.0 ┆ 0.0     │\n",
              " │ …    ┆ …         ┆ …           ┆ …     ┆ …       │\n",
              " │ 45.0 ┆ 110.0     ┆ 264.0       ┆ 132.0 ┆ 1.2     │\n",
              " │ 68.0 ┆ 144.0     ┆ 193.0       ┆ 141.0 ┆ 3.4     │\n",
              " │ 57.0 ┆ 130.0     ┆ 131.0       ┆ 115.0 ┆ 1.2     │\n",
              " │ 57.0 ┆ 130.0     ┆ 236.0       ┆ 174.0 ┆ 0.0     │\n",
              " │ 38.0 ┆ 138.0     ┆ 175.0       ┆ 173.0 ┆ 0.0     │\n",
              " └──────┴───────────┴─────────────┴───────┴─────────┘,\n",
              " shape: (918, 7)\n",
              " ┌─────┬───────────────┬───────────┬────────────┬────────────────┬──────────┬──────────────┐\n",
              " │ Sex ┆ ChestPainType ┆ FastingBS ┆ RestingECG ┆ ExerciseAngina ┆ ST_Slope ┆ HeartDisease │\n",
              " │ --- ┆ ---           ┆ ---       ┆ ---        ┆ ---            ┆ ---      ┆ ---          │\n",
              " │ cat ┆ cat           ┆ cat       ┆ cat        ┆ cat            ┆ cat      ┆ cat          │\n",
              " ╞═════╪═══════════════╪═══════════╪════════════╪════════════════╪══════════╪══════════════╡\n",
              " │ M   ┆ ATA           ┆ 0         ┆ Normal     ┆ N              ┆ Up       ┆ 0            │\n",
              " │ F   ┆ NAP           ┆ 0         ┆ Normal     ┆ N              ┆ Flat     ┆ 1            │\n",
              " │ M   ┆ ATA           ┆ 0         ┆ ST         ┆ N              ┆ Up       ┆ 0            │\n",
              " │ F   ┆ ASY           ┆ 0         ┆ Normal     ┆ Y              ┆ Flat     ┆ 1            │\n",
              " │ M   ┆ NAP           ┆ 0         ┆ Normal     ┆ N              ┆ Up       ┆ 0            │\n",
              " │ …   ┆ …             ┆ …         ┆ …          ┆ …              ┆ …        ┆ …            │\n",
              " │ M   ┆ TA            ┆ 0         ┆ Normal     ┆ N              ┆ Flat     ┆ 1            │\n",
              " │ M   ┆ ASY           ┆ 1         ┆ Normal     ┆ N              ┆ Flat     ┆ 1            │\n",
              " │ M   ┆ ASY           ┆ 0         ┆ Normal     ┆ Y              ┆ Flat     ┆ 1            │\n",
              " │ F   ┆ ATA           ┆ 0         ┆ LVH        ┆ N              ┆ Flat     ┆ 1            │\n",
              " │ M   ┆ NAP           ┆ 0         ┆ Normal     ┆ N              ┆ Up       ┆ 0            │\n",
              " └─────┴───────────────┴───────────┴────────────┴────────────────┴──────────┴──────────────┘)"
            ]
          },
          "metadata": {},
          "execution_count": 74
        }
      ]
    },
    {
      "cell_type": "code",
      "source": [
        "for col in cat_vars.columns:\n",
        "  if col != \"HeartDisease\":\n",
        "    df[col].value_counts().to_pandas().plot(kind='barh', x=col, y=\"count\")\n",
        "    plt.ylabel(col)\n",
        "    plt.show()"
      ],
      "metadata": {
        "colab": {
          "base_uri": "https://localhost:8080/",
          "height": 1000
        },
        "id": "Dm7t8FdgxHk4",
        "outputId": "0f4c457f-0401-412d-a91e-3a2eeae584e8"
      },
      "execution_count": 75,
      "outputs": [
        {
          "output_type": "display_data",
          "data": {
            "text/plain": [
              "<Figure size 640x480 with 1 Axes>"
            ],
            "image/png": "[encoded data removed]"
          },
          "metadata": {}
        },
        {
          "output_type": "display_data",
          "data": {
            "text/plain": [
              "<Figure size 640x480 with 1 Axes>"
            ],
            "image/png": "[encoded data removed]"
          },
          "metadata": {}
        },
        {
          "output_type": "display_data",
          "data": {
            "text/plain": [
              "<Figure size 640x480 with 1 Axes>"
            ],
            "image/png": "[encoded data removed]"
          },
          "metadata": {}
        },
        {
          "output_type": "display_data",
          "data": {
            "text/plain": [
              "<Figure size 640x480 with 1 Axes>"
            ],
            "image/png": "[encoded data removed]"
          },
          "metadata": {}
        },
        {
          "output_type": "display_data",
          "data": {
            "text/plain": [
              "<Figure size 640x480 with 1 Axes>"
            ],
            "image/png": "[encoded data removed]"
          },
          "metadata": {}
        },
        {
          "output_type": "display_data",
          "data": {
            "text/plain": [
              "<Figure size 640x480 with 1 Axes>"
            ],
            "image/png": "[encoded data removed]"
          },
          "metadata": {}
        }
      ]
    },
    {
      "cell_type": "code",
      "source": [
        "for col in num_vars:\n",
        "  sns.boxplot(data=df, x=col)\n",
        "  plt.show()"
      ],
      "metadata": {
        "colab": {
          "base_uri": "https://localhost:8080/",
          "height": 1000
        },
        "id": "WKK-RtWs4VA6",
        "outputId": "f737df09-fc86-4847-ef92-ce745184a2af"
      },
      "execution_count": 76,
      "outputs": [
        {
          "output_type": "display_data",
          "data": {
            "text/plain": [
              "<Figure size 640x480 with 1 Axes>"
            ],
            "image/png": "[encoded data removed]"
          },
          "metadata": {}
        },
        {
          "output_type": "display_data",
          "data": {
            "text/plain": [
              "<Figure size 640x480 with 1 Axes>"
            ],
            "image/png": "[encoded data removed]"
          },
          "metadata": {}
        },
        {
          "output_type": "display_data",
          "data": {
            "text/plain": [
              "<Figure size 640x480 with 1 Axes>"
            ],
            "image/png": "[encoded data removed]"
          },
          "metadata": {}
        },
        {
          "output_type": "display_data",
          "data": {
            "text/plain": [
              "<Figure size 640x480 with 1 Axes>"
            ],
            "image/png": "[encoded data removed]"
          },
          "metadata": {}
        },
        {
          "output_type": "display_data",
          "data": {
            "text/plain": [
              "<Figure size 640x480 with 1 Axes>"
            ],
            "image/png": "[encoded data removed]"
          },
          "metadata": {}
        }
      ]
    },
    {
      "cell_type": "markdown",
      "source": [
        "Let's see what the outliers look like using IQR threshold method. I think we should keep in mind that outliers for variables like cholesterol might serve a purpose. Really high cholesterol is surely going to cause some problems that need to be looked at. Also, if we look, there is a Resting BP at basically 0, which is probably not very good. It looks like we will remove the outliers that are on the left side/below the lower bound.  "
      ],
      "metadata": {
        "id": "IrVUcsbg5VVE"
      }
    },
    {
      "cell_type": "code",
      "source": [
        "# IQR threshold method\n",
        "def outlier_iqr(df, col):\n",
        "  q1 = df[col].quantile(0.25)\n",
        "  q3 = df[col].quantile(0.75)\n",
        "  iqr = q3 - q1\n",
        "  lower_bound = q1 - 1.5 * iqr\n",
        "  upper_bound = q3 + 1.5 * iqr\n",
        "  filter_series = pl.Series(df.select([pl.col(col).is_between(lower_bound, upper_bound)]))\n",
        "  return filter_series"
      ],
      "metadata": {
        "id": "7Rz6uCn05ecw"
      },
      "execution_count": 77,
      "outputs": []
    },
    {
      "cell_type": "code",
      "source": [
        "for col in num_vars.columns:\n",
        "  print(outlier_iqr(df, col).value_counts())"
      ],
      "metadata": {
        "colab": {
          "base_uri": "https://localhost:8080/"
        },
        "id": "o3gD_RWc5peq",
        "outputId": "307aa12d-896c-473b-8bff-3aa38a27e2df"
      },
      "execution_count": 78,
      "outputs": [
        {
          "output_type": "stream",
          "name": "stdout",
          "text": [
            "shape: (1, 2)\n",
            "┌──────┬───────┐\n",
            "│ Age  ┆ count │\n",
            "│ ---  ┆ ---   │\n",
            "│ bool ┆ u32   │\n",
            "╞══════╪═══════╡\n",
            "│ true ┆ 918   │\n",
            "└──────┴───────┘\n",
            "shape: (2, 2)\n",
            "┌───────────┬───────┐\n",
            "│ RestingBP ┆ count │\n",
            "│ ---       ┆ ---   │\n",
            "│ bool      ┆ u32   │\n",
            "╞═══════════╪═══════╡\n",
            "│ false     ┆ 28    │\n",
            "│ true      ┆ 890   │\n",
            "└───────────┴───────┘\n",
            "shape: (2, 2)\n",
            "┌─────────────┬───────┐\n",
            "│ Cholesterol ┆ count │\n",
            "│ ---         ┆ ---   │\n",
            "│ bool        ┆ u32   │\n",
            "╞═════════════╪═══════╡\n",
            "│ false       ┆ 183   │\n",
            "│ true        ┆ 735   │\n",
            "└─────────────┴───────┘\n",
            "shape: (2, 2)\n",
            "┌───────┬───────┐\n",
            "│ MaxHR ┆ count │\n",
            "│ ---   ┆ ---   │\n",
            "│ bool  ┆ u32   │\n",
            "╞═══════╪═══════╡\n",
            "│ false ┆ 2     │\n",
            "│ true  ┆ 916   │\n",
            "└───────┴───────┘\n",
            "shape: (2, 2)\n",
            "┌─────────┬───────┐\n",
            "│ Oldpeak ┆ count │\n",
            "│ ---     ┆ ---   │\n",
            "│ bool    ┆ u32   │\n",
            "╞═════════╪═══════╡\n",
            "│ false   ┆ 16    │\n",
            "│ true    ┆ 902   │\n",
            "└─────────┴───────┘\n"
          ]
        }
      ]
    },
    {
      "cell_type": "code",
      "source": [
        "# make function that removes lower bound outliers"
      ],
      "metadata": {
        "id": "YTmkJL4o8Ixh"
      },
      "execution_count": 79,
      "outputs": []
    },
    {
      "cell_type": "code",
      "source": [
        "# remove the outliers below the lower bound but keep the upper bound outliers\n",
        "for col in num_vars.columns:\n",
        "  df = df.filter(outlier_iqr(df, col))\n",
        "  print(df.select([pl.col(col)]).describe())"
      ],
      "metadata": {
        "id": "36bq5aUY75CH",
        "colab": {
          "base_uri": "https://localhost:8080/"
        },
        "outputId": "9835abde-a818-4120-8274-35e4e0f2f9d8"
      },
      "execution_count": 80,
      "outputs": [
        {
          "output_type": "stream",
          "name": "stdout",
          "text": [
            "shape: (9, 2)\n",
            "┌────────────┬───────────┐\n",
            "│ statistic  ┆ Age       │\n",
            "│ ---        ┆ ---       │\n",
            "│ str        ┆ f64       │\n",
            "╞════════════╪═══════════╡\n",
            "│ count      ┆ 918.0     │\n",
            "│ null_count ┆ 0.0       │\n",
            "│ mean       ┆ 53.510893 │\n",
            "│ std        ┆ 9.432617  │\n",
            "│ min        ┆ 28.0      │\n",
            "│ 25%        ┆ 47.0      │\n",
            "│ 50%        ┆ 54.0      │\n",
            "│ 75%        ┆ 60.0      │\n",
            "│ max        ┆ 77.0      │\n",
            "└────────────┴───────────┘\n",
            "shape: (9, 2)\n",
            "┌────────────┬────────────┐\n",
            "│ statistic  ┆ RestingBP  │\n",
            "│ ---        ┆ ---        │\n",
            "│ str        ┆ f64        │\n",
            "╞════════════╪════════════╡\n",
            "│ count      ┆ 890.0      │\n",
            "│ null_count ┆ 0.0        │\n",
            "│ mean       ┆ 131.113483 │\n",
            "│ std        ┆ 15.839732  │\n",
            "│ min        ┆ 92.0       │\n",
            "│ 25%        ┆ 120.0      │\n",
            "│ 50%        ┆ 130.0      │\n",
            "│ 75%        ┆ 140.0      │\n",
            "│ max        ┆ 170.0      │\n",
            "└────────────┴────────────┘\n",
            "shape: (9, 2)\n",
            "┌────────────┬─────────────┐\n",
            "│ statistic  ┆ Cholesterol │\n",
            "│ ---        ┆ ---         │\n",
            "│ str        ┆ f64         │\n",
            "╞════════════╪═════════════╡\n",
            "│ count      ┆ 714.0       │\n",
            "│ null_count ┆ 0.0         │\n",
            "│ mean       ┆ 239.816527  │\n",
            "│ std        ┆ 50.562349   │\n",
            "│ min        ┆ 85.0        │\n",
            "│ 25%        ┆ 206.0       │\n",
            "│ 50%        ┆ 235.0       │\n",
            "│ 75%        ┆ 273.0       │\n",
            "│ max        ┆ 404.0       │\n",
            "└────────────┴─────────────┘\n",
            "shape: (9, 2)\n",
            "┌────────────┬────────────┐\n",
            "│ statistic  ┆ MaxHR      │\n",
            "│ ---        ┆ ---        │\n",
            "│ str        ┆ f64        │\n",
            "╞════════════╪════════════╡\n",
            "│ count      ┆ 714.0      │\n",
            "│ null_count ┆ 0.0        │\n",
            "│ mean       ┆ 140.390756 │\n",
            "│ std        ┆ 24.386439  │\n",
            "│ min        ┆ 71.0       │\n",
            "│ 25%        ┆ 122.0      │\n",
            "│ 50%        ┆ 140.0      │\n",
            "│ 75%        ┆ 160.0      │\n",
            "│ max        ┆ 202.0      │\n",
            "└────────────┴────────────┘\n",
            "shape: (9, 2)\n",
            "┌────────────┬──────────┐\n",
            "│ statistic  ┆ Oldpeak  │\n",
            "│ ---        ┆ ---      │\n",
            "│ str        ┆ f64      │\n",
            "╞════════════╪══════════╡\n",
            "│ count      ┆ 702.0    │\n",
            "│ null_count ┆ 0.0      │\n",
            "│ mean       ┆ 0.830912 │\n",
            "│ std        ┆ 0.959731 │\n",
            "│ min        ┆ -0.1     │\n",
            "│ 25%        ┆ 0.0      │\n",
            "│ 50%        ┆ 0.4      │\n",
            "│ 75%        ┆ 1.5      │\n",
            "│ max        ┆ 3.6      │\n",
            "└────────────┴──────────┘\n"
          ]
        }
      ]
    },
    {
      "cell_type": "markdown",
      "source": [
        "# Preprocessing Data\n",
        "---\n",
        "The first thing we will do is drop Customer ID because it provides no value to the dataset, and will not help with predictions/modeling."
      ],
      "metadata": {
        "id": "g91ryBlSlvAD"
      }
    },
    {
      "cell_type": "code",
      "source": [
        "# get dummy variables and drop the first dummy variable of each variable group because the other variables in each variable group will be 0\n",
        "df_dummies = pl.concat([df.select(num_vars), df.select(cat_vars).to_dummies(drop_first=True)], how=\"horizontal\")"
      ],
      "metadata": {
        "id": "KS_Ej4Q_vOce"
      },
      "execution_count": 81,
      "outputs": []
    },
    {
      "cell_type": "code",
      "source": [
        "df_dummies.head()"
      ],
      "metadata": {
        "colab": {
          "base_uri": "https://localhost:8080/",
          "height": 275
        },
        "id": "Vd1VGuXTxCDS",
        "outputId": "f08c0dae-f76e-4f53-ef19-ceeff8e4ef11"
      },
      "execution_count": 82,
      "outputs": [
        {
          "output_type": "execute_result",
          "data": {
            "text/plain": [
              "shape: (5, 16)\n",
              "┌──────┬───────────┬─────────────┬───────┬───┬─────────────┬─────────────┬────────────┬────────────┐\n",
              "│ Age  ┆ RestingBP ┆ Cholesterol ┆ MaxHR ┆ … ┆ ExerciseAng ┆ ST_Slope_Do ┆ ST_Slope_F ┆ HeartDisea │\n",
              "│ ---  ┆ ---       ┆ ---         ┆ ---   ┆   ┆ ina_Y       ┆ wn          ┆ lat        ┆ se_1       │\n",
              "│ f64  ┆ f64       ┆ f64         ┆ f64   ┆   ┆ ---         ┆ ---         ┆ ---        ┆ ---        │\n",
              "│      ┆           ┆             ┆       ┆   ┆ u8          ┆ u8          ┆ u8         ┆ u8         │\n",
              "╞══════╪═══════════╪═════════════╪═══════╪═══╪═════════════╪═════════════╪════════════╪════════════╡\n",
              "│ 40.0 ┆ 140.0     ┆ 289.0       ┆ 172.0 ┆ … ┆ 0           ┆ 0           ┆ 0          ┆ 0          │\n",
              "│ 49.0 ┆ 160.0     ┆ 180.0       ┆ 156.0 ┆ … ┆ 0           ┆ 0           ┆ 1          ┆ 1          │\n",
              "│ 37.0 ┆ 130.0     ┆ 283.0       ┆ 98.0  ┆ … ┆ 0           ┆ 0           ┆ 0          ┆ 0          │\n",
              "│ 48.0 ┆ 138.0     ┆ 214.0       ┆ 108.0 ┆ … ┆ 1           ┆ 0           ┆ 1          ┆ 1          │\n",
              "│ 54.0 ┆ 150.0     ┆ 195.0       ┆ 122.0 ┆ … ┆ 0           ┆ 0           ┆ 0          ┆ 0          │\n",
              "└──────┴───────────┴─────────────┴───────┴───┴─────────────┴─────────────┴────────────┴────────────┘"
            ],
            "text/html": [
              "<div><style>\n",
              ".dataframe > thead > tr,\n",
              ".dataframe > tbody > tr {\n",
              "  text-align: right;\n",
              "  white-space: pre-wrap;\n",
              "}\n",
              "</style>\n",
              "<small>shape: (5, 16)</small><table border=\"1\" class=\"dataframe\"><thead><tr><th>Age</th><th>RestingBP</th><th>Cholesterol</th><th>MaxHR</th><th>Oldpeak</th><th>Sex_F</th><th>ChestPainType_ASY</th><th>ChestPainType_NAP</th><th>ChestPainType_TA</th><th>FastingBS_1</th><th>RestingECG_LVH</th><th>RestingECG_ST</th><th>ExerciseAngina_Y</th><th>ST_Slope_Down</th><th>ST_Slope_Flat</th><th>HeartDisease_1</th></tr><tr><td>f64</td><td>f64</td><td>f64</td><td>f64</td><td>f64</td><td>u8</td><td>u8</td><td>u8</td><td>u8</td><td>u8</td><td>u8</td><td>u8</td><td>u8</td><td>u8</td><td>u8</td><td>u8</td></tr></thead><tbody><tr><td>40.0</td><td>140.0</td><td>289.0</td><td>172.0</td><td>0.0</td><td>0</td><td>0</td><td>0</td><td>0</td><td>0</td><td>0</td><td>0</td><td>0</td><td>0</td><td>0</td><td>0</td></tr><tr><td>49.0</td><td>160.0</td><td>180.0</td><td>156.0</td><td>1.0</td><td>1</td><td>0</td><td>1</td><td>0</td><td>0</td><td>0</td><td>0</td><td>0</td><td>0</td><td>1</td><td>1</td></tr><tr><td>37.0</td><td>130.0</td><td>283.0</td><td>98.0</td><td>0.0</td><td>0</td><td>0</td><td>0</td><td>0</td><td>0</td><td>0</td><td>1</td><td>0</td><td>0</td><td>0</td><td>0</td></tr><tr><td>48.0</td><td>138.0</td><td>214.0</td><td>108.0</td><td>1.5</td><td>1</td><td>1</td><td>0</td><td>0</td><td>0</td><td>0</td><td>0</td><td>1</td><td>0</td><td>1</td><td>1</td></tr><tr><td>54.0</td><td>150.0</td><td>195.0</td><td>122.0</td><td>0.0</td><td>0</td><td>0</td><td>1</td><td>0</td><td>0</td><td>0</td><td>0</td><td>0</td><td>0</td><td>0</td><td>0</td></tr></tbody></table></div>"
            ]
          },
          "metadata": {},
          "execution_count": 82
        }
      ]
    },
    {
      "cell_type": "code",
      "source": [
        "# create features and target variable\n",
        "X = df_dummies.drop(\"HeartDisease_1\")\n",
        "y = df_dummies[\"HeartDisease_1\"]"
      ],
      "metadata": {
        "id": "Nj4I3aFqliWZ"
      },
      "execution_count": 83,
      "outputs": []
    },
    {
      "cell_type": "code",
      "source": [
        "# split data\n",
        "from sklearn.model_selection import train_test_split\n",
        "X_train, X_test, y_train, y_test = train_test_split(X, y, test_size=0.2, random_state=42)"
      ],
      "metadata": {
        "id": "T7TlIT1rDMdv"
      },
      "execution_count": 84,
      "outputs": []
    },
    {
      "cell_type": "code",
      "source": [
        "# fix imbalancing\n",
        "from imblearn.over_sampling import SMOTE\n",
        "smote = SMOTE(random_state=42)\n",
        "X_train_resampled, y_train_resampled = smote.fit_resample(X_train.to_numpy(), y_train.to_numpy())"
      ],
      "metadata": {
        "id": "4qdAoxyAuXkT"
      },
      "execution_count": 85,
      "outputs": []
    },
    {
      "cell_type": "code",
      "source": [
        "pl.Series(y_train_resampled).value_counts(), y_train_resampled.shape"
      ],
      "metadata": {
        "colab": {
          "base_uri": "https://localhost:8080/"
        },
        "id": "B3JyCOZYDXiu",
        "outputId": "5a8a5288-a76f-4f4f-831f-897a9979a8e6"
      },
      "execution_count": 86,
      "outputs": [
        {
          "output_type": "execute_result",
          "data": {
            "text/plain": [
              "(shape: (2, 2)\n",
              " ┌─────┬───────┐\n",
              " │     ┆ count │\n",
              " │ --- ┆ ---   │\n",
              " │ u8  ┆ u32   │\n",
              " ╞═════╪═══════╡\n",
              " │ 1   ┆ 401   │\n",
              " │ 0   ┆ 401   │\n",
              " └─────┴───────┘,\n",
              " (802,))"
            ]
          },
          "metadata": {},
          "execution_count": 86
        }
      ]
    },
    {
      "cell_type": "code",
      "source": [
        "X_train_resampled.shape"
      ],
      "metadata": {
        "colab": {
          "base_uri": "https://localhost:8080/"
        },
        "id": "jwLiNhLDEzn7",
        "outputId": "387288cc-8b3d-4a25-8cd2-02a2f75eec06"
      },
      "execution_count": 87,
      "outputs": [
        {
          "output_type": "execute_result",
          "data": {
            "text/plain": [
              "(802, 15)"
            ]
          },
          "metadata": {},
          "execution_count": 87
        }
      ]
    },
    {
      "cell_type": "markdown",
      "source": [
        "# Modeling\n",
        "---\n",
        "We will use Logistic Regression, LightGBM, XGBoost, and KNN. We will compare the metrics on each and then build a final model afterwards. The optuna library will be used to tune hyperparameters."
      ],
      "metadata": {
        "id": "q7YMacl-F303"
      }
    },
    {
      "cell_type": "code",
      "source": [
        "!pip install optuna"
      ],
      "metadata": {
        "colab": {
          "base_uri": "https://localhost:8080/"
        },
        "id": "XG1MnEdSGZV5",
        "outputId": "14e0a794-024b-4c23-ab8a-6b3681f74ff9"
      },
      "execution_count": 88,
      "outputs": [
        {
          "output_type": "stream",
          "name": "stdout",
          "text": [
            "Requirement already satisfied: optuna in /usr/local/lib/python3.12/dist-packages (4.5.0)\n",
            "Requirement already satisfied: alembic>=1.5.0 in /usr/local/lib/python3.12/dist-packages (from optuna) (1.16.5)\n",
            "Requirement already satisfied: colorlog in /usr/local/lib/python3.12/dist-packages (from optuna) (6.9.0)\n",
            "Requirement already satisfied: numpy in /usr/local/lib/python3.12/dist-packages (from optuna) (2.0.2)\n",
            "Requirement already satisfied: packaging>=20.0 in /usr/local/lib/python3.12/dist-packages (from optuna) (25.0)\n",
            "Requirement already satisfied: sqlalchemy>=1.4.2 in /usr/local/lib/python3.12/dist-packages (from optuna) (2.0.43)\n",
            "Requirement already satisfied: tqdm in /usr/local/lib/python3.12/dist-packages (from optuna) (4.67.1)\n",
            "Requirement already satisfied: PyYAML in /usr/local/lib/python3.12/dist-packages (from optuna) (6.0.2)\n",
            "Requirement already satisfied: Mako in /usr/local/lib/python3.12/dist-packages (from alembic>=1.5.0->optuna) (1.3.10)\n",
            "Requirement already satisfied: typing-extensions>=4.12 in /usr/local/lib/python3.12/dist-packages (from alembic>=1.5.0->optuna) (4.15.0)\n",
            "Requirement already satisfied: greenlet>=1 in /usr/local/lib/python3.12/dist-packages (from sqlalchemy>=1.4.2->optuna) (3.2.4)\n",
            "Requirement already satisfied: MarkupSafe>=0.9.2 in /usr/local/lib/python3.12/dist-packages (from Mako->alembic>=1.5.0->optuna) (3.0.2)\n"
          ]
        }
      ]
    },
    {
      "cell_type": "code",
      "source": [
        "import optuna\n",
        "from xgboost import XGBClassifier\n",
        "from lightgbm import LGBMClassifier\n",
        "from sklearn.neighbors import KNeighborsClassifier\n",
        "from sklearn.linear_model import LogisticRegression\n",
        "from sklearn.metrics import accuracy_score, precision_score, recall_score, f1_score, roc_auc_score, confusion_matrix"
      ],
      "metadata": {
        "id": "pg-6zMjwFE5b"
      },
      "execution_count": 89,
      "outputs": []
    },
    {
      "cell_type": "code",
      "source": [
        "models = {\n",
        "    \"Logistic Regression\": LogisticRegression(),\n",
        "    \"LightGBM\": LGBMClassifier(),\n",
        "    \"XGBoost\": XGBClassifier(),\n",
        "    \"KNN\": KNeighborsClassifier()\n",
        "}"
      ],
      "metadata": {
        "id": "uw438Vo_HDCc"
      },
      "execution_count": 90,
      "outputs": []
    },
    {
      "cell_type": "code",
      "source": [
        "# create objective function for optuna\n",
        "def objective(trial, model_name):\n",
        "    if model_name == \"Logistic Regression\":\n",
        "        # Define hyperparameters to tune for Logistic Regression\n",
        "        logreg_c = trial.suggest_float(\"C\", 1e-5, 1e5, log=True)\n",
        "        logreg_solver = trial.suggest_categorical(\"solver\", [\"liblinear\", \"lbfgs\"])\n",
        "        model = LogisticRegression(C=logreg_c, solver=logreg_solver, random_state=42)\n",
        "\n",
        "    elif model_name == \"LightGBM\":\n",
        "        # Define hyperparameters to tune for LightGBM\n",
        "        lgbm_n_estimators = trial.suggest_int(\"n_estimators\", 50, 1000)\n",
        "        lgbm_learning_rate = trial.suggest_float(\"learning_rate\", 1e-5, 0.1, log=True)\n",
        "        lgbm_num_leaves = trial.suggest_int(\"num_leaves\", 2, 256)\n",
        "        lgbm_max_depth = trial.suggest_int(\"max_depth\", -1, 50)\n",
        "        lgbm_min_child_samples = trial.suggest_int(\"min_child_samples\", 5, 100)\n",
        "        model = LGBMClassifier(n_estimators=lgbm_n_estimators, learning_rate=lgbm_learning_rate,\n",
        "                               num_leaves=lgbm_num_leaves, max_depth=lgbm_max_depth,\n",
        "                               min_child_samples=lgbm_min_child_samples, random_state=42)\n",
        "\n",
        "    elif model_name == \"XGBoost\":\n",
        "        # Define hyperparameters to tune for XGBoost\n",
        "        xgb_n_estimators = trial.suggest_int(\"n_estimators\", 50, 1000)\n",
        "        xgb_learning_rate = trial.suggest_float(\"learning_rate\", 1e-5, 0.1, log=True)\n",
        "        xgb_max_depth = trial.suggest_int(\"max_depth\", 3, 10)\n",
        "        xgb_min_child_weight = trial.suggest_int(\"min_child_weight\", 1, 10)\n",
        "        xgb_gamma = trial.suggest_float(\"gamma\", 0, 1.0)\n",
        "        xgb_subsample = trial.suggest_float(\"subsample\", 0.6, 1.0)\n",
        "        xgb_colsample_bytree = trial.suggest_float(\"colsample_bytree\", 0.6, 1.0)\n",
        "        model = XGBClassifier(n_estimators=xgb_n_estimators, learning_rate=xgb_learning_rate,\n",
        "                              max_depth=xgb_max_depth, min_child_weight=xgb_min_child_weight,\n",
        "                              gamma=xgb_gamma, subsample=xgb_subsample,\n",
        "                              colsample_bytree=xgb_colsample_bytree, random_state=42)\n",
        "\n",
        "    elif model_name == \"KNN\":\n",
        "        # Define hyperparameters to tune for KNN\n",
        "        knn_n_neighbors = trial.suggest_int(\"n_neighbors\", 1, 30)\n",
        "        knn_weights = trial.suggest_categorical(\"weights\", [\"uniform\", \"distance\"])\n",
        "        knn_metric = trial.suggest_categorical(\"metric\", [\"euclidean\", \"manhattan\", \"minkowski\"])\n",
        "        model = KNeighborsClassifier(n_neighbors=knn_n_neighbors, weights=knn_weights, metric=knn_metric)\n",
        "\n",
        "    else:\n",
        "        raise ValueError(f\"Model '{model_name}' not supported.\")\n",
        "\n",
        "    # Train the model\n",
        "    model.fit(X_train_resampled, y_train_resampled)\n",
        "\n",
        "    # Evaluate the model on the test set\n",
        "    # Convert X_test to numpy array for prediction consistency\n",
        "    y_pred = model.predict(X_test.to_numpy())\n",
        "    roc_auc = roc_auc_score(y_test, y_pred)\n",
        "\n",
        "    return roc_auc"
      ],
      "metadata": {
        "id": "0CUAFLRSGYQi"
      },
      "execution_count": 91,
      "outputs": []
    },
    {
      "cell_type": "code",
      "source": [
        "# create studys\n",
        "study_logreg = optuna.create_study(direction=\"maximize\")\n",
        "study_lgbm = optuna.create_study(direction=\"maximize\")\n",
        "study_xgb = optuna.create_study(direction=\"maximize\")\n",
        "study_knn = optuna.create_study(direction=\"maximize\")"
      ],
      "metadata": {
        "colab": {
          "base_uri": "https://localhost:8080/"
        },
        "id": "Ivbui1eRH00X",
        "outputId": "d51a4971-02ac-4445-ec9a-b469389f1f5d"
      },
      "execution_count": 92,
      "outputs": [
        {
          "output_type": "stream",
          "name": "stderr",
          "text": [
            "[I 2025-09-29 15:52:22,816] A new study created in memory with name: no-name-baeec044-058e-4260-ba3f-2ef6b3908333\n",
            "[I 2025-09-29 15:52:22,820] A new study created in memory with name: no-name-ff75e4af-9502-477a-8499-908ca67420e8\n",
            "[I 2025-09-29 15:52:22,821] A new study created in memory with name: no-name-ed982b32-99cf-4b40-ae52-43ab3b1ae65e\n",
            "[I 2025-09-29 15:52:22,823] A new study created in memory with name: no-name-5c1b545c-2a3a-4774-8a25-56244d1b8da5\n"
          ]
        }
      ]
    },
    {
      "cell_type": "code",
      "source": [
        "# create study dictionary for looping\n",
        "studies = {\n",
        "    \"Logistic Regression\": study_logreg,\n",
        "    # \"LightGBM\": study_lgbm,\n",
        "    \"XGBoost\": study_xgb,\n",
        "    \"KNN\": study_knn\n",
        "}"
      ],
      "metadata": {
        "id": "9kiziSZBH7xN"
      },
      "execution_count": 93,
      "outputs": []
    },
    {
      "cell_type": "code",
      "metadata": {
        "colab": {
          "base_uri": "https://localhost:8080/",
          "height": 1000
        },
        "id": "8a22b5c2",
        "outputId": "168acc37-72f8-4604-bebd-b7507ce45a22"
      },
      "source": [
        "results = []\n",
        "\n",
        "for model_name, study in studies.items():\n",
        "    print(f\"Running Optuna study for {model_name}...\")\n",
        "    study.optimize(lambda trial: objective(trial, model_name), n_trials=50) # You can adjust the number of trials\n",
        "    best_params = study.best_params\n",
        "    best_roc_auc = study.best_value\n",
        "\n",
        "    # Train the best model and evaluate on test set to get other metrics\n",
        "    if model_name == \"Logistic Regression\":\n",
        "        best_model = LogisticRegression(**best_params, random_state=42)\n",
        "    elif model_name == \"LightGBM\":\n",
        "        best_model = LGBMClassifier(**best_params, random_state=42)\n",
        "    elif model_name == \"XGBoost\":\n",
        "        best_model = XGBClassifier(**best_params, random_state=42)\n",
        "    elif model_name == \"KNN\":\n",
        "        best_model = KNeighborsClassifier(**best_params)\n",
        "    else:\n",
        "        best_model = None # Should not happen with the current models\n",
        "\n",
        "    if best_model:\n",
        "        best_model.fit(X_train_resampled, y_train_resampled)\n",
        "        y_pred = best_model.predict(X_test)\n",
        "\n",
        "        accuracy = accuracy_score(y_test, y_pred)\n",
        "        precision = precision_score(y_test, y_pred)\n",
        "        recall = recall_score(y_test, y_pred)\n",
        "        f1 = f1_score(y_test, y_pred)\n",
        "        conf_matrix = confusion_matrix(y_test, y_pred)\n",
        "\n",
        "        results.append({\n",
        "            \"Model\": model_name,\n",
        "            \"Best Params\": best_params,\n",
        "            \"ROC AUC\": best_roc_auc,\n",
        "            \"Accuracy\": accuracy,\n",
        "            \"Precision\": precision,\n",
        "            \"Recall\": recall,\n",
        "            \"F1 Score\": f1,\n",
        "            \"Confusion Matrix\": conf_matrix.tolist() # Convert to list for easier storage/display\n",
        "        })\n",
        "\n",
        "results_df = pl.DataFrame(results)\n",
        "display(results_df)"
      ],
      "execution_count": 94,
      "outputs": [
        {
          "output_type": "stream",
          "name": "stderr",
          "text": [
            "[I 2025-09-29 15:52:22,870] Trial 0 finished with value: 0.6515353805073432 and parameters: {'C': 0.0012475136569655963, 'solver': 'liblinear'}. Best is trial 0 with value: 0.6515353805073432.\n",
            "[I 2025-09-29 15:52:22,887] Trial 1 finished with value: 0.8574462920257312 and parameters: {'C': 2772.470822350113, 'solver': 'liblinear'}. Best is trial 1 with value: 0.8574462920257312.\n",
            "[I 2025-09-29 15:52:22,903] Trial 2 finished with value: 0.8621191892219929 and parameters: {'C': 0.7104258089546136, 'solver': 'liblinear'}. Best is trial 2 with value: 0.8621191892219929.\n",
            "/usr/local/lib/python3.12/dist-packages/sklearn/linear_model/_logistic.py:465: ConvergenceWarning: lbfgs failed to converge (status=1):\n",
            "STOP: TOTAL NO. OF ITERATIONS REACHED LIMIT.\n",
            "\n",
            "Increase the number of iterations (max_iter) or scale the data as shown in:\n",
            "    https://scikit-learn.org/stable/modules/preprocessing.html\n",
            "Please also refer to the documentation for alternative solver options:\n",
            "    https://scikit-learn.org/stable/modules/linear_model.html#logistic-regression\n",
            "  n_iter_i = _check_optimize_result(\n",
            "[I 2025-09-29 15:52:22,991] Trial 3 finished with value: 0.8621191892219929 and parameters: {'C': 383.0156968184088, 'solver': 'lbfgs'}. Best is trial 2 with value: 0.8621191892219929.\n"
          ]
        },
        {
          "output_type": "stream",
          "name": "stdout",
          "text": [
            "Running Optuna study for Logistic Regression...\n"
          ]
        },
        {
          "output_type": "stream",
          "name": "stderr",
          "text": [
            "/usr/local/lib/python3.12/dist-packages/sklearn/linear_model/_logistic.py:465: ConvergenceWarning: lbfgs failed to converge (status=1):\n",
            "STOP: TOTAL NO. OF ITERATIONS REACHED LIMIT.\n",
            "\n",
            "Increase the number of iterations (max_iter) or scale the data as shown in:\n",
            "    https://scikit-learn.org/stable/modules/preprocessing.html\n",
            "Please also refer to the documentation for alternative solver options:\n",
            "    https://scikit-learn.org/stable/modules/linear_model.html#logistic-regression\n",
            "  n_iter_i = _check_optimize_result(\n",
            "[I 2025-09-29 15:52:23,100] Trial 4 finished with value: 0.8667920864182546 and parameters: {'C': 8.403999919760482, 'solver': 'lbfgs'}. Best is trial 4 with value: 0.8667920864182546.\n",
            "/usr/local/lib/python3.12/dist-packages/sklearn/linear_model/_logistic.py:465: ConvergenceWarning: lbfgs failed to converge (status=1):\n",
            "STOP: TOTAL NO. OF ITERATIONS REACHED LIMIT.\n",
            "\n",
            "Increase the number of iterations (max_iter) or scale the data as shown in:\n",
            "    https://scikit-learn.org/stable/modules/preprocessing.html\n",
            "Please also refer to the documentation for alternative solver options:\n",
            "    https://scikit-learn.org/stable/modules/linear_model.html#logistic-regression\n",
            "  n_iter_i = _check_optimize_result(\n",
            "[I 2025-09-29 15:52:23,266] Trial 5 finished with value: 0.8621191892219929 and parameters: {'C': 859.3548655665915, 'solver': 'lbfgs'}. Best is trial 4 with value: 0.8667920864182546.\n",
            "[I 2025-09-29 15:52:23,294] Trial 6 finished with value: 0.8574462920257312 and parameters: {'C': 174.2836491463577, 'solver': 'liblinear'}. Best is trial 4 with value: 0.8667920864182546.\n",
            "[I 2025-09-29 15:52:23,324] Trial 7 finished with value: 0.8574462920257312 and parameters: {'C': 1333.3258384852563, 'solver': 'liblinear'}. Best is trial 4 with value: 0.8667920864182546.\n",
            "[I 2025-09-29 15:52:23,406] Trial 8 finished with value: 0.6356960796213132 and parameters: {'C': 1.0690726117293159e-05, 'solver': 'lbfgs'}. Best is trial 4 with value: 0.8667920864182546.\n",
            "[I 2025-09-29 15:52:23,428] Trial 9 finished with value: 0.8621191892219929 and parameters: {'C': 1.9003258805068792, 'solver': 'liblinear'}. Best is trial 4 with value: 0.8667920864182546.\n",
            "/usr/local/lib/python3.12/dist-packages/sklearn/linear_model/_logistic.py:465: ConvergenceWarning: lbfgs failed to converge (status=1):\n",
            "STOP: TOTAL NO. OF ITERATIONS REACHED LIMIT.\n",
            "\n",
            "Increase the number of iterations (max_iter) or scale the data as shown in:\n",
            "    https://scikit-learn.org/stable/modules/preprocessing.html\n",
            "Please also refer to the documentation for alternative solver options:\n",
            "    https://scikit-learn.org/stable/modules/linear_model.html#logistic-regression\n",
            "  n_iter_i = _check_optimize_result(\n",
            "[I 2025-09-29 15:52:23,491] Trial 10 finished with value: 0.8667920864182546 and parameters: {'C': 82587.36504711995, 'solver': 'lbfgs'}. Best is trial 4 with value: 0.8667920864182546.\n",
            "/usr/local/lib/python3.12/dist-packages/sklearn/linear_model/_logistic.py:465: ConvergenceWarning: lbfgs failed to converge (status=1):\n",
            "STOP: TOTAL NO. OF ITERATIONS REACHED LIMIT.\n",
            "\n",
            "Increase the number of iterations (max_iter) or scale the data as shown in:\n",
            "    https://scikit-learn.org/stable/modules/preprocessing.html\n",
            "Please also refer to the documentation for alternative solver options:\n",
            "    https://scikit-learn.org/stable/modules/linear_model.html#logistic-regression\n",
            "  n_iter_i = _check_optimize_result(\n",
            "[I 2025-09-29 15:52:23,594] Trial 11 finished with value: 0.8667920864182546 and parameters: {'C': 53456.1079908103, 'solver': 'lbfgs'}. Best is trial 4 with value: 0.8667920864182546.\n",
            "/usr/local/lib/python3.12/dist-packages/sklearn/linear_model/_logistic.py:465: ConvergenceWarning: lbfgs failed to converge (status=1):\n",
            "STOP: TOTAL NO. OF ITERATIONS REACHED LIMIT.\n",
            "\n",
            "Increase the number of iterations (max_iter) or scale the data as shown in:\n",
            "    https://scikit-learn.org/stable/modules/preprocessing.html\n",
            "Please also refer to the documentation for alternative solver options:\n",
            "    https://scikit-learn.org/stable/modules/linear_model.html#logistic-regression\n",
            "  n_iter_i = _check_optimize_result(\n",
            "[I 2025-09-29 15:52:23,707] Trial 12 finished with value: 0.8621191892219929 and parameters: {'C': 1.5908341506305805, 'solver': 'lbfgs'}. Best is trial 4 with value: 0.8667920864182546.\n",
            "/usr/local/lib/python3.12/dist-packages/sklearn/linear_model/_logistic.py:465: ConvergenceWarning: lbfgs failed to converge (status=1):\n",
            "STOP: TOTAL NO. OF ITERATIONS REACHED LIMIT.\n",
            "\n",
            "Increase the number of iterations (max_iter) or scale the data as shown in:\n",
            "    https://scikit-learn.org/stable/modules/preprocessing.html\n",
            "Please also refer to the documentation for alternative solver options:\n",
            "    https://scikit-learn.org/stable/modules/linear_model.html#logistic-regression\n",
            "  n_iter_i = _check_optimize_result(\n",
            "[I 2025-09-29 15:52:23,827] Trial 13 finished with value: 0.8229154023546547 and parameters: {'C': 0.02202169667906525, 'solver': 'lbfgs'}. Best is trial 4 with value: 0.8667920864182546.\n",
            "/usr/local/lib/python3.12/dist-packages/sklearn/linear_model/_logistic.py:465: ConvergenceWarning: lbfgs failed to converge (status=1):\n",
            "STOP: TOTAL NO. OF ITERATIONS REACHED LIMIT.\n",
            "\n",
            "Increase the number of iterations (max_iter) or scale the data as shown in:\n",
            "    https://scikit-learn.org/stable/modules/preprocessing.html\n",
            "Please also refer to the documentation for alternative solver options:\n",
            "    https://scikit-learn.org/stable/modules/linear_model.html#logistic-regression\n",
            "  n_iter_i = _check_optimize_result(\n",
            "[I 2025-09-29 15:52:23,968] Trial 14 finished with value: 0.8667920864182546 and parameters: {'C': 72460.79470309486, 'solver': 'lbfgs'}. Best is trial 4 with value: 0.8667920864182546.\n",
            "/usr/local/lib/python3.12/dist-packages/sklearn/linear_model/_logistic.py:465: ConvergenceWarning: lbfgs failed to converge (status=1):\n",
            "STOP: TOTAL NO. OF ITERATIONS REACHED LIMIT.\n",
            "\n",
            "Increase the number of iterations (max_iter) or scale the data as shown in:\n",
            "    https://scikit-learn.org/stable/modules/preprocessing.html\n",
            "Please also refer to the documentation for alternative solver options:\n",
            "    https://scikit-learn.org/stable/modules/linear_model.html#logistic-regression\n",
            "  n_iter_i = _check_optimize_result(\n",
            "[I 2025-09-29 15:52:24,381] Trial 15 finished with value: 0.8621191892219929 and parameters: {'C': 38.28634795016478, 'solver': 'lbfgs'}. Best is trial 4 with value: 0.8667920864182546.\n",
            "/usr/local/lib/python3.12/dist-packages/sklearn/linear_model/_logistic.py:465: ConvergenceWarning: lbfgs failed to converge (status=1):\n",
            "STOP: TOTAL NO. OF ITERATIONS REACHED LIMIT.\n",
            "\n",
            "Increase the number of iterations (max_iter) or scale the data as shown in:\n",
            "    https://scikit-learn.org/stable/modules/preprocessing.html\n",
            "Please also refer to the documentation for alternative solver options:\n",
            "    https://scikit-learn.org/stable/modules/linear_model.html#logistic-regression\n",
            "  n_iter_i = _check_optimize_result(\n",
            "[I 2025-09-29 15:52:24,640] Trial 16 finished with value: 0.8088967107658697 and parameters: {'C': 0.011999139750925654, 'solver': 'lbfgs'}. Best is trial 4 with value: 0.8667920864182546.\n",
            "/usr/local/lib/python3.12/dist-packages/sklearn/linear_model/_logistic.py:465: ConvergenceWarning: lbfgs failed to converge (status=1):\n",
            "STOP: TOTAL NO. OF ITERATIONS REACHED LIMIT.\n",
            "\n",
            "Increase the number of iterations (max_iter) or scale the data as shown in:\n",
            "    https://scikit-learn.org/stable/modules/preprocessing.html\n",
            "Please also refer to the documentation for alternative solver options:\n",
            "    https://scikit-learn.org/stable/modules/linear_model.html#logistic-regression\n",
            "  n_iter_i = _check_optimize_result(\n",
            "[I 2025-09-29 15:52:25,095] Trial 17 finished with value: 0.8667920864182546 and parameters: {'C': 21.227773662549687, 'solver': 'lbfgs'}. Best is trial 4 with value: 0.8667920864182546.\n",
            "/usr/local/lib/python3.12/dist-packages/sklearn/linear_model/_logistic.py:465: ConvergenceWarning: lbfgs failed to converge (status=1):\n",
            "STOP: TOTAL NO. OF ITERATIONS REACHED LIMIT.\n",
            "\n",
            "Increase the number of iterations (max_iter) or scale the data as shown in:\n",
            "    https://scikit-learn.org/stable/modules/preprocessing.html\n",
            "Please also refer to the documentation for alternative solver options:\n",
            "    https://scikit-learn.org/stable/modules/linear_model.html#logistic-regression\n",
            "  n_iter_i = _check_optimize_result(\n",
            "[I 2025-09-29 15:52:25,297] Trial 18 finished with value: 0.8714649836145163 and parameters: {'C': 16611.21738520083, 'solver': 'lbfgs'}. Best is trial 18 with value: 0.8714649836145163.\n",
            "/usr/local/lib/python3.12/dist-packages/sklearn/linear_model/_logistic.py:465: ConvergenceWarning: lbfgs failed to converge (status=1):\n",
            "STOP: TOTAL NO. OF ITERATIONS REACHED LIMIT.\n",
            "\n",
            "Increase the number of iterations (max_iter) or scale the data as shown in:\n",
            "    https://scikit-learn.org/stable/modules/preprocessing.html\n",
            "Please also refer to the documentation for alternative solver options:\n",
            "    https://scikit-learn.org/stable/modules/linear_model.html#logistic-regression\n",
            "  n_iter_i = _check_optimize_result(\n",
            "[I 2025-09-29 15:52:25,663] Trial 19 finished with value: 0.8434276004369461 and parameters: {'C': 0.15007352849434621, 'solver': 'lbfgs'}. Best is trial 18 with value: 0.8714649836145163.\n",
            "/usr/local/lib/python3.12/dist-packages/sklearn/linear_model/_logistic.py:465: ConvergenceWarning: lbfgs failed to converge (status=1):\n",
            "STOP: TOTAL NO. OF ITERATIONS REACHED LIMIT.\n",
            "\n",
            "Increase the number of iterations (max_iter) or scale the data as shown in:\n",
            "    https://scikit-learn.org/stable/modules/preprocessing.html\n",
            "Please also refer to the documentation for alternative solver options:\n",
            "    https://scikit-learn.org/stable/modules/linear_model.html#logistic-regression\n",
            "  n_iter_i = _check_optimize_result(\n",
            "[I 2025-09-29 15:52:25,800] Trial 20 finished with value: 0.6356960796213132 and parameters: {'C': 0.000266887828923259, 'solver': 'lbfgs'}. Best is trial 18 with value: 0.8714649836145163.\n",
            "/usr/local/lib/python3.12/dist-packages/sklearn/linear_model/_logistic.py:465: ConvergenceWarning: lbfgs failed to converge (status=1):\n",
            "STOP: TOTAL NO. OF ITERATIONS REACHED LIMIT.\n",
            "\n",
            "Increase the number of iterations (max_iter) or scale the data as shown in:\n",
            "    https://scikit-learn.org/stable/modules/preprocessing.html\n",
            "Please also refer to the documentation for alternative solver options:\n",
            "    https://scikit-learn.org/stable/modules/linear_model.html#logistic-regression\n",
            "  n_iter_i = _check_optimize_result(\n",
            "[I 2025-09-29 15:52:25,911] Trial 21 finished with value: 0.8667920864182546 and parameters: {'C': 9625.848381102123, 'solver': 'lbfgs'}. Best is trial 18 with value: 0.8714649836145163.\n",
            "/usr/local/lib/python3.12/dist-packages/sklearn/linear_model/_logistic.py:465: ConvergenceWarning: lbfgs failed to converge (status=1):\n",
            "STOP: TOTAL NO. OF ITERATIONS REACHED LIMIT.\n",
            "\n",
            "Increase the number of iterations (max_iter) or scale the data as shown in:\n",
            "    https://scikit-learn.org/stable/modules/preprocessing.html\n",
            "Please also refer to the documentation for alternative solver options:\n",
            "    https://scikit-learn.org/stable/modules/linear_model.html#logistic-regression\n",
            "  n_iter_i = _check_optimize_result(\n",
            "[I 2025-09-29 15:52:26,041] Trial 22 finished with value: 0.8667920864182546 and parameters: {'C': 16498.275415172237, 'solver': 'lbfgs'}. Best is trial 18 with value: 0.8714649836145163.\n",
            "/usr/local/lib/python3.12/dist-packages/sklearn/linear_model/_logistic.py:465: ConvergenceWarning: lbfgs failed to converge (status=1):\n",
            "STOP: TOTAL NO. OF ITERATIONS REACHED LIMIT.\n",
            "\n",
            "Increase the number of iterations (max_iter) or scale the data as shown in:\n",
            "    https://scikit-learn.org/stable/modules/preprocessing.html\n",
            "Please also refer to the documentation for alternative solver options:\n",
            "    https://scikit-learn.org/stable/modules/linear_model.html#logistic-regression\n",
            "  n_iter_i = _check_optimize_result(\n",
            "[I 2025-09-29 15:52:26,106] Trial 23 finished with value: 0.8667920864182546 and parameters: {'C': 25.0127064489222, 'solver': 'lbfgs'}. Best is trial 18 with value: 0.8714649836145163.\n",
            "/usr/local/lib/python3.12/dist-packages/sklearn/linear_model/_logistic.py:465: ConvergenceWarning: lbfgs failed to converge (status=1):\n",
            "STOP: TOTAL NO. OF ITERATIONS REACHED LIMIT.\n",
            "\n",
            "Increase the number of iterations (max_iter) or scale the data as shown in:\n",
            "    https://scikit-learn.org/stable/modules/preprocessing.html\n",
            "Please also refer to the documentation for alternative solver options:\n",
            "    https://scikit-learn.org/stable/modules/linear_model.html#logistic-regression\n",
            "  n_iter_i = _check_optimize_result(\n",
            "[I 2025-09-29 15:52:26,295] Trial 24 finished with value: 0.8667920864182546 and parameters: {'C': 6940.066540087148, 'solver': 'lbfgs'}. Best is trial 18 with value: 0.8714649836145163.\n",
            "/usr/local/lib/python3.12/dist-packages/sklearn/linear_model/_logistic.py:465: ConvergenceWarning: lbfgs failed to converge (status=1):\n",
            "STOP: TOTAL NO. OF ITERATIONS REACHED LIMIT.\n",
            "\n",
            "Increase the number of iterations (max_iter) or scale the data as shown in:\n",
            "    https://scikit-learn.org/stable/modules/preprocessing.html\n",
            "Please also refer to the documentation for alternative solver options:\n",
            "    https://scikit-learn.org/stable/modules/linear_model.html#logistic-regression\n",
            "  n_iter_i = _check_optimize_result(\n",
            "[I 2025-09-29 15:52:26,393] Trial 25 finished with value: 0.8621191892219929 and parameters: {'C': 67466.2435685198, 'solver': 'lbfgs'}. Best is trial 18 with value: 0.8714649836145163.\n",
            "/usr/local/lib/python3.12/dist-packages/sklearn/linear_model/_logistic.py:465: ConvergenceWarning: lbfgs failed to converge (status=1):\n",
            "STOP: TOTAL NO. OF ITERATIONS REACHED LIMIT.\n",
            "\n",
            "Increase the number of iterations (max_iter) or scale the data as shown in:\n",
            "    https://scikit-learn.org/stable/modules/preprocessing.html\n",
            "Please also refer to the documentation for alternative solver options:\n",
            "    https://scikit-learn.org/stable/modules/linear_model.html#logistic-regression\n",
            "  n_iter_i = _check_optimize_result(\n",
            "[I 2025-09-29 15:52:26,494] Trial 26 finished with value: 0.8667920864182546 and parameters: {'C': 135.6310706355111, 'solver': 'lbfgs'}. Best is trial 18 with value: 0.8714649836145163.\n",
            "/usr/local/lib/python3.12/dist-packages/sklearn/linear_model/_logistic.py:465: ConvergenceWarning: lbfgs failed to converge (status=1):\n",
            "STOP: TOTAL NO. OF ITERATIONS REACHED LIMIT.\n",
            "\n",
            "Increase the number of iterations (max_iter) or scale the data as shown in:\n",
            "    https://scikit-learn.org/stable/modules/preprocessing.html\n",
            "Please also refer to the documentation for alternative solver options:\n",
            "    https://scikit-learn.org/stable/modules/linear_model.html#logistic-regression\n",
            "  n_iter_i = _check_optimize_result(\n",
            "[I 2025-09-29 15:52:26,888] Trial 27 finished with value: 0.8667920864182546 and parameters: {'C': 6.232754648950856, 'solver': 'lbfgs'}. Best is trial 18 with value: 0.8714649836145163.\n",
            "/usr/local/lib/python3.12/dist-packages/sklearn/linear_model/_logistic.py:465: ConvergenceWarning: lbfgs failed to converge (status=1):\n",
            "STOP: TOTAL NO. OF ITERATIONS REACHED LIMIT.\n",
            "\n",
            "Increase the number of iterations (max_iter) or scale the data as shown in:\n",
            "    https://scikit-learn.org/stable/modules/preprocessing.html\n",
            "Please also refer to the documentation for alternative solver options:\n",
            "    https://scikit-learn.org/stable/modules/linear_model.html#logistic-regression\n",
            "  n_iter_i = _check_optimize_result(\n",
            "[I 2025-09-29 15:52:27,096] Trial 28 finished with value: 0.8667920864182546 and parameters: {'C': 4315.340458604169, 'solver': 'lbfgs'}. Best is trial 18 with value: 0.8714649836145163.\n",
            "[I 2025-09-29 15:52:27,129] Trial 29 finished with value: 0.6375166889185581 and parameters: {'C': 0.0007045529568329275, 'solver': 'liblinear'}. Best is trial 18 with value: 0.8714649836145163.\n",
            "/usr/local/lib/python3.12/dist-packages/sklearn/linear_model/_logistic.py:465: ConvergenceWarning: lbfgs failed to converge (status=1):\n",
            "STOP: TOTAL NO. OF ITERATIONS REACHED LIMIT.\n",
            "\n",
            "Increase the number of iterations (max_iter) or scale the data as shown in:\n",
            "    https://scikit-learn.org/stable/modules/preprocessing.html\n",
            "Please also refer to the documentation for alternative solver options:\n",
            "    https://scikit-learn.org/stable/modules/linear_model.html#logistic-regression\n",
            "  n_iter_i = _check_optimize_result(\n",
            "[I 2025-09-29 15:52:27,421] Trial 30 finished with value: 0.8667920864182546 and parameters: {'C': 23408.010908898043, 'solver': 'lbfgs'}. Best is trial 18 with value: 0.8714649836145163.\n",
            "/usr/local/lib/python3.12/dist-packages/sklearn/linear_model/_logistic.py:465: ConvergenceWarning: lbfgs failed to converge (status=1):\n",
            "STOP: TOTAL NO. OF ITERATIONS REACHED LIMIT.\n",
            "\n",
            "Increase the number of iterations (max_iter) or scale the data as shown in:\n",
            "    https://scikit-learn.org/stable/modules/preprocessing.html\n",
            "Please also refer to the documentation for alternative solver options:\n",
            "    https://scikit-learn.org/stable/modules/linear_model.html#logistic-regression\n",
            "  n_iter_i = _check_optimize_result(\n",
            "[I 2025-09-29 15:52:27,535] Trial 31 finished with value: 0.8667920864182546 and parameters: {'C': 98197.73992320457, 'solver': 'lbfgs'}. Best is trial 18 with value: 0.8714649836145163.\n",
            "/usr/local/lib/python3.12/dist-packages/sklearn/linear_model/_logistic.py:465: ConvergenceWarning: lbfgs failed to converge (status=1):\n",
            "STOP: TOTAL NO. OF ITERATIONS REACHED LIMIT.\n",
            "\n",
            "Increase the number of iterations (max_iter) or scale the data as shown in:\n",
            "    https://scikit-learn.org/stable/modules/preprocessing.html\n",
            "Please also refer to the documentation for alternative solver options:\n",
            "    https://scikit-learn.org/stable/modules/linear_model.html#logistic-regression\n",
            "  n_iter_i = _check_optimize_result(\n",
            "[I 2025-09-29 15:52:27,608] Trial 32 finished with value: 0.8621191892219929 and parameters: {'C': 1635.2692182668561, 'solver': 'lbfgs'}. Best is trial 18 with value: 0.8714649836145163.\n",
            "/usr/local/lib/python3.12/dist-packages/sklearn/linear_model/_logistic.py:465: ConvergenceWarning: lbfgs failed to converge (status=1):\n",
            "STOP: TOTAL NO. OF ITERATIONS REACHED LIMIT.\n",
            "\n",
            "Increase the number of iterations (max_iter) or scale the data as shown in:\n",
            "    https://scikit-learn.org/stable/modules/preprocessing.html\n",
            "Please also refer to the documentation for alternative solver options:\n",
            "    https://scikit-learn.org/stable/modules/linear_model.html#logistic-regression\n",
            "  n_iter_i = _check_optimize_result(\n",
            "[I 2025-09-29 15:52:27,673] Trial 33 finished with value: 0.8714649836145163 and parameters: {'C': 22300.141239072684, 'solver': 'lbfgs'}. Best is trial 18 with value: 0.8714649836145163.\n",
            "[I 2025-09-29 15:52:27,711] Trial 34 finished with value: 0.8574462920257312 and parameters: {'C': 3748.3593838707825, 'solver': 'liblinear'}. Best is trial 18 with value: 0.8714649836145163.\n",
            "/usr/local/lib/python3.12/dist-packages/sklearn/linear_model/_logistic.py:465: ConvergenceWarning: lbfgs failed to converge (status=1):\n",
            "STOP: TOTAL NO. OF ITERATIONS REACHED LIMIT.\n",
            "\n",
            "Increase the number of iterations (max_iter) or scale the data as shown in:\n",
            "    https://scikit-learn.org/stable/modules/preprocessing.html\n",
            "Please also refer to the documentation for alternative solver options:\n",
            "    https://scikit-learn.org/stable/modules/linear_model.html#logistic-regression\n",
            "  n_iter_i = _check_optimize_result(\n",
            "[I 2025-09-29 15:52:27,788] Trial 35 finished with value: 0.8621191892219929 and parameters: {'C': 377.9097467612822, 'solver': 'lbfgs'}. Best is trial 18 with value: 0.8714649836145163.\n",
            "/usr/local/lib/python3.12/dist-packages/sklearn/linear_model/_logistic.py:465: ConvergenceWarning: lbfgs failed to converge (status=1):\n",
            "STOP: TOTAL NO. OF ITERATIONS REACHED LIMIT.\n",
            "\n",
            "Increase the number of iterations (max_iter) or scale the data as shown in:\n",
            "    https://scikit-learn.org/stable/modules/preprocessing.html\n",
            "Please also refer to the documentation for alternative solver options:\n",
            "    https://scikit-learn.org/stable/modules/linear_model.html#logistic-regression\n",
            "  n_iter_i = _check_optimize_result(\n",
            "[I 2025-09-29 15:52:27,888] Trial 36 finished with value: 0.8481004976332078 and parameters: {'C': 0.28778457288131853, 'solver': 'lbfgs'}. Best is trial 18 with value: 0.8714649836145163.\n",
            "[I 2025-09-29 15:52:27,908] Trial 37 finished with value: 0.8574462920257312 and parameters: {'C': 122.87235676680874, 'solver': 'liblinear'}. Best is trial 18 with value: 0.8714649836145163.\n",
            "/usr/local/lib/python3.12/dist-packages/sklearn/linear_model/_logistic.py:465: ConvergenceWarning: lbfgs failed to converge (status=1):\n",
            "STOP: TOTAL NO. OF ITERATIONS REACHED LIMIT.\n",
            "\n",
            "Increase the number of iterations (max_iter) or scale the data as shown in:\n",
            "    https://scikit-learn.org/stable/modules/preprocessing.html\n",
            "Please also refer to the documentation for alternative solver options:\n",
            "    https://scikit-learn.org/stable/modules/linear_model.html#logistic-regression\n",
            "  n_iter_i = _check_optimize_result(\n",
            "[I 2025-09-29 15:52:27,982] Trial 38 finished with value: 0.8667920864182546 and parameters: {'C': 542.1447628689098, 'solver': 'lbfgs'}. Best is trial 18 with value: 0.8714649836145163.\n",
            "[I 2025-09-29 15:52:28,008] Trial 39 finished with value: 0.8574462920257312 and parameters: {'C': 23042.425461252777, 'solver': 'liblinear'}. Best is trial 18 with value: 0.8714649836145163.\n",
            "/usr/local/lib/python3.12/dist-packages/sklearn/linear_model/_logistic.py:465: ConvergenceWarning: lbfgs failed to converge (status=1):\n",
            "STOP: TOTAL NO. OF ITERATIONS REACHED LIMIT.\n",
            "\n",
            "Increase the number of iterations (max_iter) or scale the data as shown in:\n",
            "    https://scikit-learn.org/stable/modules/preprocessing.html\n",
            "Please also refer to the documentation for alternative solver options:\n",
            "    https://scikit-learn.org/stable/modules/linear_model.html#logistic-regression\n",
            "  n_iter_i = _check_optimize_result(\n",
            "[I 2025-09-29 15:52:28,066] Trial 40 finished with value: 0.8714649836145163 and parameters: {'C': 2084.6779177769686, 'solver': 'lbfgs'}. Best is trial 18 with value: 0.8714649836145163.\n",
            "/usr/local/lib/python3.12/dist-packages/sklearn/linear_model/_logistic.py:465: ConvergenceWarning: lbfgs failed to converge (status=1):\n",
            "STOP: TOTAL NO. OF ITERATIONS REACHED LIMIT.\n",
            "\n",
            "Increase the number of iterations (max_iter) or scale the data as shown in:\n",
            "    https://scikit-learn.org/stable/modules/preprocessing.html\n",
            "Please also refer to the documentation for alternative solver options:\n",
            "    https://scikit-learn.org/stable/modules/linear_model.html#logistic-regression\n",
            "  n_iter_i = _check_optimize_result(\n",
            "[I 2025-09-29 15:52:28,133] Trial 41 finished with value: 0.8667920864182546 and parameters: {'C': 1852.082584468491, 'solver': 'lbfgs'}. Best is trial 18 with value: 0.8714649836145163.\n",
            "/usr/local/lib/python3.12/dist-packages/sklearn/linear_model/_logistic.py:465: ConvergenceWarning: lbfgs failed to converge (status=1):\n",
            "STOP: TOTAL NO. OF ITERATIONS REACHED LIMIT.\n",
            "\n",
            "Increase the number of iterations (max_iter) or scale the data as shown in:\n",
            "    https://scikit-learn.org/stable/modules/preprocessing.html\n",
            "Please also refer to the documentation for alternative solver options:\n",
            "    https://scikit-learn.org/stable/modules/linear_model.html#logistic-regression\n",
            "  n_iter_i = _check_optimize_result(\n",
            "[I 2025-09-29 15:52:28,224] Trial 42 finished with value: 0.8714649836145163 and parameters: {'C': 23328.0765988905, 'solver': 'lbfgs'}. Best is trial 18 with value: 0.8714649836145163.\n",
            "/usr/local/lib/python3.12/dist-packages/sklearn/linear_model/_logistic.py:465: ConvergenceWarning: lbfgs failed to converge (status=1):\n",
            "STOP: TOTAL NO. OF ITERATIONS REACHED LIMIT.\n",
            "\n",
            "Increase the number of iterations (max_iter) or scale the data as shown in:\n",
            "    https://scikit-learn.org/stable/modules/preprocessing.html\n",
            "Please also refer to the documentation for alternative solver options:\n",
            "    https://scikit-learn.org/stable/modules/linear_model.html#logistic-regression\n",
            "  n_iter_i = _check_optimize_result(\n",
            "[I 2025-09-29 15:52:28,453] Trial 43 finished with value: 0.8621191892219929 and parameters: {'C': 8367.646251121512, 'solver': 'lbfgs'}. Best is trial 18 with value: 0.8714649836145163.\n",
            "/usr/local/lib/python3.12/dist-packages/sklearn/linear_model/_logistic.py:465: ConvergenceWarning: lbfgs failed to converge (status=1):\n",
            "STOP: TOTAL NO. OF ITERATIONS REACHED LIMIT.\n",
            "\n",
            "Increase the number of iterations (max_iter) or scale the data as shown in:\n",
            "    https://scikit-learn.org/stable/modules/preprocessing.html\n",
            "Please also refer to the documentation for alternative solver options:\n",
            "    https://scikit-learn.org/stable/modules/linear_model.html#logistic-regression\n",
            "  n_iter_i = _check_optimize_result(\n",
            "[I 2025-09-29 15:52:28,647] Trial 44 finished with value: 0.8621191892219929 and parameters: {'C': 21943.050804972165, 'solver': 'lbfgs'}. Best is trial 18 with value: 0.8714649836145163.\n",
            "/usr/local/lib/python3.12/dist-packages/sklearn/linear_model/_logistic.py:465: ConvergenceWarning: lbfgs failed to converge (status=1):\n",
            "STOP: TOTAL NO. OF ITERATIONS REACHED LIMIT.\n",
            "\n",
            "Increase the number of iterations (max_iter) or scale the data as shown in:\n",
            "    https://scikit-learn.org/stable/modules/preprocessing.html\n",
            "Please also refer to the documentation for alternative solver options:\n",
            "    https://scikit-learn.org/stable/modules/linear_model.html#logistic-regression\n",
            "  n_iter_i = _check_optimize_result(\n",
            "[I 2025-09-29 15:52:28,758] Trial 45 finished with value: 0.8621191892219929 and parameters: {'C': 763.2768513295501, 'solver': 'lbfgs'}. Best is trial 18 with value: 0.8714649836145163.\n",
            "/usr/local/lib/python3.12/dist-packages/sklearn/linear_model/_logistic.py:465: ConvergenceWarning: lbfgs failed to converge (status=1):\n",
            "STOP: TOTAL NO. OF ITERATIONS REACHED LIMIT.\n",
            "\n",
            "Increase the number of iterations (max_iter) or scale the data as shown in:\n",
            "    https://scikit-learn.org/stable/modules/preprocessing.html\n",
            "Please also refer to the documentation for alternative solver options:\n",
            "    https://scikit-learn.org/stable/modules/linear_model.html#logistic-regression\n",
            "  n_iter_i = _check_optimize_result(\n",
            "[I 2025-09-29 15:52:28,912] Trial 46 finished with value: 0.8667920864182546 and parameters: {'C': 5.266118869632085, 'solver': 'lbfgs'}. Best is trial 18 with value: 0.8714649836145163.\n",
            "[I 2025-09-29 15:52:28,957] Trial 47 finished with value: 0.8574462920257312 and parameters: {'C': 3262.1003627823725, 'solver': 'liblinear'}. Best is trial 18 with value: 0.8714649836145163.\n",
            "/usr/local/lib/python3.12/dist-packages/sklearn/linear_model/_logistic.py:465: ConvergenceWarning: lbfgs failed to converge (status=1):\n",
            "STOP: TOTAL NO. OF ITERATIONS REACHED LIMIT.\n",
            "\n",
            "Increase the number of iterations (max_iter) or scale the data as shown in:\n",
            "    https://scikit-learn.org/stable/modules/preprocessing.html\n",
            "Please also refer to the documentation for alternative solver options:\n",
            "    https://scikit-learn.org/stable/modules/linear_model.html#logistic-regression\n",
            "  n_iter_i = _check_optimize_result(\n",
            "[I 2025-09-29 15:52:29,108] Trial 48 finished with value: 0.8667920864182546 and parameters: {'C': 286.80131467319717, 'solver': 'lbfgs'}. Best is trial 18 with value: 0.8714649836145163.\n",
            "/usr/local/lib/python3.12/dist-packages/sklearn/linear_model/_logistic.py:465: ConvergenceWarning: lbfgs failed to converge (status=1):\n",
            "STOP: TOTAL NO. OF ITERATIONS REACHED LIMIT.\n",
            "\n",
            "Increase the number of iterations (max_iter) or scale the data as shown in:\n",
            "    https://scikit-learn.org/stable/modules/preprocessing.html\n",
            "Please also refer to the documentation for alternative solver options:\n",
            "    https://scikit-learn.org/stable/modules/linear_model.html#logistic-regression\n",
            "  n_iter_i = _check_optimize_result(\n",
            "[I 2025-09-29 15:52:29,273] Trial 49 finished with value: 0.8667920864182546 and parameters: {'C': 32974.944694516285, 'solver': 'lbfgs'}. Best is trial 18 with value: 0.8714649836145163.\n",
            "/usr/local/lib/python3.12/dist-packages/sklearn/linear_model/_logistic.py:465: ConvergenceWarning: lbfgs failed to converge (status=1):\n",
            "STOP: TOTAL NO. OF ITERATIONS REACHED LIMIT.\n",
            "\n",
            "Increase the number of iterations (max_iter) or scale the data as shown in:\n",
            "    https://scikit-learn.org/stable/modules/preprocessing.html\n",
            "Please also refer to the documentation for alternative solver options:\n",
            "    https://scikit-learn.org/stable/modules/linear_model.html#logistic-regression\n",
            "  n_iter_i = _check_optimize_result(\n",
            "/usr/local/lib/python3.12/dist-packages/sklearn/utils/validation.py:2732: UserWarning: X has feature names, but LogisticRegression was fitted without feature names\n",
            "  warnings.warn(\n"
          ]
        },
        {
          "output_type": "stream",
          "name": "stdout",
          "text": [
            "Running Optuna study for XGBoost...\n"
          ]
        },
        {
          "output_type": "stream",
          "name": "stderr",
          "text": [
            "[I 2025-09-29 15:52:31,300] Trial 0 finished with value: 0.8314722660517053 and parameters: {'n_estimators': 551, 'learning_rate': 0.00015380510467310845, 'max_depth': 3, 'min_child_weight': 7, 'gamma': 0.34610905991944263, 'subsample': 0.8299753944340956, 'colsample_bytree': 0.8406114238438324}. Best is trial 0 with value: 0.8314722660517053.\n",
            "[I 2025-09-29 15:52:37,548] Trial 1 finished with value: 0.8678237650200267 and parameters: {'n_estimators': 438, 'learning_rate': 0.00010533236953255159, 'max_depth': 8, 'min_child_weight': 1, 'gamma': 0.5111202438446026, 'subsample': 0.9381014602960169, 'colsample_bytree': 0.874073690053607}. Best is trial 1 with value: 0.8678237650200267.\n",
            "[I 2025-09-29 15:52:38,725] Trial 2 finished with value: 0.8444592790387184 and parameters: {'n_estimators': 403, 'learning_rate': 0.002134096259000879, 'max_depth': 3, 'min_child_weight': 6, 'gamma': 0.46809318719688797, 'subsample': 0.9169562749125274, 'colsample_bytree': 0.7974936246156711}. Best is trial 1 with value: 0.8678237650200267.\n",
            "[I 2025-09-29 15:52:40,589] Trial 3 finished with value: 0.8743172715135331 and parameters: {'n_estimators': 543, 'learning_rate': 0.04100982877932518, 'max_depth': 8, 'min_child_weight': 8, 'gamma': 0.4392000191531771, 'subsample': 0.8355032383191482, 'colsample_bytree': 0.8457442444866942}. Best is trial 3 with value: 0.8743172715135331.\n",
            "[I 2025-09-29 15:52:42,148] Trial 4 finished with value: 0.8984706881903143 and parameters: {'n_estimators': 639, 'learning_rate': 0.0064343937035204165, 'max_depth': 5, 'min_child_weight': 5, 'gamma': 0.11710537369075269, 'subsample': 0.823954861228226, 'colsample_bytree': 0.8793155790585241}. Best is trial 4 with value: 0.8984706881903143.\n",
            "[I 2025-09-29 15:52:42,893] Trial 5 finished with value: 0.8602985799247481 and parameters: {'n_estimators': 433, 'learning_rate': 0.0036233963171413337, 'max_depth': 5, 'min_child_weight': 10, 'gamma': 0.7957771593106474, 'subsample': 0.8440264463374789, 'colsample_bytree': 0.931639585851322}. Best is trial 4 with value: 0.8984706881903143.\n",
            "[I 2025-09-29 15:52:43,131] Trial 6 finished with value: 0.836145163247967 and parameters: {'n_estimators': 187, 'learning_rate': 0.002595794939720494, 'max_depth': 3, 'min_child_weight': 8, 'gamma': 0.314733710686953, 'subsample': 0.970347324372627, 'colsample_bytree': 0.8294015814025689}. Best is trial 4 with value: 0.8984706881903143.\n",
            "[I 2025-09-29 15:52:43,927] Trial 7 finished with value: 0.8836630659060565 and parameters: {'n_estimators': 333, 'learning_rate': 3.786461015915236e-05, 'max_depth': 9, 'min_child_weight': 2, 'gamma': 0.8231475278863918, 'subsample': 0.6874960905896376, 'colsample_bytree': 0.6776397356427558}. Best is trial 4 with value: 0.8984706881903143.\n",
            "[I 2025-09-29 15:52:44,594] Trial 8 finished with value: 0.890156572399563 and parameters: {'n_estimators': 346, 'learning_rate': 2.338002729358299e-05, 'max_depth': 5, 'min_child_weight': 1, 'gamma': 0.2216701297659157, 'subsample': 0.6724552774263955, 'colsample_bytree': 0.6123237577904497}. Best is trial 4 with value: 0.8984706881903143.\n",
            "[I 2025-09-29 15:52:45,142] Trial 9 finished with value: 0.8667920864182546 and parameters: {'n_estimators': 292, 'learning_rate': 2.5439210745816206e-05, 'max_depth': 3, 'min_child_weight': 3, 'gamma': 0.8668106917296586, 'subsample': 0.6157277264107541, 'colsample_bytree': 0.6680697808027161}. Best is trial 4 with value: 0.8984706881903143.\n",
            "[I 2025-09-29 15:52:46,683] Trial 10 finished with value: 0.8686126957154994 and parameters: {'n_estimators': 862, 'learning_rate': 0.0966528973971584, 'max_depth': 6, 'min_child_weight': 4, 'gamma': 0.0054664288921214554, 'subsample': 0.7680702447948902, 'colsample_bytree': 0.9967568514882}. Best is trial 4 with value: 0.8984706881903143.\n",
            "[I 2025-09-29 15:52:51,539] Trial 11 finished with value: 0.8789901687097949 and parameters: {'n_estimators': 760, 'learning_rate': 0.016896677284334652, 'max_depth': 5, 'min_child_weight': 4, 'gamma': 0.060572926457528625, 'subsample': 0.7384216702483148, 'colsample_bytree': 0.6045876586668522}. Best is trial 4 with value: 0.8984706881903143.\n",
            "[I 2025-09-29 15:52:51,606] Trial 12 finished with value: 0.8836630659060565 and parameters: {'n_estimators': 53, 'learning_rate': 0.00039650096832168975, 'max_depth': 5, 'min_child_weight': 1, 'gamma': 0.19312479262455673, 'subsample': 0.6246233656208959, 'colsample_bytree': 0.7542102873327832}. Best is trial 4 with value: 0.8984706881903143.\n",
            "[I 2025-09-29 15:52:51,896] Trial 13 finished with value: 0.8919771816968078 and parameters: {'n_estimators': 679, 'learning_rate': 0.010888610418231803, 'max_depth': 6, 'min_child_weight': 5, 'gamma': 0.17762491807927824, 'subsample': 0.7077065104599021, 'colsample_bytree': 0.7246710714657568}. Best is trial 4 with value: 0.8984706881903143.\n",
            "[I 2025-09-29 15:52:52,242] Trial 14 finished with value: 0.8919771816968078 and parameters: {'n_estimators': 725, 'learning_rate': 0.00853894941382324, 'max_depth': 7, 'min_child_weight': 5, 'gamma': 0.6059935577220222, 'subsample': 0.7325671495542739, 'colsample_bytree': 0.7424759573681582}. Best is trial 4 with value: 0.8984706881903143.\n",
            "[I 2025-09-29 15:52:52,563] Trial 15 finished with value: 0.890156572399563 and parameters: {'n_estimators': 657, 'learning_rate': 0.012318633459945744, 'max_depth': 10, 'min_child_weight': 6, 'gamma': 0.129458747978058, 'subsample': 0.8841044418735416, 'colsample_bytree': 0.9135397007246082}. Best is trial 4 with value: 0.8984706881903143.\n",
            "[I 2025-09-29 15:52:53,135] Trial 16 finished with value: 0.8678237650200267 and parameters: {'n_estimators': 974, 'learning_rate': 0.0006778480071482063, 'max_depth': 6, 'min_child_weight': 4, 'gamma': 0.3060330816312337, 'subsample': 0.7843182897258514, 'colsample_bytree': 0.7414728896160525}. Best is trial 4 with value: 0.8984706881903143.\n",
            "[I 2025-09-29 15:52:53,422] Trial 17 finished with value: 0.8743172715135331 and parameters: {'n_estimators': 633, 'learning_rate': 0.03396726198739399, 'max_depth': 7, 'min_child_weight': 5, 'gamma': 0.11318601254701395, 'subsample': 0.6889322328356435, 'colsample_bytree': 0.7794168697000144}. Best is trial 4 with value: 0.8984706881903143.\n",
            "[I 2025-09-29 15:52:53,731] Trial 18 finished with value: 0.8919771816968078 and parameters: {'n_estimators': 870, 'learning_rate': 0.004985343793110039, 'max_depth': 4, 'min_child_weight': 7, 'gamma': 0.6806312427813239, 'subsample': 0.7276818832251679, 'colsample_bytree': 0.6967162376419891}. Best is trial 4 with value: 0.8984706881903143.\n",
            "[I 2025-09-29 15:52:54,055] Trial 19 finished with value: 0.8602985799247481 and parameters: {'n_estimators': 825, 'learning_rate': 0.0015219785823364122, 'max_depth': 4, 'min_child_weight': 10, 'gamma': 0.24985949648011813, 'subsample': 0.8894321724530156, 'colsample_bytree': 0.9836986652387518}. Best is trial 4 with value: 0.8984706881903143.\n",
            "[I 2025-09-29 15:52:54,342] Trial 20 finished with value: 0.8873042845005461 and parameters: {'n_estimators': 983, 'learning_rate': 0.030070983831916486, 'max_depth': 6, 'min_child_weight': 3, 'gamma': 0.9625164603235347, 'subsample': 0.9963538567021928, 'colsample_bytree': 0.9163289098806444}. Best is trial 4 with value: 0.8984706881903143.\n",
            "[I 2025-09-29 15:52:54,634] Trial 21 finished with value: 0.8966500788930695 and parameters: {'n_estimators': 691, 'learning_rate': 0.010017029785342281, 'max_depth': 7, 'min_child_weight': 5, 'gamma': 0.5994399923688787, 'subsample': 0.7410825459749496, 'colsample_bytree': 0.7241433263318}. Best is trial 4 with value: 0.8984706881903143.\n",
            "[I 2025-09-29 15:52:54,941] Trial 22 finished with value: 0.8984706881903143 and parameters: {'n_estimators': 659, 'learning_rate': 0.006386507763005816, 'max_depth': 7, 'min_child_weight': 5, 'gamma': 0.6275676113649237, 'subsample': 0.7898641201570596, 'colsample_bytree': 0.6923651053064324}. Best is trial 4 with value: 0.8984706881903143.\n",
            "[I 2025-09-29 15:52:55,198] Trial 23 finished with value: 0.8984706881903143 and parameters: {'n_estimators': 565, 'learning_rate': 0.007055987474433868, 'max_depth': 8, 'min_child_weight': 6, 'gamma': 0.6444404832005869, 'subsample': 0.8095297074915923, 'colsample_bytree': 0.6350742357686594}. Best is trial 4 with value: 0.8984706881903143.\n",
            "[I 2025-09-29 15:52:55,494] Trial 24 finished with value: 0.8808107780070396 and parameters: {'n_estimators': 590, 'learning_rate': 0.0007365460279924733, 'max_depth': 8, 'min_child_weight': 7, 'gamma': 0.6574457632643921, 'subsample': 0.7996658321201038, 'colsample_bytree': 0.6327188541887995}. Best is trial 4 with value: 0.8984706881903143.\n",
            "[I 2025-09-29 15:52:55,729] Trial 25 finished with value: 0.8984706881903143 and parameters: {'n_estimators': 487, 'learning_rate': 0.0063666934551781795, 'max_depth': 9, 'min_child_weight': 6, 'gamma': 0.7232464588936542, 'subsample': 0.8614740911312585, 'colsample_bytree': 0.6473702168101703}. Best is trial 4 with value: 0.8984706881903143.\n",
            "[I 2025-09-29 15:52:56,203] Trial 26 finished with value: 0.8808107780070396 and parameters: {'n_estimators': 788, 'learning_rate': 0.001565682147058554, 'max_depth': 9, 'min_child_weight': 3, 'gamma': 0.5664360604443, 'subsample': 0.8121224507535085, 'colsample_bytree': 0.6946319285730749}. Best is trial 4 with value: 0.8984706881903143.\n",
            "[I 2025-09-29 15:52:56,447] Trial 27 finished with value: 0.8808107780070396 and parameters: {'n_estimators': 621, 'learning_rate': 0.02059543895144456, 'max_depth': 8, 'min_child_weight': 8, 'gamma': 0.41036390395057515, 'subsample': 0.7695682942424802, 'colsample_bytree': 0.8806769906071403}. Best is trial 4 with value: 0.8984706881903143.\n",
            "[I 2025-09-29 15:52:56,605] Trial 28 finished with value: 0.8854836752033014 and parameters: {'n_estimators': 485, 'learning_rate': 0.07960945554274147, 'max_depth': 10, 'min_child_weight': 4, 'gamma': 0.754072398397525, 'subsample': 0.8098550799794111, 'colsample_bytree': 0.6484655107866157}. Best is trial 4 with value: 0.8984706881903143.\n",
            "[I 2025-09-29 15:52:56,888] Trial 29 finished with value: 0.8491321762349799 and parameters: {'n_estimators': 570, 'learning_rate': 0.0002908069676264071, 'max_depth': 7, 'min_child_weight': 7, 'gamma': 0.5188682417663523, 'subsample': 0.8678195367521646, 'colsample_bytree': 0.7959237702398696}. Best is trial 4 with value: 0.8984706881903143.\n",
            "[I 2025-09-29 15:52:57,115] Trial 30 finished with value: 0.8714649836145163 and parameters: {'n_estimators': 530, 'learning_rate': 0.004265672963381764, 'max_depth': 4, 'min_child_weight': 9, 'gamma': 0.3954951361940314, 'subsample': 0.828588395680945, 'colsample_bytree': 0.9563016993727507}. Best is trial 4 with value: 0.8984706881903143.\n",
            "[I 2025-09-29 15:52:57,344] Trial 31 finished with value: 0.8937977909940525 and parameters: {'n_estimators': 483, 'learning_rate': 0.005815258710819929, 'max_depth': 9, 'min_child_weight': 6, 'gamma': 0.6845168206608131, 'subsample': 0.8538088511242568, 'colsample_bytree': 0.642339849885173}. Best is trial 4 with value: 0.8984706881903143.\n",
            "[I 2025-09-29 15:52:57,629] Trial 32 finished with value: 0.8937977909940525 and parameters: {'n_estimators': 496, 'learning_rate': 0.006083234759897152, 'max_depth': 9, 'min_child_weight': 6, 'gamma': 0.7353627686925805, 'subsample': 0.9266625990551394, 'colsample_bytree': 0.6693870087599647}. Best is trial 4 with value: 0.8984706881903143.\n",
            "[I 2025-09-29 15:52:57,928] Trial 33 finished with value: 0.8808107780070396 and parameters: {'n_estimators': 594, 'learning_rate': 0.0012058907474207154, 'max_depth': 8, 'min_child_weight': 6, 'gamma': 0.9187587944494431, 'subsample': 0.890037853392241, 'colsample_bytree': 0.6155903683665787}. Best is trial 4 with value: 0.8984706881903143.\n",
            "[I 2025-09-29 15:52:58,126] Trial 34 finished with value: 0.8621191892219929 and parameters: {'n_estimators': 396, 'learning_rate': 0.003328008533152443, 'max_depth': 8, 'min_child_weight': 7, 'gamma': 0.5353351848588137, 'subsample': 0.7710594023140241, 'colsample_bytree': 0.8472066236527487}. Best is trial 4 with value: 0.8984706881903143.\n",
            "[I 2025-09-29 15:52:58,331] Trial 35 finished with value: 0.8696443743172715 and parameters: {'n_estimators': 721, 'learning_rate': 0.05562084176828251, 'max_depth': 10, 'min_child_weight': 5, 'gamma': 0.630484333324146, 'subsample': 0.8329988338692426, 'colsample_bytree': 0.6516325331722916}. Best is trial 4 with value: 0.8984706881903143.\n",
            "[I 2025-09-29 15:52:58,607] Trial 36 finished with value: 0.890156572399563 and parameters: {'n_estimators': 537, 'learning_rate': 0.01928510166833725, 'max_depth': 9, 'min_child_weight': 6, 'gamma': 0.46315152876127674, 'subsample': 0.8575962899661552, 'colsample_bytree': 0.7055230002087823}. Best is trial 4 with value: 0.8984706881903143.\n",
            "[I 2025-09-29 15:52:58,811] Trial 37 finished with value: 0.8602985799247481 and parameters: {'n_estimators': 434, 'learning_rate': 0.002427090323782522, 'max_depth': 8, 'min_child_weight': 8, 'gamma': 0.7307384424002048, 'subsample': 0.790299258190118, 'colsample_bytree': 0.8226424020885814}. Best is trial 4 with value: 0.8984706881903143.\n",
            "[I 2025-09-29 15:52:58,991] Trial 38 finished with value: 0.8873042845005461 and parameters: {'n_estimators': 251, 'learning_rate': 0.0078515063471983, 'max_depth': 7, 'min_child_weight': 4, 'gamma': 0.8071509131962746, 'subsample': 0.9467171783025679, 'colsample_bytree': 0.8761794647903184}. Best is trial 4 with value: 0.8984706881903143.\n",
            "[I 2025-09-29 15:52:59,182] Trial 39 finished with value: 0.8426386697414734 and parameters: {'n_estimators': 371, 'learning_rate': 0.00010879748893881468, 'max_depth': 9, 'min_child_weight': 7, 'gamma': 0.8521846321378681, 'subsample': 0.8195107069653254, 'colsample_bytree': 0.7639789386232851}. Best is trial 4 with value: 0.8984706881903143.\n",
            "[I 2025-09-29 15:52:59,431] Trial 40 finished with value: 0.8743172715135331 and parameters: {'n_estimators': 457, 'learning_rate': 0.002814117545572201, 'max_depth': 8, 'min_child_weight': 5, 'gamma': 0.4934469511191828, 'subsample': 0.9021227562220246, 'colsample_bytree': 0.6285231548447965}. Best is trial 4 with value: 0.8984706881903143.\n",
            "[I 2025-09-29 15:52:59,763] Trial 41 finished with value: 0.8919771816968078 and parameters: {'n_estimators': 688, 'learning_rate': 0.009895525460677497, 'max_depth': 7, 'min_child_weight': 5, 'gamma': 0.6246059584800813, 'subsample': 0.7409066777856838, 'colsample_bytree': 0.7098822560036571}. Best is trial 4 with value: 0.8984706881903143.\n",
            "[I 2025-09-29 15:53:00,019] Trial 42 finished with value: 0.8808107780070396 and parameters: {'n_estimators': 725, 'learning_rate': 0.02626111675367089, 'max_depth': 7, 'min_child_weight': 6, 'gamma': 0.5841457732815813, 'subsample': 0.7655066612083399, 'colsample_bytree': 0.6722859922784153}. Best is trial 4 with value: 0.8984706881903143.\n",
            "[I 2025-09-29 15:53:00,351] Trial 43 finished with value: 0.8854836752033014 and parameters: {'n_estimators': 629, 'learning_rate': 0.014890453176981564, 'max_depth': 6, 'min_child_weight': 5, 'gamma': 0.5480500693344724, 'subsample': 0.8691918469593656, 'colsample_bytree': 0.7209033353838212}. Best is trial 4 with value: 0.8984706881903143.\n",
            "[I 2025-09-29 15:53:00,630] Trial 44 finished with value: 0.8919771816968078 and parameters: {'n_estimators': 559, 'learning_rate': 0.007215537550975246, 'max_depth': 7, 'min_child_weight': 4, 'gamma': 0.702429484145008, 'subsample': 0.6628641821432916, 'colsample_bytree': 0.6866534665335269}. Best is trial 4 with value: 0.8984706881903143.\n",
            "[I 2025-09-29 15:53:01,130] Trial 45 finished with value: 0.8966500788930695 and parameters: {'n_estimators': 770, 'learning_rate': 0.004056535303233047, 'max_depth': 8, 'min_child_weight': 3, 'gamma': 0.7682000030919802, 'subsample': 0.841473562854591, 'colsample_bytree': 0.658965462719573}. Best is trial 4 with value: 0.8984706881903143.\n",
            "[I 2025-09-29 15:53:02,109] Trial 46 finished with value: 0.8808107780070396 and parameters: {'n_estimators': 671, 'learning_rate': 1.2991059360386288e-05, 'max_depth': 5, 'min_child_weight': 6, 'gamma': 0.6473560908743554, 'subsample': 0.7522570427599929, 'colsample_bytree': 0.6281595114666696}. Best is trial 4 with value: 0.8984706881903143.\n",
            "[I 2025-09-29 15:53:02,873] Trial 47 finished with value: 0.8696443743172715 and parameters: {'n_estimators': 895, 'learning_rate': 0.052262535344490005, 'max_depth': 6, 'min_child_weight': 2, 'gamma': 0.5876593214786333, 'subsample': 0.7907418815041277, 'colsample_bytree': 0.7280480609516025}. Best is trial 4 with value: 0.8984706881903143.\n",
            "[I 2025-09-29 15:53:04,608] Trial 48 finished with value: 0.8743172715135331 and parameters: {'n_estimators': 700, 'learning_rate': 0.0019838003013974916, 'max_depth': 7, 'min_child_weight': 4, 'gamma': 0.38554361962711103, 'subsample': 0.7054134814054569, 'colsample_bytree': 0.7789242445894465}. Best is trial 4 with value: 0.8984706881903143.\n",
            "[I 2025-09-29 15:53:05,213] Trial 49 finished with value: 0.8919771816968078 and parameters: {'n_estimators': 605, 'learning_rate': 0.011553690294293137, 'max_depth': 9, 'min_child_weight': 5, 'gamma': 0.4505766108906754, 'subsample': 0.8092912677979021, 'colsample_bytree': 0.6007498014937596}. Best is trial 4 with value: 0.8984706881903143.\n",
            "[I 2025-09-29 15:53:05,542] Trial 0 finished with value: 0.7130719747542178 and parameters: {'n_neighbors': 9, 'weights': 'distance', 'metric': 'manhattan'}. Best is trial 0 with value: 0.7130719747542178.\n",
            "[I 2025-09-29 15:53:05,558] Trial 1 finished with value: 0.6907391673746813 and parameters: {'n_neighbors': 5, 'weights': 'uniform', 'metric': 'manhattan'}. Best is trial 0 with value: 0.7130719747542178.\n",
            "[I 2025-09-29 15:53:05,568] Trial 2 finished with value: 0.6600922442043937 and parameters: {'n_neighbors': 23, 'weights': 'distance', 'metric': 'euclidean'}. Best is trial 0 with value: 0.7130719747542178.\n",
            "[I 2025-09-29 15:53:05,577] Trial 3 finished with value: 0.667374681393373 and parameters: {'n_neighbors': 10, 'weights': 'distance', 'metric': 'euclidean'}. Best is trial 0 with value: 0.7130719747542178.\n",
            "[I 2025-09-29 15:53:05,586] Trial 4 finished with value: 0.652567059109115 and parameters: {'n_neighbors': 16, 'weights': 'distance', 'metric': 'minkowski'}. Best is trial 0 with value: 0.7130719747542178.\n",
            "[I 2025-09-29 15:53:05,598] Trial 5 finished with value: 0.7083990775579561 and parameters: {'n_neighbors': 5, 'weights': 'distance', 'metric': 'manhattan'}. Best is trial 0 with value: 0.7130719747542178.\n",
            "[I 2025-09-29 15:53:05,608] Trial 6 finished with value: 0.7065784682607112 and parameters: {'n_neighbors': 24, 'weights': 'distance', 'metric': 'manhattan'}. Best is trial 0 with value: 0.7130719747542178.\n",
            "[I 2025-09-29 15:53:05,619] Trial 7 finished with value: 0.6925597766719261 and parameters: {'n_neighbors': 15, 'weights': 'distance', 'metric': 'manhattan'}. Best is trial 0 with value: 0.7130719747542178.\n",
            "[I 2025-09-29 15:53:05,631] Trial 8 finished with value: 0.6393372982158029 and parameters: {'n_neighbors': 10, 'weights': 'uniform', 'metric': 'euclidean'}. Best is trial 0 with value: 0.7130719747542178.\n",
            "[I 2025-09-29 15:53:05,641] Trial 9 finished with value: 0.6468624833110814 and parameters: {'n_neighbors': 12, 'weights': 'distance', 'metric': 'minkowski'}. Best is trial 0 with value: 0.7130719747542178.\n",
            "[I 2025-09-29 15:53:05,656] Trial 10 finished with value: 0.6915280980701541 and parameters: {'n_neighbors': 1, 'weights': 'uniform', 'metric': 'manhattan'}. Best is trial 0 with value: 0.7130719747542178.\n",
            "[I 2025-09-29 15:53:05,670] Trial 11 finished with value: 0.722417769146741 and parameters: {'n_neighbors': 4, 'weights': 'distance', 'metric': 'manhattan'}. Best is trial 11 with value: 0.722417769146741.\n",
            "[I 2025-09-29 15:53:05,683] Trial 12 finished with value: 0.6915280980701541 and parameters: {'n_neighbors': 1, 'weights': 'distance', 'metric': 'manhattan'}. Best is trial 11 with value: 0.722417769146741.\n",
            "[I 2025-09-29 15:53:05,696] Trial 13 finished with value: 0.7073673989561841 and parameters: {'n_neighbors': 6, 'weights': 'distance', 'metric': 'manhattan'}. Best is trial 11 with value: 0.722417769146741.\n",
            "[I 2025-09-29 15:53:05,712] Trial 14 finished with value: 0.6925597766719261 and parameters: {'n_neighbors': 19, 'weights': 'uniform', 'metric': 'manhattan'}. Best is trial 11 with value: 0.722417769146741.\n",
            "[I 2025-09-29 15:53:05,729] Trial 15 finished with value: 0.6860662701784197 and parameters: {'n_neighbors': 29, 'weights': 'distance', 'metric': 'minkowski'}. Best is trial 11 with value: 0.722417769146741.\n"
          ]
        },
        {
          "output_type": "stream",
          "name": "stdout",
          "text": [
            "Running Optuna study for KNN...\n"
          ]
        },
        {
          "output_type": "stream",
          "name": "stderr",
          "text": [
            "[I 2025-09-29 15:53:05,748] Trial 16 finished with value: 0.734373103531982 and parameters: {'n_neighbors': 7, 'weights': 'distance', 'metric': 'manhattan'}. Best is trial 16 with value: 0.734373103531982.\n",
            "[I 2025-09-29 15:53:05,762] Trial 17 finished with value: 0.7073673989561841 and parameters: {'n_neighbors': 6, 'weights': 'distance', 'metric': 'manhattan'}. Best is trial 16 with value: 0.734373103531982.\n",
            "[I 2025-09-29 15:53:05,776] Trial 18 finished with value: 0.6619128535016385 and parameters: {'n_neighbors': 3, 'weights': 'uniform', 'metric': 'minkowski'}. Best is trial 16 with value: 0.734373103531982.\n",
            "[I 2025-09-29 15:53:05,789] Trial 19 finished with value: 0.665554072096128 and parameters: {'n_neighbors': 13, 'weights': 'distance', 'metric': 'euclidean'}. Best is trial 16 with value: 0.734373103531982.\n",
            "[I 2025-09-29 15:53:05,804] Trial 20 finished with value: 0.7260589877412308 and parameters: {'n_neighbors': 8, 'weights': 'distance', 'metric': 'manhattan'}. Best is trial 16 with value: 0.734373103531982.\n",
            "[I 2025-09-29 15:53:05,820] Trial 21 finished with value: 0.7260589877412308 and parameters: {'n_neighbors': 8, 'weights': 'distance', 'metric': 'manhattan'}. Best is trial 16 with value: 0.734373103531982.\n",
            "[I 2025-09-29 15:53:05,833] Trial 22 finished with value: 0.7260589877412308 and parameters: {'n_neighbors': 8, 'weights': 'distance', 'metric': 'manhattan'}. Best is trial 16 with value: 0.734373103531982.\n",
            "[I 2025-09-29 15:53:05,847] Trial 23 finished with value: 0.7260589877412308 and parameters: {'n_neighbors': 8, 'weights': 'distance', 'metric': 'manhattan'}. Best is trial 16 with value: 0.734373103531982.\n",
            "[I 2025-09-29 15:53:05,863] Trial 24 finished with value: 0.7167131933487074 and parameters: {'n_neighbors': 12, 'weights': 'distance', 'metric': 'manhattan'}. Best is trial 16 with value: 0.734373103531982.\n",
            "[I 2025-09-29 15:53:05,879] Trial 25 finished with value: 0.7019055710644496 and parameters: {'n_neighbors': 17, 'weights': 'distance', 'metric': 'manhattan'}. Best is trial 16 with value: 0.734373103531982.\n",
            "[I 2025-09-29 15:53:05,894] Trial 26 finished with value: 0.7102196868552008 and parameters: {'n_neighbors': 7, 'weights': 'uniform', 'metric': 'manhattan'}. Best is trial 16 with value: 0.734373103531982.\n",
            "[I 2025-09-29 15:53:05,907] Trial 27 finished with value: 0.7120402961524457 and parameters: {'n_neighbors': 14, 'weights': 'distance', 'metric': 'manhattan'}. Best is trial 16 with value: 0.734373103531982.\n",
            "[I 2025-09-29 15:53:05,920] Trial 28 finished with value: 0.6702269692923898 and parameters: {'n_neighbors': 11, 'weights': 'distance', 'metric': 'euclidean'}. Best is trial 16 with value: 0.734373103531982.\n",
            "[I 2025-09-29 15:53:05,935] Trial 29 finished with value: 0.6748998664886515 and parameters: {'n_neighbors': 3, 'weights': 'distance', 'metric': 'minkowski'}. Best is trial 16 with value: 0.734373103531982.\n",
            "[I 2025-09-29 15:53:05,950] Trial 30 finished with value: 0.7130719747542178 and parameters: {'n_neighbors': 9, 'weights': 'distance', 'metric': 'manhattan'}. Best is trial 16 with value: 0.734373103531982.\n",
            "[I 2025-09-29 15:53:05,965] Trial 31 finished with value: 0.7260589877412308 and parameters: {'n_neighbors': 8, 'weights': 'distance', 'metric': 'manhattan'}. Best is trial 16 with value: 0.734373103531982.\n",
            "[I 2025-09-29 15:53:05,979] Trial 32 finished with value: 0.7260589877412308 and parameters: {'n_neighbors': 8, 'weights': 'distance', 'metric': 'manhattan'}. Best is trial 16 with value: 0.734373103531982.\n",
            "[I 2025-09-29 15:53:06,003] Trial 33 finished with value: 0.7055467896589391 and parameters: {'n_neighbors': 18, 'weights': 'distance', 'metric': 'manhattan'}. Best is trial 16 with value: 0.734373103531982.\n",
            "[I 2025-09-29 15:53:06,024] Trial 34 finished with value: 0.7120402961524457 and parameters: {'n_neighbors': 10, 'weights': 'distance', 'metric': 'manhattan'}. Best is trial 16 with value: 0.734373103531982.\n",
            "[I 2025-09-29 15:53:06,044] Trial 35 finished with value: 0.7083990775579561 and parameters: {'n_neighbors': 5, 'weights': 'distance', 'metric': 'manhattan'}. Best is trial 16 with value: 0.734373103531982.\n",
            "[I 2025-09-29 15:53:06,059] Trial 36 finished with value: 0.6619128535016385 and parameters: {'n_neighbors': 3, 'weights': 'uniform', 'metric': 'euclidean'}. Best is trial 16 with value: 0.734373103531982.\n",
            "[I 2025-09-29 15:53:06,077] Trial 37 finished with value: 0.7102196868552008 and parameters: {'n_neighbors': 22, 'weights': 'distance', 'metric': 'manhattan'}. Best is trial 16 with value: 0.734373103531982.\n",
            "[I 2025-09-29 15:53:06,094] Trial 38 finished with value: 0.734373103531982 and parameters: {'n_neighbors': 7, 'weights': 'distance', 'metric': 'manhattan'}. Best is trial 16 with value: 0.734373103531982.\n",
            "[I 2025-09-29 15:53:06,108] Trial 39 finished with value: 0.7073673989561841 and parameters: {'n_neighbors': 6, 'weights': 'distance', 'metric': 'manhattan'}. Best is trial 16 with value: 0.734373103531982.\n",
            "[I 2025-09-29 15:53:06,122] Trial 40 finished with value: 0.6702269692923898 and parameters: {'n_neighbors': 11, 'weights': 'distance', 'metric': 'minkowski'}. Best is trial 16 with value: 0.734373103531982.\n",
            "[I 2025-09-29 15:53:06,135] Trial 41 finished with value: 0.734373103531982 and parameters: {'n_neighbors': 7, 'weights': 'distance', 'metric': 'manhattan'}. Best is trial 16 with value: 0.734373103531982.\n",
            "[I 2025-09-29 15:53:06,149] Trial 42 finished with value: 0.7083990775579561 and parameters: {'n_neighbors': 5, 'weights': 'distance', 'metric': 'manhattan'}. Best is trial 16 with value: 0.734373103531982.\n",
            "[I 2025-09-29 15:53:06,164] Trial 43 finished with value: 0.7130719747542178 and parameters: {'n_neighbors': 9, 'weights': 'distance', 'metric': 'manhattan'}. Best is trial 16 with value: 0.734373103531982.\n",
            "[I 2025-09-29 15:53:06,179] Trial 44 finished with value: 0.734373103531982 and parameters: {'n_neighbors': 7, 'weights': 'distance', 'metric': 'manhattan'}. Best is trial 16 with value: 0.734373103531982.\n",
            "[I 2025-09-29 15:53:06,192] Trial 45 finished with value: 0.6590605656026216 and parameters: {'n_neighbors': 2, 'weights': 'distance', 'metric': 'euclidean'}. Best is trial 16 with value: 0.734373103531982.\n",
            "[I 2025-09-29 15:53:06,205] Trial 46 finished with value: 0.6858235222721203 and parameters: {'n_neighbors': 4, 'weights': 'uniform', 'metric': 'manhattan'}. Best is trial 16 with value: 0.734373103531982.\n",
            "[I 2025-09-29 15:53:06,221] Trial 47 finished with value: 0.7120402961524457 and parameters: {'n_neighbors': 10, 'weights': 'distance', 'metric': 'manhattan'}. Best is trial 16 with value: 0.734373103531982.\n",
            "[I 2025-09-29 15:53:06,234] Trial 48 finished with value: 0.7073673989561841 and parameters: {'n_neighbors': 6, 'weights': 'distance', 'metric': 'manhattan'}. Best is trial 16 with value: 0.734373103531982.\n",
            "[I 2025-09-29 15:53:06,249] Trial 49 finished with value: 0.6925597766719261 and parameters: {'n_neighbors': 15, 'weights': 'distance', 'metric': 'manhattan'}. Best is trial 16 with value: 0.734373103531982.\n",
            "/usr/local/lib/python3.12/dist-packages/sklearn/utils/validation.py:2732: UserWarning: X has feature names, but KNeighborsClassifier was fitted without feature names\n",
            "  warnings.warn(\n"
          ]
        },
        {
          "output_type": "display_data",
          "data": {
            "text/plain": [
              "shape: (3, 8)\n",
              "┌──────────────┬─────────────┬──────────┬──────────┬───────────┬──────────┬──────────┬─────────────┐\n",
              "│ Model        ┆ Best Params ┆ ROC AUC  ┆ Accuracy ┆ Precision ┆ Recall   ┆ F1 Score ┆ Confusion   │\n",
              "│ ---          ┆ ---         ┆ ---      ┆ ---      ┆ ---       ┆ ---      ┆ ---      ┆ Matrix      │\n",
              "│ str          ┆ struct[12]  ┆ f64      ┆ f64      ┆ f64       ┆ f64      ┆ f64      ┆ ---         │\n",
              "│              ┆             ┆          ┆          ┆           ┆          ┆          ┆ list[list[i │\n",
              "│              ┆             ┆          ┆          ┆           ┆          ┆          ┆ 64]]        │\n",
              "╞══════════════╪═════════════╪══════════╪══════════╪═══════════╪══════════╪══════════╪═════════════╡\n",
              "│ Logistic     ┆ {null,null, ┆ 0.871465 ┆ 0.869565 ┆ 0.910891  ┆ 0.859813 ┆ 0.884615 ┆ [[68, 9],   │\n",
              "│ Regression   ┆ null,null,n ┆          ┆          ┆           ┆          ┆          ┆ [15, 92]]   │\n",
              "│              ┆ ull,null…   ┆          ┆          ┆           ┆          ┆          ┆             │\n",
              "│ XGBoost      ┆ {639,0.0064 ┆ 0.898471 ┆ 0.896739 ┆ 0.931373  ┆ 0.88785  ┆ 0.909091 ┆ [[70, 7],   │\n",
              "│              ┆ 34,5,5,0.11 ┆          ┆          ┆           ┆          ┆          ┆ [12, 95]]   │\n",
              "│              ┆ 7105,0.8…   ┆          ┆          ┆           ┆          ┆          ┆             │\n",
              "│ KNN          ┆ {null,null, ┆ 0.734373 ┆ 0.722826 ┆ 0.825581  ┆ 0.663551 ┆ 0.735751 ┆ [[62, 15],  │\n",
              "│              ┆ null,null,n ┆          ┆          ┆           ┆          ┆          ┆ [36, 71]]   │\n",
              "│              ┆ ull,null…   ┆          ┆          ┆           ┆          ┆          ┆             │\n",
              "└──────────────┴─────────────┴──────────┴──────────┴───────────┴──────────┴──────────┴─────────────┘"
            ],
            "text/html": [
              "<div><style>\n",
              ".dataframe > thead > tr,\n",
              ".dataframe > tbody > tr {\n",
              "  text-align: right;\n",
              "  white-space: pre-wrap;\n",
              "}\n",
              "</style>\n",
              "<small>shape: (3, 8)</small><table border=\"1\" class=\"dataframe\"><thead><tr><th>Model</th><th>Best Params</th><th>ROC AUC</th><th>Accuracy</th><th>Precision</th><th>Recall</th><th>F1 Score</th><th>Confusion Matrix</th></tr><tr><td>str</td><td>struct[12]</td><td>f64</td><td>f64</td><td>f64</td><td>f64</td><td>f64</td><td>list[list[i64]]</td></tr></thead><tbody><tr><td>&quot;Logistic Regression&quot;</td><td>{null,null,null,null,null,null,null,16611.217385,&quot;lbfgs&quot;,null,null,null}</td><td>0.871465</td><td>0.869565</td><td>0.910891</td><td>0.859813</td><td>0.884615</td><td>[[68, 9], [15, 92]]</td></tr><tr><td>&quot;XGBoost&quot;</td><td>{639,0.006434,5,5,0.117105,0.823955,0.879316,null,null,null,null,null}</td><td>0.898471</td><td>0.896739</td><td>0.931373</td><td>0.88785</td><td>0.909091</td><td>[[70, 7], [12, 95]]</td></tr><tr><td>&quot;KNN&quot;</td><td>{null,null,null,null,null,null,null,null,null,7,&quot;distance&quot;,&quot;manhattan&quot;}</td><td>0.734373</td><td>0.722826</td><td>0.825581</td><td>0.663551</td><td>0.735751</td><td>[[62, 15], [36, 71]]</td></tr></tbody></table></div>"
            ]
          },
          "metadata": {}
        }
      ]
    },
    {
      "cell_type": "markdown",
      "source": [
        "# Evaluation\n",
        "---"
      ],
      "metadata": {
        "id": "fNCkEn7cLHVa"
      }
    },
    {
      "cell_type": "code",
      "metadata": {
        "colab": {
          "base_uri": "https://localhost:8080/"
        },
        "id": "aeb130a4",
        "outputId": "4db27fe4-9a86-4739-f02c-42becb7b5a3b"
      },
      "source": [
        "# Extract best parameters for XGBoost directly from the study object\n",
        "xgb_best_params = study_xgb.best_params\n",
        "\n",
        "# Initialize and train the final XGBoost model with the best parameters\n",
        "final_xgb_model = XGBClassifier(**xgb_best_params, random_state=42)\n",
        "final_xgb_model.fit(X_train_resampled, y_train_resampled)\n",
        "\n",
        "# Evaluate the final model on the test set\n",
        "y_pred_final_xgb = final_xgb_model.predict(X_test.to_numpy())\n",
        "\n",
        "final_accuracy = accuracy_score(y_test, y_pred_final_xgb)\n",
        "final_precision = precision_score(y_test, y_pred_final_xgb)\n",
        "final_recall = recall_score(y_test, y_pred_final_xgb)\n",
        "final_f1 = f1_score(y_test, y_pred_final_xgb)\n",
        "final_roc_auc = roc_auc_score(y_test, y_pred_final_xgb)\n",
        "final_conf_matrix = confusion_matrix(y_test, y_pred_final_xgb)\n",
        "\n",
        "print(\"Final XGBoost Model Performance:\")\n",
        "print(f\"Accuracy: {final_accuracy:.4f}\")\n",
        "print(f\"Precision: {final_precision:.4f}\")\n",
        "print(f\"Recall: {final_recall:.4f}\")\n",
        "print(f\"F1 Score: {final_f1:.4f}\")\n",
        "print(f\"ROC AUC: {final_roc_auc:.4f}\")\n",
        "print(\"Confusion Matrix:\")\n",
        "print(final_conf_matrix)"
      ],
      "execution_count": 95,
      "outputs": [
        {
          "output_type": "stream",
          "name": "stdout",
          "text": [
            "Final XGBoost Model Performance:\n",
            "Accuracy: 0.8967\n",
            "Precision: 0.9314\n",
            "Recall: 0.8879\n",
            "F1 Score: 0.9091\n",
            "ROC AUC: 0.8985\n",
            "Confusion Matrix:\n",
            "[[70  7]\n",
            " [12 95]]\n"
          ]
        }
      ]
    },
    {
      "cell_type": "code",
      "metadata": {
        "colab": {
          "base_uri": "https://localhost:8080/",
          "height": 564
        },
        "id": "9895a187",
        "outputId": "c450b444-d74f-4896-feb3-6af2c7e41f97"
      },
      "source": [
        "# Visualize the confusion matrix\n",
        "plt.figure(figsize=(8, 6))\n",
        "sns.heatmap(final_conf_matrix, annot=True, fmt='d', cmap='Blues', cbar=False,\n",
        "            xticklabels=['Predicted Negative', 'Predicted Positive'],\n",
        "            yticklabels=['Actual Negative', 'Actual Positive'])\n",
        "plt.xlabel('Predicted Label')\n",
        "plt.ylabel('True Label')\n",
        "plt.title('Confusion Matrix for Final XGBoost Model')\n",
        "plt.show()"
      ],
      "execution_count": 96,
      "outputs": [
        {
          "output_type": "display_data",
          "data": {
            "text/plain": [
              "<Figure size 800x600 with 1 Axes>"
            ],
            "image/png": "[encoded data removed]"
          },
          "metadata": {}
        }
      ]
    },
    {
      "cell_type": "code",
      "metadata": {
        "colab": {
          "base_uri": "https://localhost:8080/",
          "height": 951
        },
        "id": "8e7506cf",
        "outputId": "96b6b4a5-3006-41c0-bdae-31d59182fc20"
      },
      "source": [
        "# get feature importances from the trained XGBoost model\n",
        "feature_importances = final_xgb_model.feature_importances_\n",
        "\n",
        "# get the feature names from the training data\n",
        "feature_names = X_train.columns\n",
        "\n",
        "# create a DataFrame to display feature importance\n",
        "importance_df = pl.DataFrame({'Feature': feature_names, 'Importance': feature_importances})\n",
        "\n",
        "# sort the DataFrame by importance in descending order\n",
        "importance_df = importance_df.sort(by='Importance', descending=True)\n",
        "\n",
        "# Display the feature importance\n",
        "print(\"Feature Significance (Importance) from XGBoost Model:\")\n",
        "display(importance_df)\n",
        "\n",
        "# Optionally, visualize the feature importance\n",
        "plt.figure(figsize=(10, 6))\n",
        "sns.barplot(x='Importance', y='Feature', data=importance_df.to_pandas()) # Convert to pandas for seaborn plotting\n",
        "plt.title('Feature Importance from XGBoost Model')\n",
        "plt.xlabel('Importance')\n",
        "plt.ylabel('Feature')\n",
        "plt.tight_layout()\n",
        "plt.show()"
      ],
      "execution_count": 97,
      "outputs": [
        {
          "output_type": "stream",
          "name": "stdout",
          "text": [
            "Feature Significance (Importance) from XGBoost Model:\n"
          ]
        },
        {
          "output_type": "display_data",
          "data": {
            "text/plain": [
              "shape: (15, 2)\n",
              "┌───────────────────┬────────────┐\n",
              "│ Feature           ┆ Importance │\n",
              "│ ---               ┆ ---        │\n",
              "│ str               ┆ f32        │\n",
              "╞═══════════════════╪════════════╡\n",
              "│ ST_Slope_Flat     ┆ 0.302388   │\n",
              "│ ExerciseAngina_Y  ┆ 0.194699   │\n",
              "│ ChestPainType_ASY ┆ 0.109592   │\n",
              "│ ST_Slope_Down     ┆ 0.085591   │\n",
              "│ Sex_F             ┆ 0.059752   │\n",
              "│ …                 ┆ …          │\n",
              "│ Age               ┆ 0.022581   │\n",
              "│ RestingBP         ┆ 0.02023    │\n",
              "│ RestingECG_ST     ┆ 0.01906    │\n",
              "│ ChestPainType_NAP ┆ 0.01549    │\n",
              "│ ChestPainType_TA  ┆ 0.0        │\n",
              "└───────────────────┴────────────┘"
            ],
            "text/html": [
              "<div><style>\n",
              ".dataframe > thead > tr,\n",
              ".dataframe > tbody > tr {\n",
              "  text-align: right;\n",
              "  white-space: pre-wrap;\n",
              "}\n",
              "</style>\n",
              "<small>shape: (15, 2)</small><table border=\"1\" class=\"dataframe\"><thead><tr><th>Feature</th><th>Importance</th></tr><tr><td>str</td><td>f32</td></tr></thead><tbody><tr><td>&quot;ST_Slope_Flat&quot;</td><td>0.302388</td></tr><tr><td>&quot;ExerciseAngina_Y&quot;</td><td>0.194699</td></tr><tr><td>&quot;ChestPainType_ASY&quot;</td><td>0.109592</td></tr><tr><td>&quot;ST_Slope_Down&quot;</td><td>0.085591</td></tr><tr><td>&quot;Sex_F&quot;</td><td>0.059752</td></tr><tr><td>&hellip;</td><td>&hellip;</td></tr><tr><td>&quot;Age&quot;</td><td>0.022581</td></tr><tr><td>&quot;RestingBP&quot;</td><td>0.02023</td></tr><tr><td>&quot;RestingECG_ST&quot;</td><td>0.01906</td></tr><tr><td>&quot;ChestPainType_NAP&quot;</td><td>0.01549</td></tr><tr><td>&quot;ChestPainType_TA&quot;</td><td>0.0</td></tr></tbody></table></div>"
            ]
          },
          "metadata": {}
        },
        {
          "output_type": "display_data",
          "data": {
            "text/plain": [
              "<Figure size 1000x600 with 1 Axes>"
            ],
            "image/png": "[encoded data removed]"
          },
          "metadata": {}
        }
      ]
    },
    {
      "cell_type": "markdown",
      "source": [
        "# What I've Learned\n",
        "---\n",
        "We've learned that the top 3 most signifiant variables to detect a possible heart disease issue are when\n",
        "- the ST slope is flat, which makes sense. The ST slope being flat or flat-lined means that someone is not living anymore or at least the heart is not pumping anymore;\n",
        "- Exercise angina or pain that occurs during a physical activity is a common sign of heart disease;\n",
        "- And asymptomatic angina for chest pain type is also a significant sign for heart disease, which is a condition where your heart muscle doesn't get enough oxygen due to narrowed or even blocked coronary arteries, but the individual doesn't really experience the chest pain or other warnings that it's actually blocked.  \n",
        "\n",
        "# Impact\n",
        "---\n",
        "Detecting variables for heart disease is very impactful because it could literally save someones life, depending on the time these variables were recorded. It would be cool to see certain patients who've gotten diagnosed sooner so we can prioiritize which variables need to be taken care of first or if we can treat multiple variables at the same time. It would also be cool to see if two or more variables together cause something else, which I think is called interaction terms.\n",
        "\n",
        "# References\n",
        "---\n",
        "Kaggle Dataset: https://www.kaggle.com/datasets/fedesoriano/heart-failure-prediction"
      ],
      "metadata": {
        "id": "BNu9xwJ4dSQ-"
      }
    },
    {
      "cell_type": "code",
      "source": [
        "from pathlib import Path\n",
        "focus_path = Path(\"/content/drive/MyDrive/Colab Notebooks/Heart Disease.ipynb\")"
      ],
      "metadata": {
        "id": "9c0doMMxLjoI"
      },
      "execution_count": 98,
      "outputs": []
    },
    {
      "cell_type": "code",
      "source": [
        "!jupyter nbconvert --to html \"{focus_path}\""
      ],
      "metadata": {
        "colab": {
          "base_uri": "https://localhost:8080/"
        },
        "id": "OT_QCG-EL29I",
        "outputId": "f0735652-aa24-4c74-a3c3-b9942f32624d"
      },
      "execution_count": 99,
      "outputs": [
        {
          "output_type": "stream",
          "name": "stdout",
          "text": [
            "[NbConvertApp] Converting notebook /content/drive/MyDrive/Colab Notebooks/Heart Disease.ipynb to html\n",
            "[NbConvertApp] WARNING | Alternative text is missing on 12 image(s).\n",
            "[NbConvertApp] Writing 505803 bytes to /content/drive/MyDrive/Colab Notebooks/Heart Disease.html\n"
          ]
        }
      ]
    }
  ]
}