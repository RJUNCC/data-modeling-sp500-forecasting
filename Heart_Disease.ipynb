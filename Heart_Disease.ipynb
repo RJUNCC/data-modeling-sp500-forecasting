{
  "nbformat": 4,
  "nbformat_minor": 0,
  "metadata": {
    "colab": {
      "provenance": []
    },
    "kernelspec": {
      "name": "python3",
      "display_name": "Python 3"
    },
    "language_info": {
      "name": "python"
    }
  },
  "cells": [
    {
      "cell_type": "code",
      "execution_count": 76,
      "metadata": {
        "colab": {
          "base_uri": "https://localhost:8080/"
        },
        "id": "-HLHX6n_h59H",
        "outputId": "97e07996-e2ce-4c1a-c1de-86262187024a"
      },
      "outputs": [
        {
          "output_type": "stream",
          "name": "stdout",
          "text": [
            "Drive already mounted at /content/drive; to attempt to forcibly remount, call drive.mount(\"/content/drive\", force_remount=True).\n"
          ]
        }
      ],
      "source": [
        "from google.colab import drive\n",
        "drive.mount('/content/drive')"
      ]
    },
    {
      "cell_type": "markdown",
      "source": [
        "# Introduction\n",
        "---\n",
        "This project is about looking into the most significant variables for detecting a heart failure.\n",
        "\n",
        "# Data Introduction\n",
        "---\n",
        "This data is from Kaggle: https://www.kaggle.com/datasets/fedesoriano/heart-failure-prediction/data\n",
        "It contains 12 features:\n",
        "- 7 qualitative\n",
        "- 5 quantitative\n",
        "\n",
        "The target variable is `HeartDisease`:\n",
        "- 1 means that observation has detected a heart disease\n",
        "- 0 means that there is no heart disease\n",
        "\n",
        "We are interested in these variables, with descriptions according to Kaggle Data Card:\n",
        "- Age: I'm assuming the older someone is, the more likely they'll have a heart disease.\n",
        "- Sex: Male or female\n",
        "- ChestPainType: There are 4 different type's of chest pain in this dataset:\n",
        "  - TA: Typical Angina -\n",
        "  - ATA: Atypical Angina -\n",
        "  - NAP: Non-Anginal Pain -\n",
        "  - ASY: Asymptomatic -\n",
        "- RestBP: High resting BP might be a sign of a possible heart attack.\n",
        "- Cholesterol: A cholesterol above a certain threshold might cause a heart attack.\n",
        "- FastingBS: Fasting blood sugar:\n",
        "  - 1: if FastingBS > 120\n",
        "  - 0: Otherwise\n",
        "- RestingECG: 3 different levels\n",
        "  - Normal\n",
        "  - ST: having ST-T wave abnormality (depression)\n",
        "  - LVH: showing probable or definite left ventricular hypertrophy\n",
        "- MaxHR: Maximum heart rate achieved\n",
        "- ExerciseAngina: Exercise-induced angina with 2 outcomes\n",
        "  - Yes\n",
        "  - No\n",
        "- Oldpeak: ST - numeric value measured in depression\n",
        "- ST_Slope: slope of peak exercise ST segment\n",
        "  - Up: upsloping\n",
        "  - Flat: flat\n",
        "  - Down: downsloping"
      ],
      "metadata": {
        "id": "YPvy-vQuh-ti"
      }
    },
    {
      "cell_type": "code",
      "source": [
        "# import libraries\n",
        "import polars as pl\n",
        "import matplotlib.pyplot as plt\n",
        "import seaborn as sns\n",
        "import numpy as np"
      ],
      "metadata": {
        "id": "0y2XLylsjTxd"
      },
      "execution_count": 77,
      "outputs": []
    },
    {
      "cell_type": "code",
      "source": [
        "# import data with polars\n",
        "path = \"/content/drive/MyDrive/Data/heart.xls\"\n",
        "df = pl.read_csv(path)\n",
        "df.head()"
      ],
      "metadata": {
        "colab": {
          "base_uri": "https://localhost:8080/",
          "height": 255
        },
        "id": "Tuw-h-Ikh8i3",
        "outputId": "d3c754ba-5965-4b24-c623-147c05ef66d8"
      },
      "execution_count": 78,
      "outputs": [
        {
          "output_type": "execute_result",
          "data": {
            "text/plain": [
              "shape: (5, 12)\n",
              "┌─────┬─────┬───────────────┬───────────┬───┬────────────────┬─────────┬──────────┬──────────────┐\n",
              "│ Age ┆ Sex ┆ ChestPainType ┆ RestingBP ┆ … ┆ ExerciseAngina ┆ Oldpeak ┆ ST_Slope ┆ HeartDisease │\n",
              "│ --- ┆ --- ┆ ---           ┆ ---       ┆   ┆ ---            ┆ ---     ┆ ---      ┆ ---          │\n",
              "│ i64 ┆ str ┆ str           ┆ i64       ┆   ┆ str            ┆ f64     ┆ str      ┆ i64          │\n",
              "╞═════╪═════╪═══════════════╪═══════════╪═══╪════════════════╪═════════╪══════════╪══════════════╡\n",
              "│ 40  ┆ M   ┆ ATA           ┆ 140       ┆ … ┆ N              ┆ 0.0     ┆ Up       ┆ 0            │\n",
              "│ 49  ┆ F   ┆ NAP           ┆ 160       ┆ … ┆ N              ┆ 1.0     ┆ Flat     ┆ 1            │\n",
              "│ 37  ┆ M   ┆ ATA           ┆ 130       ┆ … ┆ N              ┆ 0.0     ┆ Up       ┆ 0            │\n",
              "│ 48  ┆ F   ┆ ASY           ┆ 138       ┆ … ┆ Y              ┆ 1.5     ┆ Flat     ┆ 1            │\n",
              "│ 54  ┆ M   ┆ NAP           ┆ 150       ┆ … ┆ N              ┆ 0.0     ┆ Up       ┆ 0            │\n",
              "└─────┴─────┴───────────────┴───────────┴───┴────────────────┴─────────┴──────────┴──────────────┘"
            ],
            "text/html": [
              "<div><style>\n",
              ".dataframe > thead > tr,\n",
              ".dataframe > tbody > tr {\n",
              "  text-align: right;\n",
              "  white-space: pre-wrap;\n",
              "}\n",
              "</style>\n",
              "<small>shape: (5, 12)</small><table border=\"1\" class=\"dataframe\"><thead><tr><th>Age</th><th>Sex</th><th>ChestPainType</th><th>RestingBP</th><th>Cholesterol</th><th>FastingBS</th><th>RestingECG</th><th>MaxHR</th><th>ExerciseAngina</th><th>Oldpeak</th><th>ST_Slope</th><th>HeartDisease</th></tr><tr><td>i64</td><td>str</td><td>str</td><td>i64</td><td>i64</td><td>i64</td><td>str</td><td>i64</td><td>str</td><td>f64</td><td>str</td><td>i64</td></tr></thead><tbody><tr><td>40</td><td>&quot;M&quot;</td><td>&quot;ATA&quot;</td><td>140</td><td>289</td><td>0</td><td>&quot;Normal&quot;</td><td>172</td><td>&quot;N&quot;</td><td>0.0</td><td>&quot;Up&quot;</td><td>0</td></tr><tr><td>49</td><td>&quot;F&quot;</td><td>&quot;NAP&quot;</td><td>160</td><td>180</td><td>0</td><td>&quot;Normal&quot;</td><td>156</td><td>&quot;N&quot;</td><td>1.0</td><td>&quot;Flat&quot;</td><td>1</td></tr><tr><td>37</td><td>&quot;M&quot;</td><td>&quot;ATA&quot;</td><td>130</td><td>283</td><td>0</td><td>&quot;ST&quot;</td><td>98</td><td>&quot;N&quot;</td><td>0.0</td><td>&quot;Up&quot;</td><td>0</td></tr><tr><td>48</td><td>&quot;F&quot;</td><td>&quot;ASY&quot;</td><td>138</td><td>214</td><td>0</td><td>&quot;Normal&quot;</td><td>108</td><td>&quot;Y&quot;</td><td>1.5</td><td>&quot;Flat&quot;</td><td>1</td></tr><tr><td>54</td><td>&quot;M&quot;</td><td>&quot;NAP&quot;</td><td>150</td><td>195</td><td>0</td><td>&quot;Normal&quot;</td><td>122</td><td>&quot;N&quot;</td><td>0.0</td><td>&quot;Up&quot;</td><td>0</td></tr></tbody></table></div>"
            ]
          },
          "metadata": {},
          "execution_count": 78
        }
      ]
    },
    {
      "cell_type": "code",
      "source": [
        "df[\"RestingECG\"].value_counts()"
      ],
      "metadata": {
        "colab": {
          "base_uri": "https://localhost:8080/",
          "height": 192
        },
        "id": "Bjrmr_B0slwL",
        "outputId": "ec9cb5a3-45ec-47ff-cd1b-5e8b41696f20"
      },
      "execution_count": 79,
      "outputs": [
        {
          "output_type": "execute_result",
          "data": {
            "text/plain": [
              "shape: (3, 2)\n",
              "┌────────────┬───────┐\n",
              "│ RestingECG ┆ count │\n",
              "│ ---        ┆ ---   │\n",
              "│ str        ┆ u32   │\n",
              "╞════════════╪═══════╡\n",
              "│ LVH        ┆ 188   │\n",
              "│ Normal     ┆ 552   │\n",
              "│ ST         ┆ 178   │\n",
              "└────────────┴───────┘"
            ],
            "text/html": [
              "<div><style>\n",
              ".dataframe > thead > tr,\n",
              ".dataframe > tbody > tr {\n",
              "  text-align: right;\n",
              "  white-space: pre-wrap;\n",
              "}\n",
              "</style>\n",
              "<small>shape: (3, 2)</small><table border=\"1\" class=\"dataframe\"><thead><tr><th>RestingECG</th><th>count</th></tr><tr><td>str</td><td>u32</td></tr></thead><tbody><tr><td>&quot;LVH&quot;</td><td>188</td></tr><tr><td>&quot;Normal&quot;</td><td>552</td></tr><tr><td>&quot;ST&quot;</td><td>178</td></tr></tbody></table></div>"
            ]
          },
          "metadata": {},
          "execution_count": 79
        }
      ]
    },
    {
      "cell_type": "markdown",
      "source": [
        "# Data Information\n",
        "---"
      ],
      "metadata": {
        "id": "El7HwktClq9q"
      }
    },
    {
      "cell_type": "code",
      "source": [
        "df.glimpse()"
      ],
      "metadata": {
        "colab": {
          "base_uri": "https://localhost:8080/"
        },
        "id": "LfzhBP9DkX0h",
        "outputId": "f4f47701-c14d-42a7-b043-b66eec8fe313"
      },
      "execution_count": 80,
      "outputs": [
        {
          "output_type": "stream",
          "name": "stdout",
          "text": [
            "Rows: 918\n",
            "Columns: 12\n",
            "$ Age            <i64> 40, 49, 37, 48, 54, 39, 45, 54, 37, 48\n",
            "$ Sex            <str> 'M', 'F', 'M', 'F', 'M', 'M', 'F', 'M', 'M', 'F'\n",
            "$ ChestPainType  <str> 'ATA', 'NAP', 'ATA', 'ASY', 'NAP', 'NAP', 'ATA', 'ATA', 'ASY', 'ATA'\n",
            "$ RestingBP      <i64> 140, 160, 130, 138, 150, 120, 130, 110, 140, 120\n",
            "$ Cholesterol    <i64> 289, 180, 283, 214, 195, 339, 237, 208, 207, 284\n",
            "$ FastingBS      <i64> 0, 0, 0, 0, 0, 0, 0, 0, 0, 0\n",
            "$ RestingECG     <str> 'Normal', 'Normal', 'ST', 'Normal', 'Normal', 'Normal', 'Normal', 'Normal', 'Normal', 'Normal'\n",
            "$ MaxHR          <i64> 172, 156, 98, 108, 122, 170, 170, 142, 130, 120\n",
            "$ ExerciseAngina <str> 'N', 'N', 'N', 'Y', 'N', 'N', 'N', 'N', 'Y', 'N'\n",
            "$ Oldpeak        <f64> 0.0, 1.0, 0.0, 1.5, 0.0, 0.0, 0.0, 0.0, 1.5, 0.0\n",
            "$ ST_Slope       <str> 'Up', 'Flat', 'Up', 'Flat', 'Up', 'Up', 'Up', 'Up', 'Flat', 'Up'\n",
            "$ HeartDisease   <i64> 0, 1, 0, 1, 0, 0, 0, 0, 1, 0\n",
            "\n"
          ]
        }
      ]
    },
    {
      "cell_type": "code",
      "source": [
        "df.describe()"
      ],
      "metadata": {
        "colab": {
          "base_uri": "https://localhost:8080/",
          "height": 380
        },
        "id": "CmkLRJAClFkz",
        "outputId": "2a930d98-8639-42c9-85c9-98fed375bd05"
      },
      "execution_count": 81,
      "outputs": [
        {
          "output_type": "execute_result",
          "data": {
            "text/plain": [
              "shape: (9, 13)\n",
              "┌────────────┬───────────┬──────┬─────────────┬───┬─────────────┬──────────┬──────────┬────────────┐\n",
              "│ statistic  ┆ Age       ┆ Sex  ┆ ChestPainTy ┆ … ┆ ExerciseAng ┆ Oldpeak  ┆ ST_Slope ┆ HeartDisea │\n",
              "│ ---        ┆ ---       ┆ ---  ┆ pe          ┆   ┆ ina         ┆ ---      ┆ ---      ┆ se         │\n",
              "│ str        ┆ f64       ┆ str  ┆ ---         ┆   ┆ ---         ┆ f64      ┆ str      ┆ ---        │\n",
              "│            ┆           ┆      ┆ str         ┆   ┆ str         ┆          ┆          ┆ f64        │\n",
              "╞════════════╪═══════════╪══════╪═════════════╪═══╪═════════════╪══════════╪══════════╪════════════╡\n",
              "│ count      ┆ 918.0     ┆ 918  ┆ 918         ┆ … ┆ 918         ┆ 918.0    ┆ 918      ┆ 918.0      │\n",
              "│ null_count ┆ 0.0       ┆ 0    ┆ 0           ┆ … ┆ 0           ┆ 0.0      ┆ 0        ┆ 0.0        │\n",
              "│ mean       ┆ 53.510893 ┆ null ┆ null        ┆ … ┆ null        ┆ 0.887364 ┆ null     ┆ 0.553377   │\n",
              "│ std        ┆ 9.432617  ┆ null ┆ null        ┆ … ┆ null        ┆ 1.06657  ┆ null     ┆ 0.497414   │\n",
              "│ min        ┆ 28.0      ┆ F    ┆ ASY         ┆ … ┆ N           ┆ -2.6     ┆ Down     ┆ 0.0        │\n",
              "│ 25%        ┆ 47.0      ┆ null ┆ null        ┆ … ┆ null        ┆ 0.0      ┆ null     ┆ 0.0        │\n",
              "│ 50%        ┆ 54.0      ┆ null ┆ null        ┆ … ┆ null        ┆ 0.6      ┆ null     ┆ 1.0        │\n",
              "│ 75%        ┆ 60.0      ┆ null ┆ null        ┆ … ┆ null        ┆ 1.5      ┆ null     ┆ 1.0        │\n",
              "│ max        ┆ 77.0      ┆ M    ┆ TA          ┆ … ┆ Y           ┆ 6.2      ┆ Up       ┆ 1.0        │\n",
              "└────────────┴───────────┴──────┴─────────────┴───┴─────────────┴──────────┴──────────┴────────────┘"
            ],
            "text/html": [
              "<div><style>\n",
              ".dataframe > thead > tr,\n",
              ".dataframe > tbody > tr {\n",
              "  text-align: right;\n",
              "  white-space: pre-wrap;\n",
              "}\n",
              "</style>\n",
              "<small>shape: (9, 13)</small><table border=\"1\" class=\"dataframe\"><thead><tr><th>statistic</th><th>Age</th><th>Sex</th><th>ChestPainType</th><th>RestingBP</th><th>Cholesterol</th><th>FastingBS</th><th>RestingECG</th><th>MaxHR</th><th>ExerciseAngina</th><th>Oldpeak</th><th>ST_Slope</th><th>HeartDisease</th></tr><tr><td>str</td><td>f64</td><td>str</td><td>str</td><td>f64</td><td>f64</td><td>f64</td><td>str</td><td>f64</td><td>str</td><td>f64</td><td>str</td><td>f64</td></tr></thead><tbody><tr><td>&quot;count&quot;</td><td>918.0</td><td>&quot;918&quot;</td><td>&quot;918&quot;</td><td>918.0</td><td>918.0</td><td>918.0</td><td>&quot;918&quot;</td><td>918.0</td><td>&quot;918&quot;</td><td>918.0</td><td>&quot;918&quot;</td><td>918.0</td></tr><tr><td>&quot;null_count&quot;</td><td>0.0</td><td>&quot;0&quot;</td><td>&quot;0&quot;</td><td>0.0</td><td>0.0</td><td>0.0</td><td>&quot;0&quot;</td><td>0.0</td><td>&quot;0&quot;</td><td>0.0</td><td>&quot;0&quot;</td><td>0.0</td></tr><tr><td>&quot;mean&quot;</td><td>53.510893</td><td>null</td><td>null</td><td>132.396514</td><td>198.799564</td><td>0.233115</td><td>null</td><td>136.809368</td><td>null</td><td>0.887364</td><td>null</td><td>0.553377</td></tr><tr><td>&quot;std&quot;</td><td>9.432617</td><td>null</td><td>null</td><td>18.514154</td><td>109.384145</td><td>0.423046</td><td>null</td><td>25.460334</td><td>null</td><td>1.06657</td><td>null</td><td>0.497414</td></tr><tr><td>&quot;min&quot;</td><td>28.0</td><td>&quot;F&quot;</td><td>&quot;ASY&quot;</td><td>0.0</td><td>0.0</td><td>0.0</td><td>&quot;LVH&quot;</td><td>60.0</td><td>&quot;N&quot;</td><td>-2.6</td><td>&quot;Down&quot;</td><td>0.0</td></tr><tr><td>&quot;25%&quot;</td><td>47.0</td><td>null</td><td>null</td><td>120.0</td><td>173.0</td><td>0.0</td><td>null</td><td>120.0</td><td>null</td><td>0.0</td><td>null</td><td>0.0</td></tr><tr><td>&quot;50%&quot;</td><td>54.0</td><td>null</td><td>null</td><td>130.0</td><td>223.0</td><td>0.0</td><td>null</td><td>138.0</td><td>null</td><td>0.6</td><td>null</td><td>1.0</td></tr><tr><td>&quot;75%&quot;</td><td>60.0</td><td>null</td><td>null</td><td>140.0</td><td>267.0</td><td>0.0</td><td>null</td><td>156.0</td><td>null</td><td>1.5</td><td>null</td><td>1.0</td></tr><tr><td>&quot;max&quot;</td><td>77.0</td><td>&quot;M&quot;</td><td>&quot;TA&quot;</td><td>200.0</td><td>603.0</td><td>1.0</td><td>&quot;ST&quot;</td><td>202.0</td><td>&quot;Y&quot;</td><td>6.2</td><td>&quot;Up&quot;</td><td>1.0</td></tr></tbody></table></div>"
            ]
          },
          "metadata": {},
          "execution_count": 81
        }
      ]
    },
    {
      "cell_type": "code",
      "source": [
        "df.null_count()"
      ],
      "metadata": {
        "colab": {
          "base_uri": "https://localhost:8080/",
          "height": 129
        },
        "id": "eQw2dcD9ljGg",
        "outputId": "dd63e6ca-c27e-443b-c4d2-593ea86ac079"
      },
      "execution_count": 82,
      "outputs": [
        {
          "output_type": "execute_result",
          "data": {
            "text/plain": [
              "shape: (1, 12)\n",
              "┌─────┬─────┬───────────────┬───────────┬───┬────────────────┬─────────┬──────────┬──────────────┐\n",
              "│ Age ┆ Sex ┆ ChestPainType ┆ RestingBP ┆ … ┆ ExerciseAngina ┆ Oldpeak ┆ ST_Slope ┆ HeartDisease │\n",
              "│ --- ┆ --- ┆ ---           ┆ ---       ┆   ┆ ---            ┆ ---     ┆ ---      ┆ ---          │\n",
              "│ u32 ┆ u32 ┆ u32           ┆ u32       ┆   ┆ u32            ┆ u32     ┆ u32      ┆ u32          │\n",
              "╞═════╪═════╪═══════════════╪═══════════╪═══╪════════════════╪═════════╪══════════╪══════════════╡\n",
              "│ 0   ┆ 0   ┆ 0             ┆ 0         ┆ … ┆ 0              ┆ 0       ┆ 0        ┆ 0            │\n",
              "└─────┴─────┴───────────────┴───────────┴───┴────────────────┴─────────┴──────────┴──────────────┘"
            ],
            "text/html": [
              "<div><style>\n",
              ".dataframe > thead > tr,\n",
              ".dataframe > tbody > tr {\n",
              "  text-align: right;\n",
              "  white-space: pre-wrap;\n",
              "}\n",
              "</style>\n",
              "<small>shape: (1, 12)</small><table border=\"1\" class=\"dataframe\"><thead><tr><th>Age</th><th>Sex</th><th>ChestPainType</th><th>RestingBP</th><th>Cholesterol</th><th>FastingBS</th><th>RestingECG</th><th>MaxHR</th><th>ExerciseAngina</th><th>Oldpeak</th><th>ST_Slope</th><th>HeartDisease</th></tr><tr><td>u32</td><td>u32</td><td>u32</td><td>u32</td><td>u32</td><td>u32</td><td>u32</td><td>u32</td><td>u32</td><td>u32</td><td>u32</td><td>u32</td></tr></thead><tbody><tr><td>0</td><td>0</td><td>0</td><td>0</td><td>0</td><td>0</td><td>0</td><td>0</td><td>0</td><td>0</td><td>0</td><td>0</td></tr></tbody></table></div>"
            ]
          },
          "metadata": {},
          "execution_count": 82
        }
      ]
    },
    {
      "cell_type": "markdown",
      "source": [
        "# Data Visualization\n",
        "---\n",
        "We want to check if there is a class imbalance with countplots. We also want to check the numerical features and see if there's any outliers. I also want to just split the categorical features and the numerical features, so that it's easier to work. I'm also going to turn `Age`, `RestingBP`, `Cholesterol`, and, `MaxHR` to Float's and keep the integer types as integers because they are encoded categorical variables."
      ],
      "metadata": {
        "id": "0mjo0ydTl8TS"
      }
    },
    {
      "cell_type": "code",
      "source": [
        "# class imbalance\n",
        "df[\"HeartDisease\"].value_counts().to_pandas().plot(kind=\"bar\")\n",
        "plt.show()"
      ],
      "metadata": {
        "colab": {
          "base_uri": "https://localhost:8080/",
          "height": 425
        },
        "id": "d8Ajck0ouF9A",
        "outputId": "44a1f554-c917-4064-8dff-153a89245831"
      },
      "execution_count": 83,
      "outputs": [
        {
          "output_type": "display_data",
          "data": {
            "text/plain": [
              "<Figure size 640x480 with 1 Axes>"
            ],
            "image/png": "[encoded data removed]"
          },
          "metadata": {}
        }
      ]
    },
    {
      "cell_type": "markdown",
      "source": [
        "- So there is a bit of a class imbalance, and we wil use SMOTE later for \"over-sampling\" so the classes can be equal."
      ],
      "metadata": {
        "id": "2c3dZvntuRip"
      }
    },
    {
      "cell_type": "code",
      "source": [
        "# convert Age, RestingBP, Cholesterol, and MaxHR to floats and qualitative strings and ints to categorical\n",
        "df = df.with_columns(\n",
        "    pl.col(\"Age\").cast(pl.Float64),\n",
        "    pl.col(\"RestingBP\").cast(pl.Float64),\n",
        "    pl.col(\"Cholesterol\").cast(pl.Float64),\n",
        "    pl.col(\"MaxHR\").cast(pl.Float64),\n",
        "    pl.col(\"FastingBS\").cast(pl.Utf8).cast(pl.Categorical),\n",
        "    pl.col(\"Sex\").cast(pl.Utf8).cast(pl.Categorical),\n",
        "    pl.col(\"ChestPainType\").cast(pl.Utf8).cast(pl.Categorical),\n",
        "    pl.col(\"RestingECG\").cast(pl.Utf8).cast(pl.Categorical),\n",
        "    pl.col(\"ExerciseAngina\").cast(pl.Utf8).cast(pl.Categorical),\n",
        "    pl.col(\"ST_Slope\").cast(pl.Utf8).cast(pl.Categorical),\n",
        "    pl.col(\"HeartDisease\").cast(pl.Utf8).cast(pl.Categorical)\n",
        ")\n",
        "df.glimpse()"
      ],
      "metadata": {
        "colab": {
          "base_uri": "https://localhost:8080/"
        },
        "id": "y36I2iyTv4Yk",
        "outputId": "46e57a23-cccd-4c55-94db-75844cb82585"
      },
      "execution_count": 84,
      "outputs": [
        {
          "output_type": "stream",
          "name": "stdout",
          "text": [
            "Rows: 918\n",
            "Columns: 12\n",
            "$ Age            <f64> 40.0, 49.0, 37.0, 48.0, 54.0, 39.0, 45.0, 54.0, 37.0, 48.0\n",
            "$ Sex            <cat> M, F, M, F, M, M, F, M, M, F\n",
            "$ ChestPainType  <cat> ATA, NAP, ATA, ASY, NAP, NAP, ATA, ATA, ASY, ATA\n",
            "$ RestingBP      <f64> 140.0, 160.0, 130.0, 138.0, 150.0, 120.0, 130.0, 110.0, 140.0, 120.0\n",
            "$ Cholesterol    <f64> 289.0, 180.0, 283.0, 214.0, 195.0, 339.0, 237.0, 208.0, 207.0, 284.0\n",
            "$ FastingBS      <cat> 0, 0, 0, 0, 0, 0, 0, 0, 0, 0\n",
            "$ RestingECG     <cat> Normal, Normal, ST, Normal, Normal, Normal, Normal, Normal, Normal, Normal\n",
            "$ MaxHR          <f64> 172.0, 156.0, 98.0, 108.0, 122.0, 170.0, 170.0, 142.0, 130.0, 120.0\n",
            "$ ExerciseAngina <cat> N, N, N, Y, N, N, N, N, Y, N\n",
            "$ Oldpeak        <f64> 0.0, 1.0, 0.0, 1.5, 0.0, 0.0, 0.0, 0.0, 1.5, 0.0\n",
            "$ ST_Slope       <cat> Up, Flat, Up, Flat, Up, Up, Up, Up, Flat, Up\n",
            "$ HeartDisease   <cat> 0, 1, 0, 1, 0, 0, 0, 0, 1, 0\n",
            "\n"
          ]
        }
      ]
    },
    {
      "cell_type": "code",
      "source": [
        "num_vars = df.select([col for col in df.columns if df[col].dtype == pl.Float64])\n",
        "cat_vars = df.select([col for col in df.columns if df[col].dtype == pl.Categorical ])\n",
        "num_vars, cat_vars"
      ],
      "metadata": {
        "colab": {
          "base_uri": "https://localhost:8080/"
        },
        "id": "uG2W40XJufoI",
        "outputId": "13ea29af-1cc2-42b8-be09-8685766b1fa4"
      },
      "execution_count": 86,
      "outputs": [
        {
          "output_type": "execute_result",
          "data": {
            "text/plain": [
              "(shape: (918, 5)\n",
              " ┌──────┬───────────┬─────────────┬───────┬─────────┐\n",
              " │ Age  ┆ RestingBP ┆ Cholesterol ┆ MaxHR ┆ Oldpeak │\n",
              " │ ---  ┆ ---       ┆ ---         ┆ ---   ┆ ---     │\n",
              " │ f64  ┆ f64       ┆ f64         ┆ f64   ┆ f64     │\n",
              " ╞══════╪═══════════╪═════════════╪═══════╪═════════╡\n",
              " │ 40.0 ┆ 140.0     ┆ 289.0       ┆ 172.0 ┆ 0.0     │\n",
              " │ 49.0 ┆ 160.0     ┆ 180.0       ┆ 156.0 ┆ 1.0     │\n",
              " │ 37.0 ┆ 130.0     ┆ 283.0       ┆ 98.0  ┆ 0.0     │\n",
              " │ 48.0 ┆ 138.0     ┆ 214.0       ┆ 108.0 ┆ 1.5     │\n",
              " │ 54.0 ┆ 150.0     ┆ 195.0       ┆ 122.0 ┆ 0.0     │\n",
              " │ …    ┆ …         ┆ …           ┆ …     ┆ …       │\n",
              " │ 45.0 ┆ 110.0     ┆ 264.0       ┆ 132.0 ┆ 1.2     │\n",
              " │ 68.0 ┆ 144.0     ┆ 193.0       ┆ 141.0 ┆ 3.4     │\n",
              " │ 57.0 ┆ 130.0     ┆ 131.0       ┆ 115.0 ┆ 1.2     │\n",
              " │ 57.0 ┆ 130.0     ┆ 236.0       ┆ 174.0 ┆ 0.0     │\n",
              " │ 38.0 ┆ 138.0     ┆ 175.0       ┆ 173.0 ┆ 0.0     │\n",
              " └──────┴───────────┴─────────────┴───────┴─────────┘,\n",
              " shape: (918, 7)\n",
              " ┌─────┬───────────────┬───────────┬────────────┬────────────────┬──────────┬──────────────┐\n",
              " │ Sex ┆ ChestPainType ┆ FastingBS ┆ RestingECG ┆ ExerciseAngina ┆ ST_Slope ┆ HeartDisease │\n",
              " │ --- ┆ ---           ┆ ---       ┆ ---        ┆ ---            ┆ ---      ┆ ---          │\n",
              " │ cat ┆ cat           ┆ cat       ┆ cat        ┆ cat            ┆ cat      ┆ cat          │\n",
              " ╞═════╪═══════════════╪═══════════╪════════════╪════════════════╪══════════╪══════════════╡\n",
              " │ M   ┆ ATA           ┆ 0         ┆ Normal     ┆ N              ┆ Up       ┆ 0            │\n",
              " │ F   ┆ NAP           ┆ 0         ┆ Normal     ┆ N              ┆ Flat     ┆ 1            │\n",
              " │ M   ┆ ATA           ┆ 0         ┆ ST         ┆ N              ┆ Up       ┆ 0            │\n",
              " │ F   ┆ ASY           ┆ 0         ┆ Normal     ┆ Y              ┆ Flat     ┆ 1            │\n",
              " │ M   ┆ NAP           ┆ 0         ┆ Normal     ┆ N              ┆ Up       ┆ 0            │\n",
              " │ …   ┆ …             ┆ …         ┆ …          ┆ …              ┆ …        ┆ …            │\n",
              " │ M   ┆ TA            ┆ 0         ┆ Normal     ┆ N              ┆ Flat     ┆ 1            │\n",
              " │ M   ┆ ASY           ┆ 1         ┆ Normal     ┆ N              ┆ Flat     ┆ 1            │\n",
              " │ M   ┆ ASY           ┆ 0         ┆ Normal     ┆ Y              ┆ Flat     ┆ 1            │\n",
              " │ F   ┆ ATA           ┆ 0         ┆ LVH        ┆ N              ┆ Flat     ┆ 1            │\n",
              " │ M   ┆ NAP           ┆ 0         ┆ Normal     ┆ N              ┆ Up       ┆ 0            │\n",
              " └─────┴───────────────┴───────────┴────────────┴────────────────┴──────────┴──────────────┘)"
            ]
          },
          "metadata": {},
          "execution_count": 86
        }
      ]
    },
    {
      "cell_type": "code",
      "source": [
        "for col in cat_vars.columns:\n",
        "  if col != \"HeartDisease\":\n",
        "    df[col].value_counts().to_pandas().plot(kind='barh', x=col, y=\"count\")\n",
        "    plt.ylabel(col)\n",
        "    plt.show()"
      ],
      "metadata": {
        "colab": {
          "base_uri": "https://localhost:8080/",
          "height": 1000
        },
        "id": "Dm7t8FdgxHk4",
        "outputId": "7ac7d9b9-34e8-429f-d2fc-631cea70eaf1"
      },
      "execution_count": 96,
      "outputs": [
        {
          "output_type": "display_data",
          "data": {
            "text/plain": [
              "<Figure size 640x480 with 1 Axes>"
            ],
            "image/png": "[encoded data removed]"
          },
          "metadata": {}
        },
        {
          "output_type": "display_data",
          "data": {
            "text/plain": [
              "<Figure size 640x480 with 1 Axes>"
            ],
            "image/png": "[encoded data removed]"
          },
          "metadata": {}
        },
        {
          "output_type": "display_data",
          "data": {
            "text/plain": [
              "<Figure size 640x480 with 1 Axes>"
            ],
            "image/png": "[encoded data removed]"
          },
          "metadata": {}
        },
        {
          "output_type": "display_data",
          "data": {
            "text/plain": [
              "<Figure size 640x480 with 1 Axes>"
            ],
            "image/png": "[encoded data removed]"
          },
          "metadata": {}
        },
        {
          "output_type": "display_data",
          "data": {
            "text/plain": [
              "<Figure size 640x480 with 1 Axes>"
            ],
            "image/png": "[encoded data removed]"
          },
          "metadata": {}
        },
        {
          "output_type": "display_data",
          "data": {
            "text/plain": [
              "<Figure size 640x480 with 1 Axes>"
            ],
            "image/png": "[encoded data removed]"
          },
          "metadata": {}
        }
      ]
    },
    {
      "cell_type": "code",
      "source": [
        "for col in num_vars:\n",
        "  sns.boxplot(data=df, x=col)\n",
        "  plt.show()"
      ],
      "metadata": {
        "colab": {
          "base_uri": "https://localhost:8080/",
          "height": 1000
        },
        "id": "WKK-RtWs4VA6",
        "outputId": "5007158b-4533-4ff7-d4fd-35d62dea99d0"
      },
      "execution_count": 101,
      "outputs": [
        {
          "output_type": "display_data",
          "data": {
            "text/plain": [
              "<Figure size 640x480 with 1 Axes>"
            ],
            "image/png": "[encoded data removed]"
          },
          "metadata": {}
        },
        {
          "output_type": "display_data",
          "data": {
            "text/plain": [
              "<Figure size 640x480 with 1 Axes>"
            ],
            "image/png": "[encoded data removed]"
          },
          "metadata": {}
        },
        {
          "output_type": "display_data",
          "data": {
            "text/plain": [
              "<Figure size 640x480 with 1 Axes>"
            ],
            "image/png": "[encoded data removed]"
          },
          "metadata": {}
        },
        {
          "output_type": "display_data",
          "data": {
            "text/plain": [
              "<Figure size 640x480 with 1 Axes>"
            ],
            "image/png": "[encoded data removed]"
          },
          "metadata": {}
        },
        {
          "output_type": "display_data",
          "data": {
            "text/plain": [
              "<Figure size 640x480 with 1 Axes>"
            ],
            "image/png": "[encoded data removed]"
          },
          "metadata": {}
        }
      ]
    },
    {
      "cell_type": "markdown",
      "source": [
        "Let's see what the outliers look like using IQR threshold method. I think we should keep in mind that outliers for variables like cholesterol might serve a purpose. Really high cholesterol is surely going to cause some problems that need to be looked at. Also, if we look, there is a Resting BP at basically 0, which is probably not very good. It looks like we will remove the outliers that are on the left side/below the lower bound.  "
      ],
      "metadata": {
        "id": "IrVUcsbg5VVE"
      }
    },
    {
      "cell_type": "code",
      "source": [
        "# IQR threshold method\n",
        "def outlier_iqr(df, col):\n",
        "  q1 = df[col].quantile(0.25)\n",
        "  q3 = df[col].quantile(0.75)\n",
        "  iqr = q3 - q1\n",
        "  lower_bound = q1 - 1.5 * iqr\n",
        "  upper_bound = q3 + 1.5 * iqr\n",
        "  filter_series = pl.Series(df.select([pl.col(col).is_between(lower_bound, upper_bound)]))\n",
        "  return filter_series"
      ],
      "metadata": {
        "id": "7Rz6uCn05ecw"
      },
      "execution_count": 125,
      "outputs": []
    },
    {
      "cell_type": "code",
      "source": [
        "for col in num_vars.columns:\n",
        "  print(outlier_iqr(df, col).value_counts())"
      ],
      "metadata": {
        "colab": {
          "base_uri": "https://localhost:8080/"
        },
        "id": "o3gD_RWc5peq",
        "outputId": "000337ea-4262-4d4f-9788-43fc4fa17ef5"
      },
      "execution_count": 136,
      "outputs": [
        {
          "output_type": "stream",
          "name": "stdout",
          "text": [
            "shape: (1, 2)\n",
            "┌──────┬───────┐\n",
            "│ Age  ┆ count │\n",
            "│ ---  ┆ ---   │\n",
            "│ bool ┆ u32   │\n",
            "╞══════╪═══════╡\n",
            "│ true ┆ 918   │\n",
            "└──────┴───────┘\n",
            "shape: (2, 2)\n",
            "┌───────────┬───────┐\n",
            "│ RestingBP ┆ count │\n",
            "│ ---       ┆ ---   │\n",
            "│ bool      ┆ u32   │\n",
            "╞═══════════╪═══════╡\n",
            "│ true      ┆ 890   │\n",
            "│ false     ┆ 28    │\n",
            "└───────────┴───────┘\n",
            "shape: (2, 2)\n",
            "┌─────────────┬───────┐\n",
            "│ Cholesterol ┆ count │\n",
            "│ ---         ┆ ---   │\n",
            "│ bool        ┆ u32   │\n",
            "╞═════════════╪═══════╡\n",
            "│ true        ┆ 735   │\n",
            "│ false       ┆ 183   │\n",
            "└─────────────┴───────┘\n",
            "shape: (2, 2)\n",
            "┌───────┬───────┐\n",
            "│ MaxHR ┆ count │\n",
            "│ ---   ┆ ---   │\n",
            "│ bool  ┆ u32   │\n",
            "╞═══════╪═══════╡\n",
            "│ false ┆ 2     │\n",
            "│ true  ┆ 916   │\n",
            "└───────┴───────┘\n",
            "shape: (2, 2)\n",
            "┌─────────┬───────┐\n",
            "│ Oldpeak ┆ count │\n",
            "│ ---     ┆ ---   │\n",
            "│ bool    ┆ u32   │\n",
            "╞═════════╪═══════╡\n",
            "│ false   ┆ 16    │\n",
            "│ true    ┆ 902   │\n",
            "└─────────┴───────┘\n"
          ]
        }
      ]
    },
    {
      "cell_type": "code",
      "source": [
        "# make function that removes lower bound outliers"
      ],
      "metadata": {
        "id": "YTmkJL4o8Ixh"
      },
      "execution_count": null,
      "outputs": []
    },
    {
      "cell_type": "code",
      "source": [
        "# remove the outliers below the lower bound but keep the upper bound outliers\n",
        "for col in num_vars.columns:\n",
        "  df = df.filter(outlier_iqr(df, col))\n",
        "  print(df.select([pl.col(col)]).describe())"
      ],
      "metadata": {
        "id": "36bq5aUY75CH"
      },
      "execution_count": null,
      "outputs": []
    },
    {
      "cell_type": "markdown",
      "source": [
        "# Preprocessing Data\n",
        "---\n",
        "The first thing we will do is drop Customer ID because it provides no value to the dataset, and will not help with predictions/modeling."
      ],
      "metadata": {
        "id": "g91ryBlSlvAD"
      }
    },
    {
      "cell_type": "code",
      "source": [
        "# get dummy variables and drop the first dummy variable of each variable group because the other variables in each variable group will be 0\n",
        "df_dummies = pl.concat([df.select(num_vars), df.select(cat_vars).to_dummies(drop_first=True)], how=\"horizontal\")"
      ],
      "metadata": {
        "id": "KS_Ej4Q_vOce"
      },
      "execution_count": 97,
      "outputs": []
    },
    {
      "cell_type": "code",
      "source": [
        "df_dummies.head()"
      ],
      "metadata": {
        "colab": {
          "base_uri": "https://localhost:8080/",
          "height": 255
        },
        "id": "Vd1VGuXTxCDS",
        "outputId": "2cfd973a-ba70-4200-82cd-2f33da901182"
      },
      "execution_count": 98,
      "outputs": [
        {
          "output_type": "execute_result",
          "data": {
            "text/plain": [
              "shape: (5, 16)\n",
              "┌──────┬───────────┬─────────────┬───────┬───┬─────────────┬─────────────┬────────────┬────────────┐\n",
              "│ Age  ┆ RestingBP ┆ Cholesterol ┆ MaxHR ┆ … ┆ ExerciseAng ┆ ST_Slope_Do ┆ ST_Slope_F ┆ HeartDisea │\n",
              "│ ---  ┆ ---       ┆ ---         ┆ ---   ┆   ┆ ina_Y       ┆ wn          ┆ lat        ┆ se_1       │\n",
              "│ f64  ┆ f64       ┆ f64         ┆ f64   ┆   ┆ ---         ┆ ---         ┆ ---        ┆ ---        │\n",
              "│      ┆           ┆             ┆       ┆   ┆ u8          ┆ u8          ┆ u8         ┆ u8         │\n",
              "╞══════╪═══════════╪═════════════╪═══════╪═══╪═════════════╪═════════════╪════════════╪════════════╡\n",
              "│ 40.0 ┆ 140.0     ┆ 289.0       ┆ 172.0 ┆ … ┆ 0           ┆ 0           ┆ 0          ┆ 0          │\n",
              "│ 49.0 ┆ 160.0     ┆ 180.0       ┆ 156.0 ┆ … ┆ 0           ┆ 0           ┆ 1          ┆ 1          │\n",
              "│ 37.0 ┆ 130.0     ┆ 283.0       ┆ 98.0  ┆ … ┆ 0           ┆ 0           ┆ 0          ┆ 0          │\n",
              "│ 48.0 ┆ 138.0     ┆ 214.0       ┆ 108.0 ┆ … ┆ 1           ┆ 0           ┆ 1          ┆ 1          │\n",
              "│ 54.0 ┆ 150.0     ┆ 195.0       ┆ 122.0 ┆ … ┆ 0           ┆ 0           ┆ 0          ┆ 0          │\n",
              "└──────┴───────────┴─────────────┴───────┴───┴─────────────┴─────────────┴────────────┴────────────┘"
            ],
            "text/html": [
              "<div><style>\n",
              ".dataframe > thead > tr,\n",
              ".dataframe > tbody > tr {\n",
              "  text-align: right;\n",
              "  white-space: pre-wrap;\n",
              "}\n",
              "</style>\n",
              "<small>shape: (5, 16)</small><table border=\"1\" class=\"dataframe\"><thead><tr><th>Age</th><th>RestingBP</th><th>Cholesterol</th><th>MaxHR</th><th>Oldpeak</th><th>Sex_F</th><th>ChestPainType_ASY</th><th>ChestPainType_NAP</th><th>ChestPainType_TA</th><th>FastingBS_1</th><th>RestingECG_LVH</th><th>RestingECG_ST</th><th>ExerciseAngina_Y</th><th>ST_Slope_Down</th><th>ST_Slope_Flat</th><th>HeartDisease_1</th></tr><tr><td>f64</td><td>f64</td><td>f64</td><td>f64</td><td>f64</td><td>u8</td><td>u8</td><td>u8</td><td>u8</td><td>u8</td><td>u8</td><td>u8</td><td>u8</td><td>u8</td><td>u8</td><td>u8</td></tr></thead><tbody><tr><td>40.0</td><td>140.0</td><td>289.0</td><td>172.0</td><td>0.0</td><td>0</td><td>0</td><td>0</td><td>0</td><td>0</td><td>0</td><td>0</td><td>0</td><td>0</td><td>0</td><td>0</td></tr><tr><td>49.0</td><td>160.0</td><td>180.0</td><td>156.0</td><td>1.0</td><td>1</td><td>0</td><td>1</td><td>0</td><td>0</td><td>0</td><td>0</td><td>0</td><td>0</td><td>1</td><td>1</td></tr><tr><td>37.0</td><td>130.0</td><td>283.0</td><td>98.0</td><td>0.0</td><td>0</td><td>0</td><td>0</td><td>0</td><td>0</td><td>0</td><td>1</td><td>0</td><td>0</td><td>0</td><td>0</td></tr><tr><td>48.0</td><td>138.0</td><td>214.0</td><td>108.0</td><td>1.5</td><td>1</td><td>1</td><td>0</td><td>0</td><td>0</td><td>0</td><td>0</td><td>1</td><td>0</td><td>1</td><td>1</td></tr><tr><td>54.0</td><td>150.0</td><td>195.0</td><td>122.0</td><td>0.0</td><td>0</td><td>0</td><td>1</td><td>0</td><td>0</td><td>0</td><td>0</td><td>0</td><td>0</td><td>0</td><td>0</td></tr></tbody></table></div>"
            ]
          },
          "metadata": {},
          "execution_count": 98
        }
      ]
    },
    {
      "cell_type": "code",
      "source": [
        "# create features and target variable\n",
        "X = df_dummies.drop(\"HeartDisease_1\")\n",
        "y = df_dummies[\"HeartDisease_1\"]"
      ],
      "metadata": {
        "id": "Nj4I3aFqliWZ"
      },
      "execution_count": 137,
      "outputs": []
    },
    {
      "cell_type": "code",
      "source": [
        "# split data\n",
        "from sklearn.model_selection import train_test_split\n",
        "X_train, X_test, y_train, y_test = train_test_split(X, y, test_size=0.2, random_state=42)"
      ],
      "metadata": {
        "id": "T7TlIT1rDMdv"
      },
      "execution_count": 138,
      "outputs": []
    },
    {
      "cell_type": "code",
      "source": [
        "# fix imbalancing\n",
        "from imblearn.over_sampling import SMOTE\n",
        "smote = SMOTE(random_state=42)\n",
        "X_train_resampled, y_train_resampled = smote.fit_resample(X_train.to_numpy(), y_train.to_numpy())"
      ],
      "metadata": {
        "id": "4qdAoxyAuXkT"
      },
      "execution_count": 140,
      "outputs": []
    },
    {
      "cell_type": "code",
      "source": [
        "pl.Series(y_train_resampled).value_counts(), y_train_resampled.shape"
      ],
      "metadata": {
        "colab": {
          "base_uri": "https://localhost:8080/"
        },
        "id": "B3JyCOZYDXiu",
        "outputId": "873add8d-9415-488b-f9bb-a6fe5116acec"
      },
      "execution_count": 148,
      "outputs": [
        {
          "output_type": "execute_result",
          "data": {
            "text/plain": [
              "(shape: (2, 2)\n",
              " ┌─────┬───────┐\n",
              " │     ┆ count │\n",
              " │ --- ┆ ---   │\n",
              " │ u8  ┆ u32   │\n",
              " ╞═════╪═══════╡\n",
              " │ 1   ┆ 401   │\n",
              " │ 0   ┆ 401   │\n",
              " └─────┴───────┘,\n",
              " (802,))"
            ]
          },
          "metadata": {},
          "execution_count": 148
        }
      ]
    },
    {
      "cell_type": "code",
      "source": [
        "X_train_resampled.shape"
      ],
      "metadata": {
        "colab": {
          "base_uri": "https://localhost:8080/"
        },
        "id": "jwLiNhLDEzn7",
        "outputId": "adb31e90-80d8-40bf-939e-2fc641008921"
      },
      "execution_count": 147,
      "outputs": [
        {
          "output_type": "execute_result",
          "data": {
            "text/plain": [
              "(802, 15)"
            ]
          },
          "metadata": {},
          "execution_count": 147
        }
      ]
    },
    {
      "cell_type": "markdown",
      "source": [
        "# Modeling\n",
        "---\n",
        "We will use Logistic Regression, LightGBM, XGBoost, and KNN. We will compare the metrics on each and then build a final model afterwards. The optuna library will be used to tune hyperparameters."
      ],
      "metadata": {
        "id": "q7YMacl-F303"
      }
    },
    {
      "cell_type": "code",
      "source": [
        "!pip install optuna"
      ],
      "metadata": {
        "colab": {
          "base_uri": "https://localhost:8080/"
        },
        "id": "XG1MnEdSGZV5",
        "outputId": "83660de7-8621-4c8d-81ff-f65d28a9c0c0"
      },
      "execution_count": 150,
      "outputs": [
        {
          "output_type": "stream",
          "name": "stdout",
          "text": [
            "Collecting optuna\n",
            "  Downloading optuna-4.5.0-py3-none-any.whl.metadata (17 kB)\n",
            "Requirement already satisfied: alembic>=1.5.0 in /usr/local/lib/python3.12/dist-packages (from optuna) (1.16.5)\n",
            "Collecting colorlog (from optuna)\n",
            "  Downloading colorlog-6.9.0-py3-none-any.whl.metadata (10 kB)\n",
            "Requirement already satisfied: numpy in /usr/local/lib/python3.12/dist-packages (from optuna) (2.0.2)\n",
            "Requirement already satisfied: packaging>=20.0 in /usr/local/lib/python3.12/dist-packages (from optuna) (25.0)\n",
            "Requirement already satisfied: sqlalchemy>=1.4.2 in /usr/local/lib/python3.12/dist-packages (from optuna) (2.0.43)\n",
            "Requirement already satisfied: tqdm in /usr/local/lib/python3.12/dist-packages (from optuna) (4.67.1)\n",
            "Requirement already satisfied: PyYAML in /usr/local/lib/python3.12/dist-packages (from optuna) (6.0.2)\n",
            "Requirement already satisfied: Mako in /usr/local/lib/python3.12/dist-packages (from alembic>=1.5.0->optuna) (1.3.10)\n",
            "Requirement already satisfied: typing-extensions>=4.12 in /usr/local/lib/python3.12/dist-packages (from alembic>=1.5.0->optuna) (4.15.0)\n",
            "Requirement already satisfied: greenlet>=1 in /usr/local/lib/python3.12/dist-packages (from sqlalchemy>=1.4.2->optuna) (3.2.4)\n",
            "Requirement already satisfied: MarkupSafe>=0.9.2 in /usr/local/lib/python3.12/dist-packages (from Mako->alembic>=1.5.0->optuna) (3.0.2)\n",
            "Downloading optuna-4.5.0-py3-none-any.whl (400 kB)\n",
            "\u001b[2K   \u001b[90m━━━━━━━━━━━━━━━━━━━━━━━━━━━━━━━━━━━━━━━━\u001b[0m \u001b[32m400.9/400.9 kB\u001b[0m \u001b[31m4.1 MB/s\u001b[0m eta \u001b[36m0:00:00\u001b[0m\n",
            "\u001b[?25hDownloading colorlog-6.9.0-py3-none-any.whl (11 kB)\n",
            "Installing collected packages: colorlog, optuna\n",
            "Successfully installed colorlog-6.9.0 optuna-4.5.0\n"
          ]
        }
      ]
    },
    {
      "cell_type": "code",
      "source": [
        "import optuna\n",
        "from xgboost import XGBClassifier\n",
        "from lightgbm import LGBMClassifier\n",
        "from sklearn.neighbors import KNeighborsClassifier\n",
        "from sklearn.linear_model import LogisticRegression\n",
        "from sklearn.metrics import accuracy_score, precision_score, recall_score, f1_score, roc_auc_score, confusion_matrix"
      ],
      "metadata": {
        "id": "pg-6zMjwFE5b"
      },
      "execution_count": 152,
      "outputs": []
    },
    {
      "cell_type": "code",
      "source": [
        "models = {\n",
        "    \"Logistic Regression\": LogisticRegression(),\n",
        "    \"LightGBM\": LGBMClassifier(),\n",
        "    \"XGBoost\": XGBClassifier(),\n",
        "    \"KNN\": KNeighborsClassifier()\n",
        "}"
      ],
      "metadata": {
        "id": "uw438Vo_HDCc"
      },
      "execution_count": 153,
      "outputs": []
    },
    {
      "cell_type": "code",
      "source": [
        "# create objective function for optuna\n",
        "def objective(trial, model_name):\n",
        "    if model_name == \"Logistic Regression\":\n",
        "        # Define hyperparameters to tune for Logistic Regression\n",
        "        logreg_c = trial.suggest_float(\"C\", 1e-5, 1e5, log=True)\n",
        "        logreg_solver = trial.suggest_categorical(\"solver\", [\"liblinear\", \"lbfgs\"])\n",
        "        model = LogisticRegression(C=logreg_c, solver=logreg_solver, random_state=42)\n",
        "\n",
        "    elif model_name == \"LightGBM\":\n",
        "        # Define hyperparameters to tune for LightGBM\n",
        "        lgbm_n_estimators = trial.suggest_int(\"n_estimators\", 50, 1000)\n",
        "        lgbm_learning_rate = trial.suggest_float(\"learning_rate\", 1e-5, 0.1, log=True)\n",
        "        lgbm_num_leaves = trial.suggest_int(\"num_leaves\", 2, 256)\n",
        "        lgbm_max_depth = trial.suggest_int(\"max_depth\", -1, 50)\n",
        "        lgbm_min_child_samples = trial.suggest_int(\"min_child_samples\", 5, 100)\n",
        "        model = LGBMClassifier(n_estimators=lgbm_n_estimators, learning_rate=lgbm_learning_rate,\n",
        "                               num_leaves=lgbm_num_leaves, max_depth=lgbm_max_depth,\n",
        "                               min_child_samples=lgbm_min_child_samples, random_state=42)\n",
        "\n",
        "    elif model_name == \"XGBoost\":\n",
        "        # Define hyperparameters to tune for XGBoost\n",
        "        xgb_n_estimators = trial.suggest_int(\"n_estimators\", 50, 1000)\n",
        "        xgb_learning_rate = trial.suggest_float(\"learning_rate\", 1e-5, 0.1, log=True)\n",
        "        xgb_max_depth = trial.suggest_int(\"max_depth\", 3, 10)\n",
        "        xgb_min_child_weight = trial.suggest_int(\"min_child_weight\", 1, 10)\n",
        "        xgb_gamma = trial.suggest_float(\"gamma\", 0, 1.0)\n",
        "        xgb_subsample = trial.suggest_float(\"subsample\", 0.6, 1.0)\n",
        "        xgb_colsample_bytree = trial.suggest_float(\"colsample_bytree\", 0.6, 1.0)\n",
        "        model = XGBClassifier(n_estimators=xgb_n_estimators, learning_rate=xgb_learning_rate,\n",
        "                              max_depth=xgb_max_depth, min_child_weight=xgb_min_child_weight,\n",
        "                              gamma=xgb_gamma, subsample=xgb_subsample,\n",
        "                              colsample_bytree=xgb_colsample_bytree, random_state=42)\n",
        "\n",
        "    elif model_name == \"KNN\":\n",
        "        # Define hyperparameters to tune for KNN\n",
        "        knn_n_neighbors = trial.suggest_int(\"n_neighbors\", 1, 30)\n",
        "        knn_weights = trial.suggest_categorical(\"weights\", [\"uniform\", \"distance\"])\n",
        "        knn_metric = trial.suggest_categorical(\"metric\", [\"euclidean\", \"manhattan\", \"minkowski\"])\n",
        "        model = KNeighborsClassifier(n_neighbors=knn_n_neighbors, weights=knn_weights, metric=knn_metric)\n",
        "\n",
        "    else:\n",
        "        raise ValueError(f\"Model '{model_name}' not supported.\")\n",
        "\n",
        "    # Train the model\n",
        "    model.fit(X_train_resampled, y_train_resampled)\n",
        "\n",
        "    # Evaluate the model on the test set\n",
        "    # Convert X_test to numpy array for prediction consistency\n",
        "    y_pred = model.predict(X_test.to_numpy())\n",
        "    roc_auc = roc_auc_score(y_test, y_pred)\n",
        "\n",
        "    return roc_auc"
      ],
      "metadata": {
        "id": "0CUAFLRSGYQi"
      },
      "execution_count": 165,
      "outputs": []
    },
    {
      "cell_type": "code",
      "source": [
        "# create studys\n",
        "study_logreg = optuna.create_study(direction=\"maximize\")\n",
        "study_lgbm = optuna.create_study(direction=\"maximize\")\n",
        "study_xgb = optuna.create_study(direction=\"maximize\")\n",
        "study_knn = optuna.create_study(direction=\"maximize\")"
      ],
      "metadata": {
        "colab": {
          "base_uri": "https://localhost:8080/"
        },
        "id": "Ivbui1eRH00X",
        "outputId": "99fb67b7-2a03-4b3b-f172-601d847ca857"
      },
      "execution_count": 166,
      "outputs": [
        {
          "output_type": "stream",
          "name": "stderr",
          "text": [
            "[I 2025-09-25 23:14:24,065] A new study created in memory with name: no-name-e78b2075-6118-4187-bc4d-633eaabc612e\n",
            "[I 2025-09-25 23:14:24,067] A new study created in memory with name: no-name-d44ff6d6-06fa-4603-86dc-1fe7f4bf9103\n",
            "[I 2025-09-25 23:14:24,069] A new study created in memory with name: no-name-e1a30d41-125c-4250-8e71-b1261fe4cc30\n",
            "[I 2025-09-25 23:14:24,072] A new study created in memory with name: no-name-78c8f2f1-8b48-42be-9c5f-65a8a35e17d4\n"
          ]
        }
      ]
    },
    {
      "cell_type": "code",
      "source": [
        "# create study dictionary for looping\n",
        "studies = {\n",
        "    \"Logistic Regression\": study_logreg,\n",
        "    # \"LightGBM\": study_lgbm,\n",
        "    \"XGBoost\": study_xgb,\n",
        "    \"KNN\": study_knn\n",
        "}"
      ],
      "metadata": {
        "id": "9kiziSZBH7xN"
      },
      "execution_count": 169,
      "outputs": []
    },
    {
      "cell_type": "code",
      "metadata": {
        "colab": {
          "base_uri": "https://localhost:8080/",
          "height": 1000
        },
        "id": "8a22b5c2",
        "outputId": "d65e56b5-c3a2-4b04-b801-075619934e64"
      },
      "source": [
        "results = []\n",
        "\n",
        "for model_name, study in studies.items():\n",
        "    print(f\"Running Optuna study for {model_name}...\")\n",
        "    study.optimize(lambda trial: objective(trial, model_name), n_trials=50) # You can adjust the number of trials\n",
        "    best_params = study.best_params\n",
        "    best_roc_auc = study.best_value\n",
        "\n",
        "    # Train the best model and evaluate on test set to get other metrics\n",
        "    if model_name == \"Logistic Regression\":\n",
        "        best_model = LogisticRegression(**best_params, random_state=42)\n",
        "    elif model_name == \"LightGBM\":\n",
        "        best_model = LGBMClassifier(**best_params, random_state=42)\n",
        "    elif model_name == \"XGBoost\":\n",
        "        best_model = XGBClassifier(**best_params, random_state=42)\n",
        "    elif model_name == \"KNN\":\n",
        "        best_model = KNeighborsClassifier(**best_params)\n",
        "    else:\n",
        "        best_model = None # Should not happen with the current models\n",
        "\n",
        "    if best_model:\n",
        "        best_model.fit(X_train_resampled, y_train_resampled)\n",
        "        y_pred = best_model.predict(X_test)\n",
        "\n",
        "        accuracy = accuracy_score(y_test, y_pred)\n",
        "        precision = precision_score(y_test, y_pred)\n",
        "        recall = recall_score(y_test, y_pred)\n",
        "        f1 = f1_score(y_test, y_pred)\n",
        "        conf_matrix = confusion_matrix(y_test, y_pred)\n",
        "\n",
        "        results.append({\n",
        "            \"Model\": model_name,\n",
        "            \"Best Params\": best_params,\n",
        "            \"ROC AUC\": best_roc_auc,\n",
        "            \"Accuracy\": accuracy,\n",
        "            \"Precision\": precision,\n",
        "            \"Recall\": recall,\n",
        "            \"F1 Score\": f1,\n",
        "            \"Confusion Matrix\": conf_matrix.tolist() # Convert to list for easier storage/display\n",
        "        })\n",
        "\n",
        "results_df = pl.DataFrame(results)\n",
        "display(results_df)"
      ],
      "execution_count": 170,
      "outputs": [
        {
          "output_type": "stream",
          "name": "stderr",
          "text": [
            "/usr/local/lib/python3.12/dist-packages/sklearn/linear_model/_logistic.py:465: ConvergenceWarning: lbfgs failed to converge (status=1):\n",
            "STOP: TOTAL NO. OF ITERATIONS REACHED LIMIT.\n",
            "\n",
            "Increase the number of iterations (max_iter) or scale the data as shown in:\n",
            "    https://scikit-learn.org/stable/modules/preprocessing.html\n",
            "Please also refer to the documentation for alternative solver options:\n",
            "    https://scikit-learn.org/stable/modules/linear_model.html#logistic-regression\n",
            "  n_iter_i = _check_optimize_result(\n",
            "[I 2025-09-25 23:15:20,934] Trial 50 finished with value: 0.8481004976332078 and parameters: {'C': 0.1399390951285397, 'solver': 'lbfgs'}. Best is trial 4 with value: 0.8667920864182546.\n"
          ]
        },
        {
          "output_type": "stream",
          "name": "stdout",
          "text": [
            "Running Optuna study for Logistic Regression...\n"
          ]
        },
        {
          "output_type": "stream",
          "name": "stderr",
          "text": [
            "/usr/local/lib/python3.12/dist-packages/sklearn/linear_model/_logistic.py:465: ConvergenceWarning: lbfgs failed to converge (status=1):\n",
            "STOP: TOTAL NO. OF ITERATIONS REACHED LIMIT.\n",
            "\n",
            "Increase the number of iterations (max_iter) or scale the data as shown in:\n",
            "    https://scikit-learn.org/stable/modules/preprocessing.html\n",
            "Please also refer to the documentation for alternative solver options:\n",
            "    https://scikit-learn.org/stable/modules/linear_model.html#logistic-regression\n",
            "  n_iter_i = _check_optimize_result(\n",
            "[I 2025-09-25 23:15:21,062] Trial 51 finished with value: 0.8667920864182546 and parameters: {'C': 1245.8015400334616, 'solver': 'lbfgs'}. Best is trial 4 with value: 0.8667920864182546.\n",
            "/usr/local/lib/python3.12/dist-packages/sklearn/linear_model/_logistic.py:465: ConvergenceWarning: lbfgs failed to converge (status=1):\n",
            "STOP: TOTAL NO. OF ITERATIONS REACHED LIMIT.\n",
            "\n",
            "Increase the number of iterations (max_iter) or scale the data as shown in:\n",
            "    https://scikit-learn.org/stable/modules/preprocessing.html\n",
            "Please also refer to the documentation for alternative solver options:\n",
            "    https://scikit-learn.org/stable/modules/linear_model.html#logistic-regression\n",
            "  n_iter_i = _check_optimize_result(\n",
            "[I 2025-09-25 23:15:21,164] Trial 52 finished with value: 0.8621191892219929 and parameters: {'C': 7207.904194437009, 'solver': 'lbfgs'}. Best is trial 4 with value: 0.8667920864182546.\n",
            "/usr/local/lib/python3.12/dist-packages/sklearn/linear_model/_logistic.py:465: ConvergenceWarning: lbfgs failed to converge (status=1):\n",
            "STOP: TOTAL NO. OF ITERATIONS REACHED LIMIT.\n",
            "\n",
            "Increase the number of iterations (max_iter) or scale the data as shown in:\n",
            "    https://scikit-learn.org/stable/modules/preprocessing.html\n",
            "Please also refer to the documentation for alternative solver options:\n",
            "    https://scikit-learn.org/stable/modules/linear_model.html#logistic-regression\n",
            "  n_iter_i = _check_optimize_result(\n",
            "[I 2025-09-25 23:15:21,582] Trial 53 finished with value: 0.8667920864182546 and parameters: {'C': 53890.565836288144, 'solver': 'lbfgs'}. Best is trial 4 with value: 0.8667920864182546.\n",
            "/usr/local/lib/python3.12/dist-packages/sklearn/linear_model/_logistic.py:465: ConvergenceWarning: lbfgs failed to converge (status=1):\n",
            "STOP: TOTAL NO. OF ITERATIONS REACHED LIMIT.\n",
            "\n",
            "Increase the number of iterations (max_iter) or scale the data as shown in:\n",
            "    https://scikit-learn.org/stable/modules/preprocessing.html\n",
            "Please also refer to the documentation for alternative solver options:\n",
            "    https://scikit-learn.org/stable/modules/linear_model.html#logistic-regression\n",
            "  n_iter_i = _check_optimize_result(\n",
            "[I 2025-09-25 23:15:22,000] Trial 54 finished with value: 0.8621191892219929 and parameters: {'C': 25664.611666116794, 'solver': 'lbfgs'}. Best is trial 4 with value: 0.8667920864182546.\n",
            "/usr/local/lib/python3.12/dist-packages/sklearn/linear_model/_logistic.py:465: ConvergenceWarning: lbfgs failed to converge (status=1):\n",
            "STOP: TOTAL NO. OF ITERATIONS REACHED LIMIT.\n",
            "\n",
            "Increase the number of iterations (max_iter) or scale the data as shown in:\n",
            "    https://scikit-learn.org/stable/modules/preprocessing.html\n",
            "Please also refer to the documentation for alternative solver options:\n",
            "    https://scikit-learn.org/stable/modules/linear_model.html#logistic-regression\n",
            "  n_iter_i = _check_optimize_result(\n",
            "[I 2025-09-25 23:15:22,161] Trial 55 finished with value: 0.8667920864182546 and parameters: {'C': 1999.3817733930748, 'solver': 'lbfgs'}. Best is trial 4 with value: 0.8667920864182546.\n",
            "/usr/local/lib/python3.12/dist-packages/sklearn/linear_model/_logistic.py:465: ConvergenceWarning: lbfgs failed to converge (status=1):\n",
            "STOP: TOTAL NO. OF ITERATIONS REACHED LIMIT.\n",
            "\n",
            "Increase the number of iterations (max_iter) or scale the data as shown in:\n",
            "    https://scikit-learn.org/stable/modules/preprocessing.html\n",
            "Please also refer to the documentation for alternative solver options:\n",
            "    https://scikit-learn.org/stable/modules/linear_model.html#logistic-regression\n",
            "  n_iter_i = _check_optimize_result(\n",
            "[I 2025-09-25 23:15:22,244] Trial 56 finished with value: 0.8621191892219929 and parameters: {'C': 183.85802968674352, 'solver': 'lbfgs'}. Best is trial 4 with value: 0.8667920864182546.\n",
            "[I 2025-09-25 23:15:22,270] Trial 57 finished with value: 0.8574462920257312 and parameters: {'C': 25.797916826770784, 'solver': 'liblinear'}. Best is trial 4 with value: 0.8667920864182546.\n",
            "/usr/local/lib/python3.12/dist-packages/sklearn/linear_model/_logistic.py:465: ConvergenceWarning: lbfgs failed to converge (status=1):\n",
            "STOP: TOTAL NO. OF ITERATIONS REACHED LIMIT.\n",
            "\n",
            "Increase the number of iterations (max_iter) or scale the data as shown in:\n",
            "    https://scikit-learn.org/stable/modules/preprocessing.html\n",
            "Please also refer to the documentation for alternative solver options:\n",
            "    https://scikit-learn.org/stable/modules/linear_model.html#logistic-regression\n",
            "  n_iter_i = _check_optimize_result(\n",
            "[I 2025-09-25 23:15:22,377] Trial 58 finished with value: 0.8667920864182546 and parameters: {'C': 4.182751820073116, 'solver': 'lbfgs'}. Best is trial 4 with value: 0.8667920864182546.\n",
            "/usr/local/lib/python3.12/dist-packages/sklearn/linear_model/_logistic.py:465: ConvergenceWarning: lbfgs failed to converge (status=1):\n",
            "STOP: TOTAL NO. OF ITERATIONS REACHED LIMIT.\n",
            "\n",
            "Increase the number of iterations (max_iter) or scale the data as shown in:\n",
            "    https://scikit-learn.org/stable/modules/preprocessing.html\n",
            "Please also refer to the documentation for alternative solver options:\n",
            "    https://scikit-learn.org/stable/modules/linear_model.html#logistic-regression\n",
            "  n_iter_i = _check_optimize_result(\n",
            "[I 2025-09-25 23:15:22,472] Trial 59 finished with value: 0.8667920864182546 and parameters: {'C': 32367.99457456614, 'solver': 'lbfgs'}. Best is trial 4 with value: 0.8667920864182546.\n",
            "/usr/local/lib/python3.12/dist-packages/sklearn/linear_model/_logistic.py:465: ConvergenceWarning: lbfgs failed to converge (status=1):\n",
            "STOP: TOTAL NO. OF ITERATIONS REACHED LIMIT.\n",
            "\n",
            "Increase the number of iterations (max_iter) or scale the data as shown in:\n",
            "    https://scikit-learn.org/stable/modules/preprocessing.html\n",
            "Please also refer to the documentation for alternative solver options:\n",
            "    https://scikit-learn.org/stable/modules/linear_model.html#logistic-regression\n",
            "  n_iter_i = _check_optimize_result(\n",
            "[I 2025-09-25 23:15:22,554] Trial 60 finished with value: 0.8714649836145163 and parameters: {'C': 8895.658441970278, 'solver': 'lbfgs'}. Best is trial 60 with value: 0.8714649836145163.\n",
            "/usr/local/lib/python3.12/dist-packages/sklearn/linear_model/_logistic.py:465: ConvergenceWarning: lbfgs failed to converge (status=1):\n",
            "STOP: TOTAL NO. OF ITERATIONS REACHED LIMIT.\n",
            "\n",
            "Increase the number of iterations (max_iter) or scale the data as shown in:\n",
            "    https://scikit-learn.org/stable/modules/preprocessing.html\n",
            "Please also refer to the documentation for alternative solver options:\n",
            "    https://scikit-learn.org/stable/modules/linear_model.html#logistic-regression\n",
            "  n_iter_i = _check_optimize_result(\n",
            "[I 2025-09-25 23:15:22,708] Trial 61 finished with value: 0.8667920864182546 and parameters: {'C': 8612.047014007705, 'solver': 'lbfgs'}. Best is trial 60 with value: 0.8714649836145163.\n",
            "/usr/local/lib/python3.12/dist-packages/sklearn/linear_model/_logistic.py:465: ConvergenceWarning: lbfgs failed to converge (status=1):\n",
            "STOP: TOTAL NO. OF ITERATIONS REACHED LIMIT.\n",
            "\n",
            "Increase the number of iterations (max_iter) or scale the data as shown in:\n",
            "    https://scikit-learn.org/stable/modules/preprocessing.html\n",
            "Please also refer to the documentation for alternative solver options:\n",
            "    https://scikit-learn.org/stable/modules/linear_model.html#logistic-regression\n",
            "  n_iter_i = _check_optimize_result(\n",
            "[I 2025-09-25 23:15:22,937] Trial 62 finished with value: 0.8667920864182546 and parameters: {'C': 3662.3565477354055, 'solver': 'lbfgs'}. Best is trial 60 with value: 0.8714649836145163.\n",
            "/usr/local/lib/python3.12/dist-packages/sklearn/linear_model/_logistic.py:465: ConvergenceWarning: lbfgs failed to converge (status=1):\n",
            "STOP: TOTAL NO. OF ITERATIONS REACHED LIMIT.\n",
            "\n",
            "Increase the number of iterations (max_iter) or scale the data as shown in:\n",
            "    https://scikit-learn.org/stable/modules/preprocessing.html\n",
            "Please also refer to the documentation for alternative solver options:\n",
            "    https://scikit-learn.org/stable/modules/linear_model.html#logistic-regression\n",
            "  n_iter_i = _check_optimize_result(\n",
            "[I 2025-09-25 23:15:23,101] Trial 63 finished with value: 0.8621191892219929 and parameters: {'C': 731.5901813033187, 'solver': 'lbfgs'}. Best is trial 60 with value: 0.8714649836145163.\n",
            "/usr/local/lib/python3.12/dist-packages/sklearn/linear_model/_logistic.py:465: ConvergenceWarning: lbfgs failed to converge (status=1):\n",
            "STOP: TOTAL NO. OF ITERATIONS REACHED LIMIT.\n",
            "\n",
            "Increase the number of iterations (max_iter) or scale the data as shown in:\n",
            "    https://scikit-learn.org/stable/modules/preprocessing.html\n",
            "Please also refer to the documentation for alternative solver options:\n",
            "    https://scikit-learn.org/stable/modules/linear_model.html#logistic-regression\n",
            "  n_iter_i = _check_optimize_result(\n",
            "[I 2025-09-25 23:15:23,510] Trial 64 finished with value: 0.8667920864182546 and parameters: {'C': 11411.117562582398, 'solver': 'lbfgs'}. Best is trial 60 with value: 0.8714649836145163.\n",
            "/usr/local/lib/python3.12/dist-packages/sklearn/linear_model/_logistic.py:465: ConvergenceWarning: lbfgs failed to converge (status=1):\n",
            "STOP: TOTAL NO. OF ITERATIONS REACHED LIMIT.\n",
            "\n",
            "Increase the number of iterations (max_iter) or scale the data as shown in:\n",
            "    https://scikit-learn.org/stable/modules/preprocessing.html\n",
            "Please also refer to the documentation for alternative solver options:\n",
            "    https://scikit-learn.org/stable/modules/linear_model.html#logistic-regression\n",
            "  n_iter_i = _check_optimize_result(\n",
            "[I 2025-09-25 23:15:23,690] Trial 65 finished with value: 0.8667920864182546 and parameters: {'C': 31991.03085529573, 'solver': 'lbfgs'}. Best is trial 60 with value: 0.8714649836145163.\n",
            "/usr/local/lib/python3.12/dist-packages/sklearn/linear_model/_logistic.py:465: ConvergenceWarning: lbfgs failed to converge (status=1):\n",
            "STOP: TOTAL NO. OF ITERATIONS REACHED LIMIT.\n",
            "\n",
            "Increase the number of iterations (max_iter) or scale the data as shown in:\n",
            "    https://scikit-learn.org/stable/modules/preprocessing.html\n",
            "Please also refer to the documentation for alternative solver options:\n",
            "    https://scikit-learn.org/stable/modules/linear_model.html#logistic-regression\n",
            "  n_iter_i = _check_optimize_result(\n",
            "[I 2025-09-25 23:15:23,810] Trial 66 finished with value: 0.8667920864182546 and parameters: {'C': 50.56724292853586, 'solver': 'lbfgs'}. Best is trial 60 with value: 0.8714649836145163.\n",
            "/usr/local/lib/python3.12/dist-packages/sklearn/linear_model/_logistic.py:465: ConvergenceWarning: lbfgs failed to converge (status=1):\n",
            "STOP: TOTAL NO. OF ITERATIONS REACHED LIMIT.\n",
            "\n",
            "Increase the number of iterations (max_iter) or scale the data as shown in:\n",
            "    https://scikit-learn.org/stable/modules/preprocessing.html\n",
            "Please also refer to the documentation for alternative solver options:\n",
            "    https://scikit-learn.org/stable/modules/linear_model.html#logistic-regression\n",
            "  n_iter_i = _check_optimize_result(\n",
            "[I 2025-09-25 23:15:23,986] Trial 67 finished with value: 0.8621191892219929 and parameters: {'C': 10.41634898341702, 'solver': 'lbfgs'}. Best is trial 60 with value: 0.8714649836145163.\n",
            "/usr/local/lib/python3.12/dist-packages/sklearn/linear_model/_logistic.py:465: ConvergenceWarning: lbfgs failed to converge (status=1):\n",
            "STOP: TOTAL NO. OF ITERATIONS REACHED LIMIT.\n",
            "\n",
            "Increase the number of iterations (max_iter) or scale the data as shown in:\n",
            "    https://scikit-learn.org/stable/modules/preprocessing.html\n",
            "Please also refer to the documentation for alternative solver options:\n",
            "    https://scikit-learn.org/stable/modules/linear_model.html#logistic-regression\n",
            "  n_iter_i = _check_optimize_result(\n",
            "[I 2025-09-25 23:15:24,371] Trial 68 finished with value: 0.8667920864182546 and parameters: {'C': 414.7591223517257, 'solver': 'lbfgs'}. Best is trial 60 with value: 0.8714649836145163.\n",
            "/usr/local/lib/python3.12/dist-packages/sklearn/linear_model/_logistic.py:465: ConvergenceWarning: lbfgs failed to converge (status=1):\n",
            "STOP: TOTAL NO. OF ITERATIONS REACHED LIMIT.\n",
            "\n",
            "Increase the number of iterations (max_iter) or scale the data as shown in:\n",
            "    https://scikit-learn.org/stable/modules/preprocessing.html\n",
            "Please also refer to the documentation for alternative solver options:\n",
            "    https://scikit-learn.org/stable/modules/linear_model.html#logistic-regression\n",
            "  n_iter_i = _check_optimize_result(\n",
            "[I 2025-09-25 23:15:24,463] Trial 69 finished with value: 0.8667920864182546 and parameters: {'C': 0.6138922353727169, 'solver': 'lbfgs'}. Best is trial 60 with value: 0.8714649836145163.\n",
            "[I 2025-09-25 23:15:24,491] Trial 70 finished with value: 0.8574462920257312 and parameters: {'C': 56163.33123326994, 'solver': 'liblinear'}. Best is trial 60 with value: 0.8714649836145163.\n",
            "/usr/local/lib/python3.12/dist-packages/sklearn/linear_model/_logistic.py:465: ConvergenceWarning: lbfgs failed to converge (status=1):\n",
            "STOP: TOTAL NO. OF ITERATIONS REACHED LIMIT.\n",
            "\n",
            "Increase the number of iterations (max_iter) or scale the data as shown in:\n",
            "    https://scikit-learn.org/stable/modules/preprocessing.html\n",
            "Please also refer to the documentation for alternative solver options:\n",
            "    https://scikit-learn.org/stable/modules/linear_model.html#logistic-regression\n",
            "  n_iter_i = _check_optimize_result(\n",
            "[I 2025-09-25 23:15:24,658] Trial 71 finished with value: 0.8621191892219929 and parameters: {'C': 25916.72881459563, 'solver': 'lbfgs'}. Best is trial 60 with value: 0.8714649836145163.\n",
            "/usr/local/lib/python3.12/dist-packages/sklearn/linear_model/_logistic.py:465: ConvergenceWarning: lbfgs failed to converge (status=1):\n",
            "STOP: TOTAL NO. OF ITERATIONS REACHED LIMIT.\n",
            "\n",
            "Increase the number of iterations (max_iter) or scale the data as shown in:\n",
            "    https://scikit-learn.org/stable/modules/preprocessing.html\n",
            "Please also refer to the documentation for alternative solver options:\n",
            "    https://scikit-learn.org/stable/modules/linear_model.html#logistic-regression\n",
            "  n_iter_i = _check_optimize_result(\n",
            "[I 2025-09-25 23:15:24,768] Trial 72 finished with value: 0.8667920864182546 and parameters: {'C': 4357.012267966493, 'solver': 'lbfgs'}. Best is trial 60 with value: 0.8714649836145163.\n",
            "/usr/local/lib/python3.12/dist-packages/sklearn/linear_model/_logistic.py:465: ConvergenceWarning: lbfgs failed to converge (status=1):\n",
            "STOP: TOTAL NO. OF ITERATIONS REACHED LIMIT.\n",
            "\n",
            "Increase the number of iterations (max_iter) or scale the data as shown in:\n",
            "    https://scikit-learn.org/stable/modules/preprocessing.html\n",
            "Please also refer to the documentation for alternative solver options:\n",
            "    https://scikit-learn.org/stable/modules/linear_model.html#logistic-regression\n",
            "  n_iter_i = _check_optimize_result(\n",
            "[I 2025-09-25 23:15:24,873] Trial 73 finished with value: 0.8667920864182546 and parameters: {'C': 15899.620272832726, 'solver': 'lbfgs'}. Best is trial 60 with value: 0.8714649836145163.\n",
            "/usr/local/lib/python3.12/dist-packages/sklearn/linear_model/_logistic.py:465: ConvergenceWarning: lbfgs failed to converge (status=1):\n",
            "STOP: TOTAL NO. OF ITERATIONS REACHED LIMIT.\n",
            "\n",
            "Increase the number of iterations (max_iter) or scale the data as shown in:\n",
            "    https://scikit-learn.org/stable/modules/preprocessing.html\n",
            "Please also refer to the documentation for alternative solver options:\n",
            "    https://scikit-learn.org/stable/modules/linear_model.html#logistic-regression\n",
            "  n_iter_i = _check_optimize_result(\n",
            "[I 2025-09-25 23:15:24,972] Trial 74 finished with value: 0.8621191892219929 and parameters: {'C': 1501.957032920666, 'solver': 'lbfgs'}. Best is trial 60 with value: 0.8714649836145163.\n",
            "/usr/local/lib/python3.12/dist-packages/sklearn/linear_model/_logistic.py:465: ConvergenceWarning: lbfgs failed to converge (status=1):\n",
            "STOP: TOTAL NO. OF ITERATIONS REACHED LIMIT.\n",
            "\n",
            "Increase the number of iterations (max_iter) or scale the data as shown in:\n",
            "    https://scikit-learn.org/stable/modules/preprocessing.html\n",
            "Please also refer to the documentation for alternative solver options:\n",
            "    https://scikit-learn.org/stable/modules/linear_model.html#logistic-regression\n",
            "  n_iter_i = _check_optimize_result(\n",
            "[I 2025-09-25 23:15:25,068] Trial 75 finished with value: 0.8667920864182546 and parameters: {'C': 49849.55436638164, 'solver': 'lbfgs'}. Best is trial 60 with value: 0.8714649836145163.\n",
            "/usr/local/lib/python3.12/dist-packages/sklearn/linear_model/_logistic.py:465: ConvergenceWarning: lbfgs failed to converge (status=1):\n",
            "STOP: TOTAL NO. OF ITERATIONS REACHED LIMIT.\n",
            "\n",
            "Increase the number of iterations (max_iter) or scale the data as shown in:\n",
            "    https://scikit-learn.org/stable/modules/preprocessing.html\n",
            "Please also refer to the documentation for alternative solver options:\n",
            "    https://scikit-learn.org/stable/modules/linear_model.html#logistic-regression\n",
            "  n_iter_i = _check_optimize_result(\n",
            "[I 2025-09-25 23:15:25,161] Trial 76 finished with value: 0.665554072096128 and parameters: {'C': 0.0018215926631047622, 'solver': 'lbfgs'}. Best is trial 60 with value: 0.8714649836145163.\n",
            "/usr/local/lib/python3.12/dist-packages/sklearn/linear_model/_logistic.py:465: ConvergenceWarning: lbfgs failed to converge (status=1):\n",
            "STOP: TOTAL NO. OF ITERATIONS REACHED LIMIT.\n",
            "\n",
            "Increase the number of iterations (max_iter) or scale the data as shown in:\n",
            "    https://scikit-learn.org/stable/modules/preprocessing.html\n",
            "Please also refer to the documentation for alternative solver options:\n",
            "    https://scikit-learn.org/stable/modules/linear_model.html#logistic-regression\n",
            "  n_iter_i = _check_optimize_result(\n",
            "[I 2025-09-25 23:15:25,239] Trial 77 finished with value: 0.8667920864182546 and parameters: {'C': 97072.72915744354, 'solver': 'lbfgs'}. Best is trial 60 with value: 0.8714649836145163.\n",
            "/usr/local/lib/python3.12/dist-packages/sklearn/linear_model/_logistic.py:465: ConvergenceWarning: lbfgs failed to converge (status=1):\n",
            "STOP: TOTAL NO. OF ITERATIONS REACHED LIMIT.\n",
            "\n",
            "Increase the number of iterations (max_iter) or scale the data as shown in:\n",
            "    https://scikit-learn.org/stable/modules/preprocessing.html\n",
            "Please also refer to the documentation for alternative solver options:\n",
            "    https://scikit-learn.org/stable/modules/linear_model.html#logistic-regression\n",
            "  n_iter_i = _check_optimize_result(\n",
            "[I 2025-09-25 23:15:25,351] Trial 78 finished with value: 0.8621191892219929 and parameters: {'C': 7447.922140282473, 'solver': 'lbfgs'}. Best is trial 60 with value: 0.8714649836145163.\n",
            "/usr/local/lib/python3.12/dist-packages/sklearn/linear_model/_logistic.py:465: ConvergenceWarning: lbfgs failed to converge (status=1):\n",
            "STOP: TOTAL NO. OF ITERATIONS REACHED LIMIT.\n",
            "\n",
            "Increase the number of iterations (max_iter) or scale the data as shown in:\n",
            "    https://scikit-learn.org/stable/modules/preprocessing.html\n",
            "Please also refer to the documentation for alternative solver options:\n",
            "    https://scikit-learn.org/stable/modules/linear_model.html#logistic-regression\n",
            "  n_iter_i = _check_optimize_result(\n",
            "[I 2025-09-25 23:15:25,468] Trial 79 finished with value: 0.8621191892219929 and parameters: {'C': 2726.8903378323753, 'solver': 'lbfgs'}. Best is trial 60 with value: 0.8714649836145163.\n",
            "[I 2025-09-25 23:15:25,500] Trial 80 finished with value: 0.6326010438159971 and parameters: {'C': 1.074535253762522e-05, 'solver': 'liblinear'}. Best is trial 60 with value: 0.8714649836145163.\n",
            "/usr/local/lib/python3.12/dist-packages/sklearn/linear_model/_logistic.py:465: ConvergenceWarning: lbfgs failed to converge (status=1):\n",
            "STOP: TOTAL NO. OF ITERATIONS REACHED LIMIT.\n",
            "\n",
            "Increase the number of iterations (max_iter) or scale the data as shown in:\n",
            "    https://scikit-learn.org/stable/modules/preprocessing.html\n",
            "Please also refer to the documentation for alternative solver options:\n",
            "    https://scikit-learn.org/stable/modules/linear_model.html#logistic-regression\n",
            "  n_iter_i = _check_optimize_result(\n",
            "[I 2025-09-25 23:15:25,809] Trial 81 finished with value: 0.8667920864182546 and parameters: {'C': 21403.52716084597, 'solver': 'lbfgs'}. Best is trial 60 with value: 0.8714649836145163.\n",
            "/usr/local/lib/python3.12/dist-packages/sklearn/linear_model/_logistic.py:465: ConvergenceWarning: lbfgs failed to converge (status=1):\n",
            "STOP: TOTAL NO. OF ITERATIONS REACHED LIMIT.\n",
            "\n",
            "Increase the number of iterations (max_iter) or scale the data as shown in:\n",
            "    https://scikit-learn.org/stable/modules/preprocessing.html\n",
            "Please also refer to the documentation for alternative solver options:\n",
            "    https://scikit-learn.org/stable/modules/linear_model.html#logistic-regression\n",
            "  n_iter_i = _check_optimize_result(\n",
            "[I 2025-09-25 23:15:25,849] Trial 82 finished with value: 0.8714649836145163 and parameters: {'C': 47944.91764534225, 'solver': 'lbfgs'}. Best is trial 60 with value: 0.8714649836145163.\n",
            "/usr/local/lib/python3.12/dist-packages/sklearn/linear_model/_logistic.py:465: ConvergenceWarning: lbfgs failed to converge (status=1):\n",
            "STOP: TOTAL NO. OF ITERATIONS REACHED LIMIT.\n",
            "\n",
            "Increase the number of iterations (max_iter) or scale the data as shown in:\n",
            "    https://scikit-learn.org/stable/modules/preprocessing.html\n",
            "Please also refer to the documentation for alternative solver options:\n",
            "    https://scikit-learn.org/stable/modules/linear_model.html#logistic-regression\n",
            "  n_iter_i = _check_optimize_result(\n",
            "[I 2025-09-25 23:15:25,893] Trial 83 finished with value: 0.8667920864182546 and parameters: {'C': 53430.24949523721, 'solver': 'lbfgs'}. Best is trial 60 with value: 0.8714649836145163.\n",
            "/usr/local/lib/python3.12/dist-packages/sklearn/linear_model/_logistic.py:465: ConvergenceWarning: lbfgs failed to converge (status=1):\n",
            "STOP: TOTAL NO. OF ITERATIONS REACHED LIMIT.\n",
            "\n",
            "Increase the number of iterations (max_iter) or scale the data as shown in:\n",
            "    https://scikit-learn.org/stable/modules/preprocessing.html\n",
            "Please also refer to the documentation for alternative solver options:\n",
            "    https://scikit-learn.org/stable/modules/linear_model.html#logistic-regression\n",
            "  n_iter_i = _check_optimize_result(\n",
            "[I 2025-09-25 23:15:25,936] Trial 84 finished with value: 0.8667920864182546 and parameters: {'C': 9519.027555799677, 'solver': 'lbfgs'}. Best is trial 60 with value: 0.8714649836145163.\n",
            "/usr/local/lib/python3.12/dist-packages/sklearn/linear_model/_logistic.py:465: ConvergenceWarning: lbfgs failed to converge (status=1):\n",
            "STOP: TOTAL NO. OF ITERATIONS REACHED LIMIT.\n",
            "\n",
            "Increase the number of iterations (max_iter) or scale the data as shown in:\n",
            "    https://scikit-learn.org/stable/modules/preprocessing.html\n",
            "Please also refer to the documentation for alternative solver options:\n",
            "    https://scikit-learn.org/stable/modules/linear_model.html#logistic-regression\n",
            "  n_iter_i = _check_optimize_result(\n",
            "[I 2025-09-25 23:15:26,015] Trial 85 finished with value: 0.8667920864182546 and parameters: {'C': 97567.29868160466, 'solver': 'lbfgs'}. Best is trial 60 with value: 0.8714649836145163.\n",
            "/usr/local/lib/python3.12/dist-packages/sklearn/linear_model/_logistic.py:465: ConvergenceWarning: lbfgs failed to converge (status=1):\n",
            "STOP: TOTAL NO. OF ITERATIONS REACHED LIMIT.\n",
            "\n",
            "Increase the number of iterations (max_iter) or scale the data as shown in:\n",
            "    https://scikit-learn.org/stable/modules/preprocessing.html\n",
            "Please also refer to the documentation for alternative solver options:\n",
            "    https://scikit-learn.org/stable/modules/linear_model.html#logistic-regression\n",
            "  n_iter_i = _check_optimize_result(\n",
            "[I 2025-09-25 23:15:26,061] Trial 86 finished with value: 0.8667920864182546 and parameters: {'C': 38506.113517515696, 'solver': 'lbfgs'}. Best is trial 60 with value: 0.8714649836145163.\n",
            "/usr/local/lib/python3.12/dist-packages/sklearn/linear_model/_logistic.py:465: ConvergenceWarning: lbfgs failed to converge (status=1):\n",
            "STOP: TOTAL NO. OF ITERATIONS REACHED LIMIT.\n",
            "\n",
            "Increase the number of iterations (max_iter) or scale the data as shown in:\n",
            "    https://scikit-learn.org/stable/modules/preprocessing.html\n",
            "Please also refer to the documentation for alternative solver options:\n",
            "    https://scikit-learn.org/stable/modules/linear_model.html#logistic-regression\n",
            "  n_iter_i = _check_optimize_result(\n",
            "[I 2025-09-25 23:15:26,102] Trial 87 finished with value: 0.8621191892219929 and parameters: {'C': 3.2974246219063117, 'solver': 'lbfgs'}. Best is trial 60 with value: 0.8714649836145163.\n",
            "/usr/local/lib/python3.12/dist-packages/sklearn/linear_model/_logistic.py:465: ConvergenceWarning: lbfgs failed to converge (status=1):\n",
            "STOP: TOTAL NO. OF ITERATIONS REACHED LIMIT.\n",
            "\n",
            "Increase the number of iterations (max_iter) or scale the data as shown in:\n",
            "    https://scikit-learn.org/stable/modules/preprocessing.html\n",
            "Please also refer to the documentation for alternative solver options:\n",
            "    https://scikit-learn.org/stable/modules/linear_model.html#logistic-regression\n",
            "  n_iter_i = _check_optimize_result(\n",
            "[I 2025-09-25 23:15:26,153] Trial 88 finished with value: 0.8667920864182546 and parameters: {'C': 6060.825893259994, 'solver': 'lbfgs'}. Best is trial 60 with value: 0.8714649836145163.\n",
            "[I 2025-09-25 23:15:26,190] Trial 89 finished with value: 0.6292025731278068 and parameters: {'C': 7.04858480586574e-05, 'solver': 'lbfgs'}. Best is trial 60 with value: 0.8714649836145163.\n",
            "/usr/local/lib/python3.12/dist-packages/sklearn/linear_model/_logistic.py:465: ConvergenceWarning: lbfgs failed to converge (status=1):\n",
            "STOP: TOTAL NO. OF ITERATIONS REACHED LIMIT.\n",
            "\n",
            "Increase the number of iterations (max_iter) or scale the data as shown in:\n",
            "    https://scikit-learn.org/stable/modules/preprocessing.html\n",
            "Please also refer to the documentation for alternative solver options:\n",
            "    https://scikit-learn.org/stable/modules/linear_model.html#logistic-regression\n",
            "  n_iter_i = _check_optimize_result(\n",
            "[I 2025-09-25 23:15:26,233] Trial 90 finished with value: 0.8714649836145163 and parameters: {'C': 16636.83992117289, 'solver': 'lbfgs'}. Best is trial 60 with value: 0.8714649836145163.\n",
            "/usr/local/lib/python3.12/dist-packages/sklearn/linear_model/_logistic.py:465: ConvergenceWarning: lbfgs failed to converge (status=1):\n",
            "STOP: TOTAL NO. OF ITERATIONS REACHED LIMIT.\n",
            "\n",
            "Increase the number of iterations (max_iter) or scale the data as shown in:\n",
            "    https://scikit-learn.org/stable/modules/preprocessing.html\n",
            "Please also refer to the documentation for alternative solver options:\n",
            "    https://scikit-learn.org/stable/modules/linear_model.html#logistic-regression\n",
            "  n_iter_i = _check_optimize_result(\n",
            "[I 2025-09-25 23:15:26,275] Trial 91 finished with value: 0.8686126957154994 and parameters: {'C': 13104.234625195742, 'solver': 'lbfgs'}. Best is trial 60 with value: 0.8714649836145163.\n",
            "/usr/local/lib/python3.12/dist-packages/sklearn/linear_model/_logistic.py:465: ConvergenceWarning: lbfgs failed to converge (status=1):\n",
            "STOP: TOTAL NO. OF ITERATIONS REACHED LIMIT.\n",
            "\n",
            "Increase the number of iterations (max_iter) or scale the data as shown in:\n",
            "    https://scikit-learn.org/stable/modules/preprocessing.html\n",
            "Please also refer to the documentation for alternative solver options:\n",
            "    https://scikit-learn.org/stable/modules/linear_model.html#logistic-regression\n",
            "  n_iter_i = _check_optimize_result(\n",
            "[I 2025-09-25 23:15:26,316] Trial 92 finished with value: 0.8667920864182546 and parameters: {'C': 16827.511643207392, 'solver': 'lbfgs'}. Best is trial 60 with value: 0.8714649836145163.\n",
            "/usr/local/lib/python3.12/dist-packages/sklearn/linear_model/_logistic.py:465: ConvergenceWarning: lbfgs failed to converge (status=1):\n",
            "STOP: TOTAL NO. OF ITERATIONS REACHED LIMIT.\n",
            "\n",
            "Increase the number of iterations (max_iter) or scale the data as shown in:\n",
            "    https://scikit-learn.org/stable/modules/preprocessing.html\n",
            "Please also refer to the documentation for alternative solver options:\n",
            "    https://scikit-learn.org/stable/modules/linear_model.html#logistic-regression\n",
            "  n_iter_i = _check_optimize_result(\n",
            "[I 2025-09-25 23:15:26,355] Trial 93 finished with value: 0.8621191892219929 and parameters: {'C': 978.639013206448, 'solver': 'lbfgs'}. Best is trial 60 with value: 0.8714649836145163.\n",
            "/usr/local/lib/python3.12/dist-packages/sklearn/linear_model/_logistic.py:465: ConvergenceWarning: lbfgs failed to converge (status=1):\n",
            "STOP: TOTAL NO. OF ITERATIONS REACHED LIMIT.\n",
            "\n",
            "Increase the number of iterations (max_iter) or scale the data as shown in:\n",
            "    https://scikit-learn.org/stable/modules/preprocessing.html\n",
            "Please also refer to the documentation for alternative solver options:\n",
            "    https://scikit-learn.org/stable/modules/linear_model.html#logistic-regression\n",
            "  n_iter_i = _check_optimize_result(\n",
            "[I 2025-09-25 23:15:26,398] Trial 94 finished with value: 0.8621191892219929 and parameters: {'C': 11344.523699456326, 'solver': 'lbfgs'}. Best is trial 60 with value: 0.8714649836145163.\n",
            "/usr/local/lib/python3.12/dist-packages/sklearn/linear_model/_logistic.py:465: ConvergenceWarning: lbfgs failed to converge (status=1):\n",
            "STOP: TOTAL NO. OF ITERATIONS REACHED LIMIT.\n",
            "\n",
            "Increase the number of iterations (max_iter) or scale the data as shown in:\n",
            "    https://scikit-learn.org/stable/modules/preprocessing.html\n",
            "Please also refer to the documentation for alternative solver options:\n",
            "    https://scikit-learn.org/stable/modules/linear_model.html#logistic-regression\n",
            "  n_iter_i = _check_optimize_result(\n",
            "[I 2025-09-25 23:15:26,442] Trial 95 finished with value: 0.8667920864182546 and parameters: {'C': 3723.2255823480136, 'solver': 'lbfgs'}. Best is trial 60 with value: 0.8714649836145163.\n",
            "/usr/local/lib/python3.12/dist-packages/sklearn/linear_model/_logistic.py:465: ConvergenceWarning: lbfgs failed to converge (status=1):\n",
            "STOP: TOTAL NO. OF ITERATIONS REACHED LIMIT.\n",
            "\n",
            "Increase the number of iterations (max_iter) or scale the data as shown in:\n",
            "    https://scikit-learn.org/stable/modules/preprocessing.html\n",
            "Please also refer to the documentation for alternative solver options:\n",
            "    https://scikit-learn.org/stable/modules/linear_model.html#logistic-regression\n",
            "  n_iter_i = _check_optimize_result(\n",
            "[I 2025-09-25 23:15:26,482] Trial 96 finished with value: 0.8434276004369461 and parameters: {'C': 0.20447746299048777, 'solver': 'lbfgs'}. Best is trial 60 with value: 0.8714649836145163.\n",
            "/usr/local/lib/python3.12/dist-packages/sklearn/linear_model/_logistic.py:465: ConvergenceWarning: lbfgs failed to converge (status=1):\n",
            "STOP: TOTAL NO. OF ITERATIONS REACHED LIMIT.\n",
            "\n",
            "Increase the number of iterations (max_iter) or scale the data as shown in:\n",
            "    https://scikit-learn.org/stable/modules/preprocessing.html\n",
            "Please also refer to the documentation for alternative solver options:\n",
            "    https://scikit-learn.org/stable/modules/linear_model.html#logistic-regression\n",
            "  n_iter_i = _check_optimize_result(\n",
            "[I 2025-09-25 23:15:26,524] Trial 97 finished with value: 0.8667920864182546 and parameters: {'C': 20965.346558091343, 'solver': 'lbfgs'}. Best is trial 60 with value: 0.8714649836145163.\n",
            "/usr/local/lib/python3.12/dist-packages/sklearn/linear_model/_logistic.py:465: ConvergenceWarning: lbfgs failed to converge (status=1):\n",
            "STOP: TOTAL NO. OF ITERATIONS REACHED LIMIT.\n",
            "\n",
            "Increase the number of iterations (max_iter) or scale the data as shown in:\n",
            "    https://scikit-learn.org/stable/modules/preprocessing.html\n",
            "Please also refer to the documentation for alternative solver options:\n",
            "    https://scikit-learn.org/stable/modules/linear_model.html#logistic-regression\n",
            "  n_iter_i = _check_optimize_result(\n",
            "[I 2025-09-25 23:15:26,565] Trial 98 finished with value: 0.8686126957154994 and parameters: {'C': 19.291401915827777, 'solver': 'lbfgs'}. Best is trial 60 with value: 0.8714649836145163.\n",
            "[I 2025-09-25 23:15:26,585] Trial 99 finished with value: 0.8621191892219929 and parameters: {'C': 23.658469186248286, 'solver': 'liblinear'}. Best is trial 60 with value: 0.8714649836145163.\n",
            "/usr/local/lib/python3.12/dist-packages/sklearn/linear_model/_logistic.py:465: ConvergenceWarning: lbfgs failed to converge (status=1):\n",
            "STOP: TOTAL NO. OF ITERATIONS REACHED LIMIT.\n",
            "\n",
            "Increase the number of iterations (max_iter) or scale the data as shown in:\n",
            "    https://scikit-learn.org/stable/modules/preprocessing.html\n",
            "Please also refer to the documentation for alternative solver options:\n",
            "    https://scikit-learn.org/stable/modules/linear_model.html#logistic-regression\n",
            "  n_iter_i = _check_optimize_result(\n",
            "/usr/local/lib/python3.12/dist-packages/sklearn/utils/validation.py:2732: UserWarning: X has feature names, but LogisticRegression was fitted without feature names\n",
            "  warnings.warn(\n"
          ]
        },
        {
          "output_type": "stream",
          "name": "stdout",
          "text": [
            "Running Optuna study for XGBoost...\n"
          ]
        },
        {
          "output_type": "stream",
          "name": "stderr",
          "text": [
            "[I 2025-09-25 23:15:27,009] Trial 0 finished with value: 0.8696443743172715 and parameters: {'n_estimators': 736, 'learning_rate': 0.028052201519303818, 'max_depth': 7, 'min_child_weight': 7, 'gamma': 0.36462088791191527, 'subsample': 0.8097353442879975, 'colsample_bytree': 0.9001379952857984}. Best is trial 0 with value: 0.8696443743172715.\n",
            "[I 2025-09-25 23:15:27,305] Trial 1 finished with value: 0.8714649836145163 and parameters: {'n_estimators': 805, 'learning_rate': 0.015071690575138, 'max_depth': 7, 'min_child_weight': 9, 'gamma': 0.2527414282689876, 'subsample': 0.7044589245699557, 'colsample_bytree': 0.6718653095401954}. Best is trial 1 with value: 0.8714649836145163.\n",
            "[I 2025-09-25 23:15:27,479] Trial 2 finished with value: 0.876137880810778 and parameters: {'n_estimators': 430, 'learning_rate': 0.006781671751641335, 'max_depth': 4, 'min_child_weight': 10, 'gamma': 0.6018286554487982, 'subsample': 0.8199580248899381, 'colsample_bytree': 0.6185771170618716}. Best is trial 2 with value: 0.876137880810778.\n",
            "[I 2025-09-25 23:15:27,537] Trial 3 finished with value: 0.8379657725452118 and parameters: {'n_estimators': 107, 'learning_rate': 0.008169910985268102, 'max_depth': 10, 'min_child_weight': 10, 'gamma': 0.45636739931312686, 'subsample': 0.7386428333551933, 'colsample_bytree': 0.7796242127578634}. Best is trial 2 with value: 0.876137880810778.\n",
            "[I 2025-09-25 23:15:27,998] Trial 4 finished with value: 0.8444592790387184 and parameters: {'n_estimators': 976, 'learning_rate': 4.569210495040364e-05, 'max_depth': 4, 'min_child_weight': 4, 'gamma': 0.8758127848167329, 'subsample': 0.6352918947715108, 'colsample_bytree': 0.8794063346740786}. Best is trial 2 with value: 0.876137880810778.\n",
            "[I 2025-09-25 23:15:28,381] Trial 5 finished with value: 0.890156572399563 and parameters: {'n_estimators': 641, 'learning_rate': 0.0008386511777528013, 'max_depth': 5, 'min_child_weight': 2, 'gamma': 0.4642060430630087, 'subsample': 0.6227402465464198, 'colsample_bytree': 0.6643578417432439}. Best is trial 5 with value: 0.890156572399563.\n",
            "[I 2025-09-25 23:15:28,751] Trial 6 finished with value: 0.8556256827284863 and parameters: {'n_estimators': 778, 'learning_rate': 0.0015230661622512185, 'max_depth': 5, 'min_child_weight': 10, 'gamma': 0.2395170815088865, 'subsample': 0.9757870908248153, 'colsample_bytree': 0.9837940574245947}. Best is trial 5 with value: 0.890156572399563.\n",
            "[I 2025-09-25 23:15:29,040] Trial 7 finished with value: 0.8538050734312417 and parameters: {'n_estimators': 677, 'learning_rate': 2.530689723363845e-05, 'max_depth': 8, 'min_child_weight': 9, 'gamma': 0.8133737295968004, 'subsample': 0.8831120071728362, 'colsample_bytree': 0.6139355324808701}. Best is trial 5 with value: 0.890156572399563.\n",
            "[I 2025-09-25 23:15:29,218] Trial 8 finished with value: 0.8724966622162884 and parameters: {'n_estimators': 145, 'learning_rate': 0.0007911426212948711, 'max_depth': 8, 'min_child_weight': 3, 'gamma': 0.7237234586414761, 'subsample': 0.87418114050073, 'colsample_bytree': 0.6705071882390501}. Best is trial 5 with value: 0.890156572399563.\n",
            "[I 2025-09-25 23:15:29,356] Trial 9 finished with value: 0.8826313873042845 and parameters: {'n_estimators': 488, 'learning_rate': 0.09595543588900986, 'max_depth': 6, 'min_child_weight': 10, 'gamma': 0.32913900794057904, 'subsample': 0.9729691461114447, 'colsample_bytree': 0.9011207896724762}. Best is trial 5 with value: 0.890156572399563.\n",
            "[I 2025-09-25 23:15:29,498] Trial 10 finished with value: 0.8379657725452118 and parameters: {'n_estimators': 315, 'learning_rate': 0.00015216124350464862, 'max_depth': 3, 'min_child_weight': 1, 'gamma': 0.028189812626085664, 'subsample': 0.611461535670942, 'colsample_bytree': 0.7552545839531799}. Best is trial 5 with value: 0.890156572399563.\n",
            "[I 2025-09-25 23:15:29,653] Trial 11 finished with value: 0.8873042845005461 and parameters: {'n_estimators': 549, 'learning_rate': 0.07462227045755138, 'max_depth': 5, 'min_child_weight': 6, 'gamma': 0.5762413676910072, 'subsample': 0.9995054955664829, 'colsample_bytree': 0.8667862055603147}. Best is trial 5 with value: 0.890156572399563.\n",
            "[I 2025-09-25 23:15:29,996] Trial 12 finished with value: 0.8426386697414734 and parameters: {'n_estimators': 634, 'learning_rate': 0.0005897124841306215, 'max_depth': 5, 'min_child_weight': 6, 'gamma': 0.5997363480941305, 'subsample': 0.7172348718001051, 'colsample_bytree': 0.8106091283767878}. Best is trial 5 with value: 0.890156572399563.\n",
            "[I 2025-09-25 23:15:30,453] Trial 13 finished with value: 0.8919771816968078 and parameters: {'n_estimators': 568, 'learning_rate': 0.0027028863348647603, 'max_depth': 5, 'min_child_weight': 1, 'gamma': 0.9946305270842781, 'subsample': 0.6682874144031768, 'colsample_bytree': 0.8338699507039644}. Best is trial 13 with value: 0.8919771816968078.\n",
            "[I 2025-09-25 23:15:30,591] Trial 14 finished with value: 0.8779584901080228 and parameters: {'n_estimators': 305, 'learning_rate': 0.0019919608460780276, 'max_depth': 3, 'min_child_weight': 1, 'gamma': 0.9523150339067071, 'subsample': 0.6669249152674703, 'colsample_bytree': 0.7236532118949253}. Best is trial 13 with value: 0.8919771816968078.\n",
            "[I 2025-09-25 23:15:31,156] Trial 15 finished with value: 0.8538050734312417 and parameters: {'n_estimators': 912, 'learning_rate': 0.0002637654507042735, 'max_depth': 6, 'min_child_weight': 3, 'gamma': 0.7482871365819705, 'subsample': 0.6601337063736337, 'colsample_bytree': 0.8234205561367798}. Best is trial 13 with value: 0.8919771816968078.\n",
            "[I 2025-09-25 23:15:31,540] Trial 16 finished with value: 0.8966500788930695 and parameters: {'n_estimators': 583, 'learning_rate': 0.003563422219255944, 'max_depth': 4, 'min_child_weight': 2, 'gamma': 0.9913007519670978, 'subsample': 0.604709047301458, 'colsample_bytree': 0.967135313593308}. Best is trial 16 with value: 0.8966500788930695.\n",
            "[I 2025-09-25 23:15:31,791] Trial 17 finished with value: 0.8808107780070396 and parameters: {'n_estimators': 409, 'learning_rate': 0.003956445920801897, 'max_depth': 4, 'min_child_weight': 4, 'gamma': 0.9914502050268779, 'subsample': 0.760044644094441, 'colsample_bytree': 0.9674595569196589}. Best is trial 16 with value: 0.8966500788930695.\n",
            "[I 2025-09-25 23:15:32,044] Trial 18 finished with value: 0.8854836752033014 and parameters: {'n_estimators': 565, 'learning_rate': 0.004312675812412909, 'max_depth': 3, 'min_child_weight': 2, 'gamma': 0.8723407237036315, 'subsample': 0.6754216180788029, 'colsample_bytree': 0.9226152336387722}. Best is trial 16 with value: 0.8966500788930695.\n",
            "[I 2025-09-25 23:15:32,232] Trial 19 finished with value: 0.8966500788930695 and parameters: {'n_estimators': 261, 'learning_rate': 0.025223779121045772, 'max_depth': 10, 'min_child_weight': 4, 'gamma': 0.7035479432251686, 'subsample': 0.7650682751702667, 'colsample_bytree': 0.9441281259937473}. Best is trial 16 with value: 0.8966500788930695.\n",
            "[I 2025-09-25 23:15:32,427] Trial 20 finished with value: 0.8984706881903143 and parameters: {'n_estimators': 222, 'learning_rate': 0.0284842730116518, 'max_depth': 10, 'min_child_weight': 5, 'gamma': 0.7416478865938654, 'subsample': 0.8517105088451842, 'colsample_bytree': 0.9436824477555119}. Best is trial 20 with value: 0.8984706881903143.\n",
            "[I 2025-09-25 23:15:32,582] Trial 21 finished with value: 0.8984706881903143 and parameters: {'n_estimators': 230, 'learning_rate': 0.029161438371833888, 'max_depth': 10, 'min_child_weight': 5, 'gamma': 0.7167087632006404, 'subsample': 0.8845931616759216, 'colsample_bytree': 0.9462977594629121}. Best is trial 20 with value: 0.8984706881903143.\n",
            "[I 2025-09-25 23:15:32,704] Trial 22 finished with value: 0.8984706881903143 and parameters: {'n_estimators': 168, 'learning_rate': 0.03923730181887879, 'max_depth': 9, 'min_child_weight': 5, 'gamma': 0.8175581320849232, 'subsample': 0.8972219991910025, 'colsample_bytree': 0.99638200635965}. Best is trial 20 with value: 0.8984706881903143.\n",
            "[I 2025-09-25 23:15:32,832] Trial 23 finished with value: 0.8854836752033014 and parameters: {'n_estimators': 194, 'learning_rate': 0.04351569670394303, 'max_depth': 9, 'min_child_weight': 5, 'gamma': 0.6922048223996553, 'subsample': 0.9056129989753189, 'colsample_bytree': 0.9950496296036921}. Best is trial 20 with value: 0.8984706881903143.\n",
            "[I 2025-09-25 23:15:32,900] Trial 24 finished with value: 0.8444592790387184 and parameters: {'n_estimators': 62, 'learning_rate': 0.0139513745964018, 'max_depth': 9, 'min_child_weight': 7, 'gamma': 0.7965383923727921, 'subsample': 0.9256098098643402, 'colsample_bytree': 0.9371231676525587}. Best is trial 20 with value: 0.8984706881903143.\n",
            "[I 2025-09-25 23:15:33,020] Trial 25 finished with value: 0.8919771816968078 and parameters: {'n_estimators': 218, 'learning_rate': 0.0452128559970345, 'max_depth': 9, 'min_child_weight': 5, 'gamma': 0.8577719931494501, 'subsample': 0.8553438472345213, 'colsample_bytree': 0.8658837624244834}. Best is trial 20 with value: 0.8984706881903143.\n",
            "[I 2025-09-25 23:15:33,230] Trial 26 finished with value: 0.8919771816968078 and parameters: {'n_estimators': 367, 'learning_rate': 0.018746580242992254, 'max_depth': 10, 'min_child_weight': 7, 'gamma': 0.645951566482191, 'subsample': 0.8406168210953383, 'colsample_bytree': 0.9963500791277077}. Best is trial 20 with value: 0.8984706881903143.\n",
            "[I 2025-09-25 23:15:33,373] Trial 27 finished with value: 0.876137880810778 and parameters: {'n_estimators': 172, 'learning_rate': 0.008612169107405318, 'max_depth': 9, 'min_child_weight': 5, 'gamma': 0.5434717474499678, 'subsample': 0.9167785543962453, 'colsample_bytree': 0.9603051224338899}. Best is trial 20 with value: 0.8984706881903143.\n",
            "[I 2025-09-25 23:15:33,528] Trial 28 finished with value: 0.8854836752033014 and parameters: {'n_estimators': 257, 'learning_rate': 0.050380736280670975, 'max_depth': 8, 'min_child_weight': 6, 'gamma': 0.7906883620925284, 'subsample': 0.8873414069061412, 'colsample_bytree': 0.9130277197778885}. Best is trial 20 with value: 0.8984706881903143.\n",
            "[I 2025-09-25 23:15:33,588] Trial 29 finished with value: 0.876137880810778 and parameters: {'n_estimators': 56, 'learning_rate': 0.039691214283302974, 'max_depth': 10, 'min_child_weight': 7, 'gamma': 0.8963550489007293, 'subsample': 0.7914725207068793, 'colsample_bytree': 0.8890763125637965}. Best is trial 20 with value: 0.8984706881903143.\n",
            "[I 2025-09-25 23:15:33,676] Trial 30 finished with value: 0.8854836752033014 and parameters: {'n_estimators': 119, 'learning_rate': 0.024645649947112946, 'max_depth': 10, 'min_child_weight': 8, 'gamma': 0.65274378944203, 'subsample': 0.8118524499034909, 'colsample_bytree': 0.845031813620485}. Best is trial 20 with value: 0.8984706881903143.\n",
            "[I 2025-09-25 23:15:33,968] Trial 31 finished with value: 0.8937977909940525 and parameters: {'n_estimators': 366, 'learning_rate': 0.012386303620832718, 'max_depth': 9, 'min_child_weight': 3, 'gamma': 0.9306362726335493, 'subsample': 0.943262209808138, 'colsample_bytree': 0.9495770440939734}. Best is trial 20 with value: 0.8984706881903143.\n",
            "[I 2025-09-25 23:15:34,149] Trial 32 finished with value: 0.8743172715135331 and parameters: {'n_estimators': 501, 'learning_rate': 0.08705392279751088, 'max_depth': 7, 'min_child_weight': 4, 'gamma': 0.7975356862754729, 'subsample': 0.8487694110139191, 'colsample_bytree': 0.9735200706798787}. Best is trial 20 with value: 0.8984706881903143.\n",
            "[I 2025-09-25 23:15:34,335] Trial 33 finished with value: 0.8714649836145163 and parameters: {'n_estimators': 242, 'learning_rate': 0.005457429372616788, 'max_depth': 7, 'min_child_weight': 5, 'gamma': 0.9419076428611658, 'subsample': 0.9431462015407266, 'colsample_bytree': 0.9280315175888041}. Best is trial 20 with value: 0.8984706881903143.\n",
            "[I 2025-09-25 23:15:34,757] Trial 34 finished with value: 0.8984706881903143 and parameters: {'n_estimators': 453, 'learning_rate': 0.011090842745749995, 'max_depth': 8, 'min_child_weight': 2, 'gamma': 0.7470228767858773, 'subsample': 0.7921841991549269, 'colsample_bytree': 0.9644458520176381}. Best is trial 20 with value: 0.8984706881903143.\n",
            "[I 2025-09-25 23:15:34,982] Trial 35 finished with value: 0.8919771816968078 and parameters: {'n_estimators': 433, 'learning_rate': 0.014332718286210688, 'max_depth': 8, 'min_child_weight': 6, 'gamma': 0.5303753350836965, 'subsample': 0.7880700982928854, 'colsample_bytree': 0.920872227127309}. Best is trial 20 with value: 0.8984706881903143.\n",
            "[I 2025-09-25 23:15:35,153] Trial 36 finished with value: 0.8919771816968078 and parameters: {'n_estimators': 321, 'learning_rate': 0.029122875296089708, 'max_depth': 10, 'min_child_weight': 8, 'gamma': 0.6579752170598172, 'subsample': 0.831723009336376, 'colsample_bytree': 0.9979632896955292}. Best is trial 20 with value: 0.8984706881903143.\n",
            "[I 2025-09-25 23:15:35,279] Trial 37 finished with value: 0.8714649836145163 and parameters: {'n_estimators': 112, 'learning_rate': 0.00825848966242845, 'max_depth': 9, 'min_child_weight': 3, 'gamma': 0.7595746941893051, 'subsample': 0.8802224068679483, 'colsample_bytree': 0.9522297682804032}. Best is trial 20 with value: 0.8984706881903143.\n",
            "[I 2025-09-25 23:15:35,407] Trial 38 finished with value: 0.8966500788930695 and parameters: {'n_estimators': 175, 'learning_rate': 0.060200355767194666, 'max_depth': 8, 'min_child_weight': 4, 'gamma': 0.4291975726765699, 'subsample': 0.8603575019912244, 'colsample_bytree': 0.8987937461915602}. Best is trial 20 with value: 0.8984706881903143.\n",
            "[I 2025-09-25 23:15:35,657] Trial 39 finished with value: 0.8854836752033014 and parameters: {'n_estimators': 445, 'learning_rate': 0.028053977265765022, 'max_depth': 10, 'min_child_weight': 5, 'gamma': 0.8294584032764678, 'subsample': 0.8243155175245177, 'colsample_bytree': 0.7814822218403034}. Best is trial 20 with value: 0.8984706881903143.\n",
            "[I 2025-09-25 23:15:35,890] Trial 40 finished with value: 0.8426386697414734 and parameters: {'n_estimators': 281, 'learning_rate': 1.2948938819963365e-05, 'max_depth': 9, 'min_child_weight': 4, 'gamma': 0.7461271212554934, 'subsample': 0.9030696402714157, 'colsample_bytree': 0.859588528371063}. Best is trial 20 with value: 0.8984706881903143.\n",
            "[I 2025-09-25 23:15:37,526] Trial 41 finished with value: 0.9013229760893312 and parameters: {'n_estimators': 643, 'learning_rate': 0.009868013307006792, 'max_depth': 6, 'min_child_weight': 2, 'gamma': 0.8937449921666804, 'subsample': 0.7272948143584694, 'colsample_bytree': 0.9740852525150879}. Best is trial 41 with value: 0.9013229760893312.\n",
            "[I 2025-09-25 23:15:39,602] Trial 42 finished with value: 0.9013229760893312 and parameters: {'n_estimators': 769, 'learning_rate': 0.010296092872270225, 'max_depth': 8, 'min_child_weight': 2, 'gamma': 0.903206458586726, 'subsample': 0.7328494407856954, 'colsample_bytree': 0.9788329042745577}. Best is trial 41 with value: 0.9013229760893312.\n",
            "[I 2025-09-25 23:15:40,509] Trial 43 finished with value: 0.8966500788930695 and parameters: {'n_estimators': 731, 'learning_rate': 0.019937538144710366, 'max_depth': 6, 'min_child_weight': 3, 'gamma': 0.898757044191509, 'subsample': 0.7121193798987636, 'colsample_bytree': 0.9835803143100783}. Best is trial 41 with value: 0.9013229760893312.\n",
            "[I 2025-09-25 23:15:41,174] Trial 44 finished with value: 0.9013229760893312 and parameters: {'n_estimators': 861, 'learning_rate': 0.007019810247673889, 'max_depth': 7, 'min_child_weight': 2, 'gamma': 0.8406309063464663, 'subsample': 0.753026828808598, 'colsample_bytree': 0.97984343511028}. Best is trial 41 with value: 0.9013229760893312.\n",
            "[I 2025-09-25 23:15:41,846] Trial 45 finished with value: 0.8919771816968078 and parameters: {'n_estimators': 871, 'learning_rate': 0.0014106194863505697, 'max_depth': 6, 'min_child_weight': 2, 'gamma': 0.8415353801787036, 'subsample': 0.7364003233083373, 'colsample_bytree': 0.9424711453656309}. Best is trial 41 with value: 0.9013229760893312.\n",
            "[I 2025-09-25 23:15:42,563] Trial 46 finished with value: 0.8966500788930695 and parameters: {'n_estimators': 811, 'learning_rate': 0.006101496078611157, 'max_depth': 7, 'min_child_weight': 1, 'gamma': 0.9110976998991398, 'subsample': 0.698126970758658, 'colsample_bytree': 0.9032749578430165}. Best is trial 41 with value: 0.9013229760893312.\n",
            "[I 2025-09-25 23:15:43,213] Trial 47 finished with value: 0.8966500788930695 and parameters: {'n_estimators': 734, 'learning_rate': 0.006817168842363625, 'max_depth': 7, 'min_child_weight': 2, 'gamma': 0.26792759725018434, 'subsample': 0.7677205708864775, 'colsample_bytree': 0.9774513263193171}. Best is trial 41 with value: 0.9013229760893312.\n",
            "[I 2025-09-25 23:15:44,031] Trial 48 finished with value: 0.8854836752033014 and parameters: {'n_estimators': 991, 'learning_rate': 0.0024671687949923463, 'max_depth': 6, 'min_child_weight': 1, 'gamma': 0.11765952967216842, 'subsample': 0.7467057742837655, 'colsample_bytree': 0.7058951386660288}. Best is trial 41 with value: 0.9013229760893312.\n",
            "[I 2025-09-25 23:15:44,513] Trial 49 finished with value: 0.8538050734312417 and parameters: {'n_estimators': 668, 'learning_rate': 0.00043094306646127126, 'max_depth': 8, 'min_child_weight': 3, 'gamma': 0.8686499613987317, 'subsample': 0.6906418758334634, 'colsample_bytree': 0.8880002870389632}. Best is trial 41 with value: 0.9013229760893312.\n",
            "[I 2025-09-25 23:15:44,935] Trial 0 finished with value: 0.722417769146741 and parameters: {'n_neighbors': 4, 'weights': 'distance', 'metric': 'manhattan'}. Best is trial 0 with value: 0.722417769146741.\n",
            "[I 2025-09-25 23:15:44,948] Trial 1 finished with value: 0.641400655419347 and parameters: {'n_neighbors': 24, 'weights': 'distance', 'metric': 'euclidean'}. Best is trial 0 with value: 0.722417769146741.\n",
            "[I 2025-09-25 23:15:44,959] Trial 2 finished with value: 0.6627017841971113 and parameters: {'n_neighbors': 8, 'weights': 'distance', 'metric': 'minkowski'}. Best is trial 0 with value: 0.722417769146741.\n",
            "[I 2025-09-25 23:15:44,970] Trial 3 finished with value: 0.6897074887729093 and parameters: {'n_neighbors': 5, 'weights': 'uniform', 'metric': 'minkowski'}. Best is trial 0 with value: 0.722417769146741.\n",
            "[I 2025-09-25 23:15:44,982] Trial 4 finished with value: 0.6684063599951451 and parameters: {'n_neighbors': 27, 'weights': 'uniform', 'metric': 'euclidean'}. Best is trial 0 with value: 0.722417769146741.\n",
            "[I 2025-09-25 23:15:44,995] Trial 5 finished with value: 0.6969899259618886 and parameters: {'n_neighbors': 8, 'weights': 'uniform', 'metric': 'manhattan'}. Best is trial 0 with value: 0.722417769146741.\n",
            "[I 2025-09-25 23:15:45,008] Trial 6 finished with value: 0.7102196868552008 and parameters: {'n_neighbors': 22, 'weights': 'distance', 'metric': 'manhattan'}. Best is trial 0 with value: 0.722417769146741.\n",
            "[I 2025-09-25 23:15:45,021] Trial 7 finished with value: 0.665554072096128 and parameters: {'n_neighbors': 29, 'weights': 'uniform', 'metric': 'euclidean'}. Best is trial 0 with value: 0.722417769146741.\n",
            "[I 2025-09-25 23:15:45,032] Trial 8 finished with value: 0.6463769874984828 and parameters: {'n_neighbors': 2, 'weights': 'uniform', 'metric': 'manhattan'}. Best is trial 0 with value: 0.722417769146741.\n",
            "[I 2025-09-25 23:15:45,043] Trial 9 finished with value: 0.6943803859691711 and parameters: {'n_neighbors': 6, 'weights': 'distance', 'metric': 'euclidean'}. Best is trial 0 with value: 0.722417769146741.\n",
            "[I 2025-09-25 23:15:45,059] Trial 10 finished with value: 0.6925597766719261 and parameters: {'n_neighbors': 15, 'weights': 'distance', 'metric': 'manhattan'}. Best is trial 0 with value: 0.722417769146741.\n",
            "[I 2025-09-25 23:15:45,075] Trial 11 finished with value: 0.6925597766719261 and parameters: {'n_neighbors': 19, 'weights': 'distance', 'metric': 'manhattan'}. Best is trial 0 with value: 0.722417769146741.\n",
            "[I 2025-09-25 23:15:45,092] Trial 12 finished with value: 0.7120402961524457 and parameters: {'n_neighbors': 14, 'weights': 'distance', 'metric': 'manhattan'}. Best is trial 0 with value: 0.722417769146741.\n",
            "[I 2025-09-25 23:15:45,113] Trial 13 finished with value: 0.7120402961524457 and parameters: {'n_neighbors': 14, 'weights': 'distance', 'metric': 'manhattan'}. Best is trial 0 with value: 0.722417769146741.\n"
          ]
        },
        {
          "output_type": "stream",
          "name": "stdout",
          "text": [
            "Running Optuna study for KNN...\n"
          ]
        },
        {
          "output_type": "stream",
          "name": "stderr",
          "text": [
            "[I 2025-09-25 23:15:45,142] Trial 14 finished with value: 0.6943803859691711 and parameters: {'n_neighbors': 11, 'weights': 'distance', 'metric': 'manhattan'}. Best is trial 0 with value: 0.722417769146741.\n",
            "[I 2025-09-25 23:15:45,159] Trial 15 finished with value: 0.6915280980701541 and parameters: {'n_neighbors': 1, 'weights': 'distance', 'metric': 'manhattan'}. Best is trial 0 with value: 0.722417769146741.\n",
            "[I 2025-09-25 23:15:45,174] Trial 16 finished with value: 0.6478941619128534 and parameters: {'n_neighbors': 18, 'weights': 'distance', 'metric': 'minkowski'}. Best is trial 0 with value: 0.722417769146741.\n",
            "[I 2025-09-25 23:15:45,189] Trial 17 finished with value: 0.6943803859691711 and parameters: {'n_neighbors': 11, 'weights': 'distance', 'metric': 'manhattan'}. Best is trial 0 with value: 0.722417769146741.\n",
            "[I 2025-09-25 23:15:45,207] Trial 18 finished with value: 0.7167131933487074 and parameters: {'n_neighbors': 12, 'weights': 'distance', 'metric': 'manhattan'}. Best is trial 0 with value: 0.722417769146741.\n",
            "[I 2025-09-25 23:15:45,225] Trial 19 finished with value: 0.6702269692923898 and parameters: {'n_neighbors': 11, 'weights': 'distance', 'metric': 'minkowski'}. Best is trial 0 with value: 0.722417769146741.\n",
            "[I 2025-09-25 23:15:45,242] Trial 20 finished with value: 0.722417769146741 and parameters: {'n_neighbors': 4, 'weights': 'distance', 'metric': 'manhattan'}. Best is trial 0 with value: 0.722417769146741.\n",
            "[I 2025-09-25 23:15:45,258] Trial 21 finished with value: 0.722417769146741 and parameters: {'n_neighbors': 4, 'weights': 'distance', 'metric': 'manhattan'}. Best is trial 0 with value: 0.722417769146741.\n",
            "[I 2025-09-25 23:15:45,273] Trial 22 finished with value: 0.722417769146741 and parameters: {'n_neighbors': 4, 'weights': 'distance', 'metric': 'manhattan'}. Best is trial 0 with value: 0.722417769146741.\n",
            "[I 2025-09-25 23:15:45,290] Trial 23 finished with value: 0.7019055710644496 and parameters: {'n_neighbors': 3, 'weights': 'distance', 'metric': 'manhattan'}. Best is trial 0 with value: 0.722417769146741.\n",
            "[I 2025-09-25 23:15:45,307] Trial 24 finished with value: 0.734373103531982 and parameters: {'n_neighbors': 7, 'weights': 'distance', 'metric': 'manhattan'}. Best is trial 24 with value: 0.734373103531982.\n",
            "[I 2025-09-25 23:15:45,324] Trial 25 finished with value: 0.7260589877412308 and parameters: {'n_neighbors': 8, 'weights': 'distance', 'metric': 'manhattan'}. Best is trial 24 with value: 0.734373103531982.\n",
            "[I 2025-09-25 23:15:45,340] Trial 26 finished with value: 0.6969899259618886 and parameters: {'n_neighbors': 8, 'weights': 'uniform', 'metric': 'manhattan'}. Best is trial 24 with value: 0.734373103531982.\n",
            "[I 2025-09-25 23:15:45,355] Trial 27 finished with value: 0.734373103531982 and parameters: {'n_neighbors': 7, 'weights': 'distance', 'metric': 'manhattan'}. Best is trial 24 with value: 0.734373103531982.\n",
            "[I 2025-09-25 23:15:45,370] Trial 28 finished with value: 0.6608811748998664 and parameters: {'n_neighbors': 7, 'weights': 'distance', 'metric': 'euclidean'}. Best is trial 24 with value: 0.734373103531982.\n",
            "[I 2025-09-25 23:15:45,385] Trial 29 finished with value: 0.667374681393373 and parameters: {'n_neighbors': 10, 'weights': 'distance', 'metric': 'minkowski'}. Best is trial 24 with value: 0.734373103531982.\n",
            "[I 2025-09-25 23:15:45,401] Trial 30 finished with value: 0.7055467896589391 and parameters: {'n_neighbors': 18, 'weights': 'distance', 'metric': 'manhattan'}. Best is trial 24 with value: 0.734373103531982.\n",
            "[I 2025-09-25 23:15:45,418] Trial 31 finished with value: 0.7130719747542178 and parameters: {'n_neighbors': 9, 'weights': 'distance', 'metric': 'manhattan'}. Best is trial 24 with value: 0.734373103531982.\n",
            "[I 2025-09-25 23:15:45,434] Trial 32 finished with value: 0.7073673989561841 and parameters: {'n_neighbors': 6, 'weights': 'distance', 'metric': 'manhattan'}. Best is trial 24 with value: 0.734373103531982.\n",
            "[I 2025-09-25 23:15:45,450] Trial 33 finished with value: 0.6915280980701541 and parameters: {'n_neighbors': 1, 'weights': 'distance', 'metric': 'manhattan'}. Best is trial 24 with value: 0.734373103531982.\n",
            "[I 2025-09-25 23:15:45,465] Trial 34 finished with value: 0.6943803859691711 and parameters: {'n_neighbors': 6, 'weights': 'distance', 'metric': 'euclidean'}. Best is trial 24 with value: 0.734373103531982.\n",
            "[I 2025-09-25 23:15:45,482] Trial 35 finished with value: 0.6478941619128534 and parameters: {'n_neighbors': 9, 'weights': 'uniform', 'metric': 'minkowski'}. Best is trial 24 with value: 0.734373103531982.\n",
            "[I 2025-09-25 23:15:45,499] Trial 36 finished with value: 0.7037261803616943 and parameters: {'n_neighbors': 13, 'weights': 'distance', 'metric': 'manhattan'}. Best is trial 24 with value: 0.734373103531982.\n",
            "[I 2025-09-25 23:15:45,517] Trial 37 finished with value: 0.7102196868552008 and parameters: {'n_neighbors': 7, 'weights': 'uniform', 'metric': 'manhattan'}. Best is trial 24 with value: 0.734373103531982.\n",
            "[I 2025-09-25 23:15:45,533] Trial 38 finished with value: 0.665554072096128 and parameters: {'n_neighbors': 5, 'weights': 'distance', 'metric': 'euclidean'}. Best is trial 24 with value: 0.734373103531982.\n",
            "[I 2025-09-25 23:15:45,552] Trial 39 finished with value: 0.6907391673746813 and parameters: {'n_neighbors': 25, 'weights': 'uniform', 'metric': 'manhattan'}. Best is trial 24 with value: 0.734373103531982.\n",
            "[I 2025-09-25 23:15:45,566] Trial 40 finished with value: 0.6748998664886515 and parameters: {'n_neighbors': 3, 'weights': 'distance', 'metric': 'minkowski'}. Best is trial 24 with value: 0.734373103531982.\n",
            "[I 2025-09-25 23:15:45,583] Trial 41 finished with value: 0.7019055710644496 and parameters: {'n_neighbors': 3, 'weights': 'distance', 'metric': 'manhattan'}. Best is trial 24 with value: 0.734373103531982.\n",
            "[I 2025-09-25 23:15:45,600] Trial 42 finished with value: 0.7083990775579561 and parameters: {'n_neighbors': 5, 'weights': 'distance', 'metric': 'manhattan'}. Best is trial 24 with value: 0.734373103531982.\n",
            "[I 2025-09-25 23:15:45,616] Trial 43 finished with value: 0.7260589877412308 and parameters: {'n_neighbors': 8, 'weights': 'distance', 'metric': 'manhattan'}. Best is trial 24 with value: 0.734373103531982.\n",
            "[I 2025-09-25 23:15:45,632] Trial 44 finished with value: 0.734373103531982 and parameters: {'n_neighbors': 7, 'weights': 'distance', 'metric': 'manhattan'}. Best is trial 24 with value: 0.734373103531982.\n",
            "[I 2025-09-25 23:15:45,651] Trial 45 finished with value: 0.7130719747542178 and parameters: {'n_neighbors': 9, 'weights': 'distance', 'metric': 'manhattan'}. Best is trial 24 with value: 0.734373103531982.\n",
            "[I 2025-09-25 23:15:45,669] Trial 46 finished with value: 0.734373103531982 and parameters: {'n_neighbors': 7, 'weights': 'distance', 'metric': 'manhattan'}. Best is trial 24 with value: 0.734373103531982.\n",
            "[I 2025-09-25 23:15:45,685] Trial 47 finished with value: 0.734373103531982 and parameters: {'n_neighbors': 7, 'weights': 'distance', 'metric': 'manhattan'}. Best is trial 24 with value: 0.734373103531982.\n",
            "[I 2025-09-25 23:15:45,700] Trial 48 finished with value: 0.734373103531982 and parameters: {'n_neighbors': 7, 'weights': 'distance', 'metric': 'manhattan'}. Best is trial 24 with value: 0.734373103531982.\n",
            "[I 2025-09-25 23:15:45,718] Trial 49 finished with value: 0.6393372982158029 and parameters: {'n_neighbors': 10, 'weights': 'uniform', 'metric': 'euclidean'}. Best is trial 24 with value: 0.734373103531982.\n",
            "/usr/local/lib/python3.12/dist-packages/sklearn/utils/validation.py:2732: UserWarning: X has feature names, but KNeighborsClassifier was fitted without feature names\n",
            "  warnings.warn(\n"
          ]
        },
        {
          "output_type": "display_data",
          "data": {
            "text/plain": [
              "shape: (3, 8)\n",
              "┌──────────────┬─────────────┬──────────┬──────────┬───────────┬──────────┬──────────┬─────────────┐\n",
              "│ Model        ┆ Best Params ┆ ROC AUC  ┆ Accuracy ┆ Precision ┆ Recall   ┆ F1 Score ┆ Confusion   │\n",
              "│ ---          ┆ ---         ┆ ---      ┆ ---      ┆ ---       ┆ ---      ┆ ---      ┆ Matrix      │\n",
              "│ str          ┆ struct[12]  ┆ f64      ┆ f64      ┆ f64       ┆ f64      ┆ f64      ┆ ---         │\n",
              "│              ┆             ┆          ┆          ┆           ┆          ┆          ┆ list[list[i │\n",
              "│              ┆             ┆          ┆          ┆           ┆          ┆          ┆ 64]]        │\n",
              "╞══════════════╪═════════════╪══════════╪══════════╪═══════════╪══════════╪══════════╪═════════════╡\n",
              "│ Logistic     ┆ {null,null, ┆ 0.871465 ┆ 0.869565 ┆ 0.910891  ┆ 0.859813 ┆ 0.884615 ┆ [[68, 9],   │\n",
              "│ Regression   ┆ null,null,n ┆          ┆          ┆           ┆          ┆          ┆ [15, 92]]   │\n",
              "│              ┆ ull,null…   ┆          ┆          ┆           ┆          ┆          ┆             │\n",
              "│ XGBoost      ┆ {643,0.0098 ┆ 0.901323 ┆ 0.902174 ┆ 0.92381   ┆ 0.906542 ┆ 0.915094 ┆ [[69, 8],   │\n",
              "│              ┆ 68,6,2,0.89 ┆          ┆          ┆           ┆          ┆          ┆ [10, 97]]   │\n",
              "│              ┆ 3745,0.7…   ┆          ┆          ┆           ┆          ┆          ┆             │\n",
              "│ KNN          ┆ {null,null, ┆ 0.734373 ┆ 0.722826 ┆ 0.825581  ┆ 0.663551 ┆ 0.735751 ┆ [[62, 15],  │\n",
              "│              ┆ null,null,n ┆          ┆          ┆           ┆          ┆          ┆ [36, 71]]   │\n",
              "│              ┆ ull,null…   ┆          ┆          ┆           ┆          ┆          ┆             │\n",
              "└──────────────┴─────────────┴──────────┴──────────┴───────────┴──────────┴──────────┴─────────────┘"
            ],
            "text/html": [
              "<div><style>\n",
              ".dataframe > thead > tr,\n",
              ".dataframe > tbody > tr {\n",
              "  text-align: right;\n",
              "  white-space: pre-wrap;\n",
              "}\n",
              "</style>\n",
              "<small>shape: (3, 8)</small><table border=\"1\" class=\"dataframe\"><thead><tr><th>Model</th><th>Best Params</th><th>ROC AUC</th><th>Accuracy</th><th>Precision</th><th>Recall</th><th>F1 Score</th><th>Confusion Matrix</th></tr><tr><td>str</td><td>struct[12]</td><td>f64</td><td>f64</td><td>f64</td><td>f64</td><td>f64</td><td>list[list[i64]]</td></tr></thead><tbody><tr><td>&quot;Logistic Regression&quot;</td><td>{null,null,null,null,null,null,null,8895.658442,&quot;lbfgs&quot;,null,null,null}</td><td>0.871465</td><td>0.869565</td><td>0.910891</td><td>0.859813</td><td>0.884615</td><td>[[68, 9], [15, 92]]</td></tr><tr><td>&quot;XGBoost&quot;</td><td>{643,0.009868,6,2,0.893745,0.727295,0.974085,null,null,null,null,null}</td><td>0.901323</td><td>0.902174</td><td>0.92381</td><td>0.906542</td><td>0.915094</td><td>[[69, 8], [10, 97]]</td></tr><tr><td>&quot;KNN&quot;</td><td>{null,null,null,null,null,null,null,null,null,7,&quot;distance&quot;,&quot;manhattan&quot;}</td><td>0.734373</td><td>0.722826</td><td>0.825581</td><td>0.663551</td><td>0.735751</td><td>[[62, 15], [36, 71]]</td></tr></tbody></table></div>"
            ]
          },
          "metadata": {}
        }
      ]
    },
    {
      "cell_type": "markdown",
      "source": [
        "# Evaluation\n",
        "---"
      ],
      "metadata": {
        "id": "fNCkEn7cLHVa"
      }
    },
    {
      "cell_type": "code",
      "metadata": {
        "colab": {
          "base_uri": "https://localhost:8080/"
        },
        "id": "aeb130a4",
        "outputId": "636bf137-75ec-4b2a-9923-4f74ee425cd4"
      },
      "source": [
        "# Extract best parameters for XGBoost directly from the study object\n",
        "xgb_best_params = study_xgb.best_params\n",
        "\n",
        "# Initialize and train the final XGBoost model with the best parameters\n",
        "final_xgb_model = XGBClassifier(**xgb_best_params, random_state=42)\n",
        "final_xgb_model.fit(X_train_resampled, y_train_resampled)\n",
        "\n",
        "# Evaluate the final model on the test set\n",
        "y_pred_final_xgb = final_xgb_model.predict(X_test.to_numpy())\n",
        "\n",
        "final_accuracy = accuracy_score(y_test, y_pred_final_xgb)\n",
        "final_precision = precision_score(y_test, y_pred_final_xgb)\n",
        "final_recall = recall_score(y_test, y_pred_final_xgb)\n",
        "final_f1 = f1_score(y_test, y_pred_final_xgb)\n",
        "final_roc_auc = roc_auc_score(y_test, y_pred_final_xgb)\n",
        "final_conf_matrix = confusion_matrix(y_test, y_pred_final_xgb)\n",
        "\n",
        "print(\"Final XGBoost Model Performance:\")\n",
        "print(f\"Accuracy: {final_accuracy:.4f}\")\n",
        "print(f\"Precision: {final_precision:.4f}\")\n",
        "print(f\"Recall: {final_recall:.4f}\")\n",
        "print(f\"F1 Score: {final_f1:.4f}\")\n",
        "print(f\"ROC AUC: {final_roc_auc:.4f}\")\n",
        "print(\"Confusion Matrix:\")\n",
        "print(final_conf_matrix)"
      ],
      "execution_count": 171,
      "outputs": [
        {
          "output_type": "stream",
          "name": "stdout",
          "text": [
            "Final XGBoost Model Performance:\n",
            "Accuracy: 0.9022\n",
            "Precision: 0.9238\n",
            "Recall: 0.9065\n",
            "F1 Score: 0.9151\n",
            "ROC AUC: 0.9013\n",
            "Confusion Matrix:\n",
            "[[69  8]\n",
            " [10 97]]\n"
          ]
        }
      ]
    },
    {
      "cell_type": "code",
      "metadata": {
        "colab": {
          "base_uri": "https://localhost:8080/",
          "height": 564
        },
        "id": "9895a187",
        "outputId": "e11c59ea-24fa-4152-83d6-90b495f3678e"
      },
      "source": [
        "# Visualize the confusion matrix\n",
        "plt.figure(figsize=(8, 6))\n",
        "sns.heatmap(final_conf_matrix, annot=True, fmt='d', cmap='Blues', cbar=False,\n",
        "            xticklabels=['Predicted Negative', 'Predicted Positive'],\n",
        "            yticklabels=['Actual Negative', 'Actual Positive'])\n",
        "plt.xlabel('Predicted Label')\n",
        "plt.ylabel('True Label')\n",
        "plt.title('Confusion Matrix for Final XGBoost Model')\n",
        "plt.show()"
      ],
      "execution_count": 172,
      "outputs": [
        {
          "output_type": "display_data",
          "data": {
            "text/plain": [
              "<Figure size 800x600 with 1 Axes>"
            ],
            "image/png": "[encoded data removed]"
          },
          "metadata": {}
        }
      ]
    },
    {
      "cell_type": "code",
      "source": [],
      "metadata": {
        "id": "RK3hWd8wLEbt"
      },
      "execution_count": 172,
      "outputs": []
    },
    {
      "cell_type": "code",
      "metadata": {
        "colab": {
          "base_uri": "https://localhost:8080/",
          "height": 1000
        },
        "id": "8e7506cf",
        "outputId": "8d0d70dc-373f-4b42-95ae-204819516ce5"
      },
      "source": [
        "# get feature importances from the trained XGBoost model\n",
        "feature_importances = final_xgb_model.feature_importances_\n",
        "\n",
        "# get the feature names from the training data\n",
        "feature_names = X_train.columns\n",
        "\n",
        "# create a DataFrame to display feature importance\n",
        "importance_df = pl.DataFrame({'Feature': feature_names, 'Importance': feature_importances})\n",
        "\n",
        "# sort the DataFrame by importance in descending order\n",
        "importance_df = importance_df.sort(by='Importance', descending=True)\n",
        "\n",
        "# Display the feature importance\n",
        "print(\"Feature Significance (Importance) from XGBoost Model:\")\n",
        "display(importance_df)\n",
        "\n",
        "# Optionally, visualize the feature importance\n",
        "plt.figure(figsize=(10, 6))\n",
        "sns.barplot(x='Importance', y='Feature', data=importance_df.to_pandas()) # Convert to pandas for seaborn plotting\n",
        "plt.title('Feature Importance from XGBoost Model')\n",
        "plt.xlabel('Importance')\n",
        "plt.ylabel('Feature')\n",
        "plt.tight_layout()\n",
        "plt.show()"
      ],
      "execution_count": 174,
      "outputs": [
        {
          "output_type": "stream",
          "name": "stdout",
          "text": [
            "Feature Significance (Importance) from XGBoost Model:\n"
          ]
        },
        {
          "output_type": "display_data",
          "data": {
            "text/plain": [
              "shape: (15, 2)\n",
              "┌───────────────────┬────────────┐\n",
              "│ Feature           ┆ Importance │\n",
              "│ ---               ┆ ---        │\n",
              "│ str               ┆ f32        │\n",
              "╞═══════════════════╪════════════╡\n",
              "│ ST_Slope_Flat     ┆ 0.285315   │\n",
              "│ ExerciseAngina_Y  ┆ 0.178052   │\n",
              "│ ChestPainType_ASY ┆ 0.120025   │\n",
              "│ Sex_F             ┆ 0.061365   │\n",
              "│ ST_Slope_Down     ┆ 0.058419   │\n",
              "│ …                 ┆ …          │\n",
              "│ RestingECG_LVH    ┆ 0.027753   │\n",
              "│ Age               ┆ 0.027183   │\n",
              "│ ChestPainType_NAP ┆ 0.024554   │\n",
              "│ RestingECG_ST     ┆ 0.023818   │\n",
              "│ ChestPainType_TA  ┆ 0.020555   │\n",
              "└───────────────────┴────────────┘"
            ],
            "text/html": [
              "<div><style>\n",
              ".dataframe > thead > tr,\n",
              ".dataframe > tbody > tr {\n",
              "  text-align: right;\n",
              "  white-space: pre-wrap;\n",
              "}\n",
              "</style>\n",
              "<small>shape: (15, 2)</small><table border=\"1\" class=\"dataframe\"><thead><tr><th>Feature</th><th>Importance</th></tr><tr><td>str</td><td>f32</td></tr></thead><tbody><tr><td>&quot;ST_Slope_Flat&quot;</td><td>0.285315</td></tr><tr><td>&quot;ExerciseAngina_Y&quot;</td><td>0.178052</td></tr><tr><td>&quot;ChestPainType_ASY&quot;</td><td>0.120025</td></tr><tr><td>&quot;Sex_F&quot;</td><td>0.061365</td></tr><tr><td>&quot;ST_Slope_Down&quot;</td><td>0.058419</td></tr><tr><td>&hellip;</td><td>&hellip;</td></tr><tr><td>&quot;RestingECG_LVH&quot;</td><td>0.027753</td></tr><tr><td>&quot;Age&quot;</td><td>0.027183</td></tr><tr><td>&quot;ChestPainType_NAP&quot;</td><td>0.024554</td></tr><tr><td>&quot;RestingECG_ST&quot;</td><td>0.023818</td></tr><tr><td>&quot;ChestPainType_TA&quot;</td><td>0.020555</td></tr></tbody></table></div>"
            ]
          },
          "metadata": {}
        },
        {
          "output_type": "display_data",
          "data": {
            "text/plain": [
              "<Figure size 1000x600 with 1 Axes>"
            ],
            "image/png": "[encoded data removed]"
          },
          "metadata": {}
        }
      ]
    },
    {
      "cell_type": "code",
      "source": [
        "from pathlib import Path\n",
        "focus_path = Path(\"/content/drive/MyDrive/Colab Notebooks/Heart Disease.ipynb\")"
      ],
      "metadata": {
        "id": "9c0doMMxLjoI"
      },
      "execution_count": 175,
      "outputs": []
    },
    {
      "cell_type": "code",
      "source": [
        "!jupyter nbconvert --to html \"{focus_path}\""
      ],
      "metadata": {
        "id": "OT_QCG-EL29I"
      },
      "execution_count": null,
      "outputs": []
    }
  ]
}