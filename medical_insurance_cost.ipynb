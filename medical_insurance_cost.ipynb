{
 "cells": [
  {
   "cell_type": "markdown",
   "id": "316a4295",
   "metadata": {},
   "source": [
    "# Introduction\n",
    "---\n",
    "In this project, we will see what variables increase the charges from insurance. Then, we will look at the most significant variables.\n",
    "\n",
    "# Introduction to dataset\n",
    "---\n",
    "We are given 6 features and 1 target variables. Three of the features are qualitative, the rest are quantitative. `BMI` is continuous, while the number of `children` is discrete, which makes sense, we can't have half a child. And the target variables, `charges` is continuous because it represents a money amount, which we know is a float and is not really countable. \n",
    "\n",
    "Qualitative Variables:\n",
    "- Sex (str)\n",
    "- Smoker (str)\n",
    "- Region (str)\n",
    "\n",
    "Quantitative Variables: \n",
    "- BMI (f64)\n",
    "- Children (i64)\n",
    "- Charges (f64)"
   ]
  },
  {
   "cell_type": "markdown",
   "id": "269214bd",
   "metadata": {},
   "source": [
    "# Understanding the data\n",
    "---\n",
    "To understand the data, we can look at the proportion of sex and region to see if it's balanced and just to see if maybe a certain region is paying more. Another thing we want to look at is the distribution of quantitative variables to check if there is a skewness in the data, if there are outliers. For children, we could also do something like a histogram since it's a discrete variable and we can assume that there's not going to be something extreme for the number of children. We can also just find the average number of children as well. The next thing we want to do is to encode the qualitative variables, so they are represented as numbers that map to a certain string value. The reason we do this is because most models don't accept string values, only numerical values. "
   ]
  },
  {
   "cell_type": "code",
   "execution_count": 6,
   "id": "77bffd94",
   "metadata": {},
   "outputs": [],
   "source": [
    "import kagglehub\n",
    "\n",
    "path = kagglehub.dataset_download(\"mosapabdelghany/medical-insurance-cost-dataset\")"
   ]
  },
  {
   "cell_type": "code",
   "execution_count": 7,
   "id": "8946f459",
   "metadata": {},
   "outputs": [
    {
     "data": {
      "text/html": [
       "<div><style>\n",
       ".dataframe > thead > tr,\n",
       ".dataframe > tbody > tr {\n",
       "  text-align: right;\n",
       "  white-space: pre-wrap;\n",
       "}\n",
       "</style>\n",
       "<small>shape: (5, 7)</small><table border=\"1\" class=\"dataframe\"><thead><tr><th>age</th><th>sex</th><th>bmi</th><th>children</th><th>smoker</th><th>region</th><th>charges</th></tr><tr><td>i64</td><td>str</td><td>f64</td><td>i64</td><td>str</td><td>str</td><td>f64</td></tr></thead><tbody><tr><td>19</td><td>&quot;female&quot;</td><td>27.9</td><td>0</td><td>&quot;yes&quot;</td><td>&quot;southwest&quot;</td><td>16884.924</td></tr><tr><td>18</td><td>&quot;male&quot;</td><td>33.77</td><td>1</td><td>&quot;no&quot;</td><td>&quot;southeast&quot;</td><td>1725.5523</td></tr><tr><td>28</td><td>&quot;male&quot;</td><td>33.0</td><td>3</td><td>&quot;no&quot;</td><td>&quot;southeast&quot;</td><td>4449.462</td></tr><tr><td>33</td><td>&quot;male&quot;</td><td>22.705</td><td>0</td><td>&quot;no&quot;</td><td>&quot;northwest&quot;</td><td>21984.47061</td></tr><tr><td>32</td><td>&quot;male&quot;</td><td>28.88</td><td>0</td><td>&quot;no&quot;</td><td>&quot;northwest&quot;</td><td>3866.8552</td></tr></tbody></table></div>"
      ],
      "text/plain": [
       "shape: (5, 7)\n",
       "┌─────┬────────┬────────┬──────────┬────────┬───────────┬─────────────┐\n",
       "│ age ┆ sex    ┆ bmi    ┆ children ┆ smoker ┆ region    ┆ charges     │\n",
       "│ --- ┆ ---    ┆ ---    ┆ ---      ┆ ---    ┆ ---       ┆ ---         │\n",
       "│ i64 ┆ str    ┆ f64    ┆ i64      ┆ str    ┆ str       ┆ f64         │\n",
       "╞═════╪════════╪════════╪══════════╪════════╪═══════════╪═════════════╡\n",
       "│ 19  ┆ female ┆ 27.9   ┆ 0        ┆ yes    ┆ southwest ┆ 16884.924   │\n",
       "│ 18  ┆ male   ┆ 33.77  ┆ 1        ┆ no     ┆ southeast ┆ 1725.5523   │\n",
       "│ 28  ┆ male   ┆ 33.0   ┆ 3        ┆ no     ┆ southeast ┆ 4449.462    │\n",
       "│ 33  ┆ male   ┆ 22.705 ┆ 0        ┆ no     ┆ northwest ┆ 21984.47061 │\n",
       "│ 32  ┆ male   ┆ 28.88  ┆ 0        ┆ no     ┆ northwest ┆ 3866.8552   │\n",
       "└─────┴────────┴────────┴──────────┴────────┴───────────┴─────────────┘"
      ]
     },
     "execution_count": 7,
     "metadata": {},
     "output_type": "execute_result"
    }
   ],
   "source": [
    "import polars as pl\n",
    "from pathlib import Path\n",
    "\n",
    "df = pl.read_csv(Path(path) / \"insurance.csv\")\n",
    "df.head()"
   ]
  },
  {
   "cell_type": "code",
   "execution_count": 8,
   "id": "87f2c40d",
   "metadata": {},
   "outputs": [
    {
     "data": {
      "text/html": [
       "<div><style>\n",
       ".dataframe > thead > tr,\n",
       ".dataframe > tbody > tr {\n",
       "  text-align: right;\n",
       "  white-space: pre-wrap;\n",
       "}\n",
       "</style>\n",
       "<small>shape: (1, 7)</small><table border=\"1\" class=\"dataframe\"><thead><tr><th>age</th><th>sex</th><th>bmi</th><th>children</th><th>smoker</th><th>region</th><th>charges</th></tr><tr><td>u32</td><td>u32</td><td>u32</td><td>u32</td><td>u32</td><td>u32</td><td>u32</td></tr></thead><tbody><tr><td>0</td><td>0</td><td>0</td><td>0</td><td>0</td><td>0</td><td>0</td></tr></tbody></table></div>"
      ],
      "text/plain": [
       "shape: (1, 7)\n",
       "┌─────┬─────┬─────┬──────────┬────────┬────────┬─────────┐\n",
       "│ age ┆ sex ┆ bmi ┆ children ┆ smoker ┆ region ┆ charges │\n",
       "│ --- ┆ --- ┆ --- ┆ ---      ┆ ---    ┆ ---    ┆ ---     │\n",
       "│ u32 ┆ u32 ┆ u32 ┆ u32      ┆ u32    ┆ u32    ┆ u32     │\n",
       "╞═════╪═════╪═════╪══════════╪════════╪════════╪═════════╡\n",
       "│ 0   ┆ 0   ┆ 0   ┆ 0        ┆ 0      ┆ 0      ┆ 0       │\n",
       "└─────┴─────┴─────┴──────────┴────────┴────────┴─────────┘"
      ]
     },
     "execution_count": 8,
     "metadata": {},
     "output_type": "execute_result"
    }
   ],
   "source": [
    "df.null_count()"
   ]
  },
  {
   "cell_type": "code",
   "execution_count": null,
   "id": "9dc3ea2d",
   "metadata": {},
   "outputs": [],
   "source": []
  }
 ],
 "metadata": {
  "kernelspec": {
   "display_name": "data-modeling-sp500-forecasting",
   "language": "python",
   "name": "python3"
  },
  "language_info": {
   "codemirror_mode": {
    "name": "ipython",
    "version": 3
   },
   "file_extension": ".py",
   "mimetype": "text/x-python",
   "name": "python",
   "nbconvert_exporter": "python",
   "pygments_lexer": "ipython3",
   "version": "3.12.11"
  }
 },
 "nbformat": 4,
 "nbformat_minor": 5
}
